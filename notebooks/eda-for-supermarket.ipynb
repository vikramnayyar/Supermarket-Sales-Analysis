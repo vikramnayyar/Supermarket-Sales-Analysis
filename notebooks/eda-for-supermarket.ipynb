{
 "cells": [
  {
   "cell_type": "markdown",
   "id": "bright-central",
   "metadata": {
    "papermill": {
     "duration": 0.066412,
     "end_time": "2021-06-22T14:36:08.514783",
     "exception": false,
     "start_time": "2021-06-22T14:36:08.448371",
     "status": "completed"
    },
    "tags": []
   },
   "source": [
    "# **Importing Libraries and Dataset**"
   ]
  },
  {
   "cell_type": "code",
   "execution_count": 1,
   "id": "basic-apollo",
   "metadata": {
    "papermill": {
     "duration": 0.926924,
     "end_time": "2021-06-22T14:36:09.505988",
     "exception": false,
     "start_time": "2021-06-22T14:36:08.579064",
     "status": "completed"
    },
    "tags": []
   },
   "outputs": [],
   "source": [
    "# Importing Libraries\n",
    "import pandas as pd\n",
    "import numpy as np\n",
    "\n",
    "import seaborn as sns\n",
    "# import matplotlib as plt\n",
    "import matplotlib.pyplot as plt\n",
    "from matplotlib import patches as mpatches\n",
    "import matplotlib.cm as cm\n",
    "\n",
    "# Reading Dataset\n",
    "supermarket_ram = pd.read_csv(\"../data/data.csv\")\n",
    "supermarket_ram.head()\n",
    "\n",
    "sns.set_style(\"white\")\n",
    "# sns.set(font_scale=1)"
   ]
  },
  {
   "cell_type": "markdown",
   "id": "processed-belgium",
   "metadata": {
    "papermill": {
     "duration": 0.064101,
     "end_time": "2021-06-22T14:36:09.634834",
     "exception": false,
     "start_time": "2021-06-22T14:36:09.570733",
     "status": "completed"
    },
    "tags": []
   },
   "source": [
    "* **Invoice:** Represents the order ID.\n",
    "* **Branch:** Branch of the supermarket.\n",
    "* **City:** City of the supermarket. (**Note:** Branch and city represent the same information.) \n",
    "* **Customer Type:** Type of customer (member or non-member).\n",
    "* **Product line:** Type of the product category.\n",
    "* **Unit Price:** Price of single unit.\n",
    "* **Quantity:** Quantity of ordered product.\n",
    "* **Tax 5%:** Tax on order.\n",
    "* **Total:** Total value of order.\n",
    "* **Date:** Order date.\n",
    "* **Time:** Time of day for order.\n",
    "* **Payment:** Mode of payment.\n",
    "* **cogs:** Cost of order. \n",
    "* **gross margin percentage:** Profit margin of the order.\n",
    "* **gross income:** Total profit of the order.\n",
    "* **Rating:** Customer rating received.\n"
   ]
  },
  {
   "cell_type": "markdown",
   "id": "little-artwork",
   "metadata": {
    "papermill": {
     "duration": 0.066138,
     "end_time": "2021-06-22T14:36:09.765425",
     "exception": false,
     "start_time": "2021-06-22T14:36:09.699287",
     "status": "completed"
    },
    "tags": []
   },
   "source": [
    "# **Data Description & Structure**"
   ]
  },
  {
   "cell_type": "markdown",
   "id": "celtic-pregnancy",
   "metadata": {
    "papermill": {
     "duration": 0.066399,
     "end_time": "2021-06-22T14:36:09.896751",
     "exception": false,
     "start_time": "2021-06-22T14:36:09.830352",
     "status": "completed"
    },
    "tags": []
   },
   "source": [
    "#### **A. Column-Wise Structure of Dataframe**"
   ]
  },
  {
   "cell_type": "code",
   "execution_count": 2,
   "id": "novel-resident",
   "metadata": {
    "papermill": {
     "duration": 0.098385,
     "end_time": "2021-06-22T14:36:10.060913",
     "exception": false,
     "start_time": "2021-06-22T14:36:09.962528",
     "status": "completed"
    },
    "tags": []
   },
   "outputs": [
    {
     "name": "stdout",
     "output_type": "stream",
     "text": [
      "<class 'pandas.core.frame.DataFrame'>\n",
      "RangeIndex: 1000 entries, 0 to 999\n",
      "Data columns (total 17 columns):\n",
      " #   Column                   Non-Null Count  Dtype  \n",
      "---  ------                   --------------  -----  \n",
      " 0   Invoice ID               1000 non-null   object \n",
      " 1   Branch                   1000 non-null   object \n",
      " 2   City                     1000 non-null   object \n",
      " 3   Customer type            1000 non-null   object \n",
      " 4   Gender                   1000 non-null   object \n",
      " 5   Product line             1000 non-null   object \n",
      " 6   Unit price               1000 non-null   float64\n",
      " 7   Quantity                 1000 non-null   int64  \n",
      " 8   Tax 5%                   1000 non-null   float64\n",
      " 9   Total                    1000 non-null   float64\n",
      " 10  Date                     1000 non-null   object \n",
      " 11  Time                     1000 non-null   object \n",
      " 12  Payment                  1000 non-null   object \n",
      " 13  cogs                     1000 non-null   float64\n",
      " 14  gross margin percentage  1000 non-null   float64\n",
      " 15  gross income             1000 non-null   float64\n",
      " 16  Rating                   1000 non-null   float64\n",
      "dtypes: float64(7), int64(1), object(9)\n",
      "memory usage: 132.9+ KB\n"
     ]
    }
   ],
   "source": [
    "supermarket_ram.info()"
   ]
  },
  {
   "cell_type": "markdown",
   "id": "skilled-audit",
   "metadata": {
    "papermill": {
     "duration": 0.06454,
     "end_time": "2021-06-22T14:36:10.191751",
     "exception": false,
     "start_time": "2021-06-22T14:36:10.127211",
     "status": "completed"
    },
    "tags": []
   },
   "source": [
    "#### **B. Column-Wise Statistical Description of Dataframe**"
   ]
  },
  {
   "cell_type": "code",
   "execution_count": 3,
   "id": "systematic-devon",
   "metadata": {
    "papermill": {
     "duration": 0.117321,
     "end_time": "2021-06-22T14:36:10.373720",
     "exception": false,
     "start_time": "2021-06-22T14:36:10.256399",
     "status": "completed"
    },
    "tags": []
   },
   "outputs": [
    {
     "data": {
      "text/html": [
       "<div>\n",
       "<style scoped>\n",
       "    .dataframe tbody tr th:only-of-type {\n",
       "        vertical-align: middle;\n",
       "    }\n",
       "\n",
       "    .dataframe tbody tr th {\n",
       "        vertical-align: top;\n",
       "    }\n",
       "\n",
       "    .dataframe thead th {\n",
       "        text-align: right;\n",
       "    }\n",
       "</style>\n",
       "<table border=\"1\" class=\"dataframe\">\n",
       "  <thead>\n",
       "    <tr style=\"text-align: right;\">\n",
       "      <th></th>\n",
       "      <th>Unit price</th>\n",
       "      <th>Quantity</th>\n",
       "      <th>Tax 5%</th>\n",
       "      <th>Total</th>\n",
       "      <th>cogs</th>\n",
       "      <th>gross margin percentage</th>\n",
       "      <th>gross income</th>\n",
       "      <th>Rating</th>\n",
       "    </tr>\n",
       "  </thead>\n",
       "  <tbody>\n",
       "    <tr>\n",
       "      <th>count</th>\n",
       "      <td>1000.000000</td>\n",
       "      <td>1000.000000</td>\n",
       "      <td>1000.000000</td>\n",
       "      <td>1000.000000</td>\n",
       "      <td>1000.00000</td>\n",
       "      <td>1.000000e+03</td>\n",
       "      <td>1000.000000</td>\n",
       "      <td>1000.00000</td>\n",
       "    </tr>\n",
       "    <tr>\n",
       "      <th>mean</th>\n",
       "      <td>55.672130</td>\n",
       "      <td>5.510000</td>\n",
       "      <td>15.379369</td>\n",
       "      <td>322.966749</td>\n",
       "      <td>307.58738</td>\n",
       "      <td>4.761905e+00</td>\n",
       "      <td>15.379369</td>\n",
       "      <td>6.97270</td>\n",
       "    </tr>\n",
       "    <tr>\n",
       "      <th>std</th>\n",
       "      <td>26.494628</td>\n",
       "      <td>2.923431</td>\n",
       "      <td>11.708825</td>\n",
       "      <td>245.885335</td>\n",
       "      <td>234.17651</td>\n",
       "      <td>6.131498e-14</td>\n",
       "      <td>11.708825</td>\n",
       "      <td>1.71858</td>\n",
       "    </tr>\n",
       "    <tr>\n",
       "      <th>min</th>\n",
       "      <td>10.080000</td>\n",
       "      <td>1.000000</td>\n",
       "      <td>0.508500</td>\n",
       "      <td>10.678500</td>\n",
       "      <td>10.17000</td>\n",
       "      <td>4.761905e+00</td>\n",
       "      <td>0.508500</td>\n",
       "      <td>4.00000</td>\n",
       "    </tr>\n",
       "    <tr>\n",
       "      <th>25%</th>\n",
       "      <td>32.875000</td>\n",
       "      <td>3.000000</td>\n",
       "      <td>5.924875</td>\n",
       "      <td>124.422375</td>\n",
       "      <td>118.49750</td>\n",
       "      <td>4.761905e+00</td>\n",
       "      <td>5.924875</td>\n",
       "      <td>5.50000</td>\n",
       "    </tr>\n",
       "    <tr>\n",
       "      <th>50%</th>\n",
       "      <td>55.230000</td>\n",
       "      <td>5.000000</td>\n",
       "      <td>12.088000</td>\n",
       "      <td>253.848000</td>\n",
       "      <td>241.76000</td>\n",
       "      <td>4.761905e+00</td>\n",
       "      <td>12.088000</td>\n",
       "      <td>7.00000</td>\n",
       "    </tr>\n",
       "    <tr>\n",
       "      <th>75%</th>\n",
       "      <td>77.935000</td>\n",
       "      <td>8.000000</td>\n",
       "      <td>22.445250</td>\n",
       "      <td>471.350250</td>\n",
       "      <td>448.90500</td>\n",
       "      <td>4.761905e+00</td>\n",
       "      <td>22.445250</td>\n",
       "      <td>8.50000</td>\n",
       "    </tr>\n",
       "    <tr>\n",
       "      <th>max</th>\n",
       "      <td>99.960000</td>\n",
       "      <td>10.000000</td>\n",
       "      <td>49.650000</td>\n",
       "      <td>1042.650000</td>\n",
       "      <td>993.00000</td>\n",
       "      <td>4.761905e+00</td>\n",
       "      <td>49.650000</td>\n",
       "      <td>10.00000</td>\n",
       "    </tr>\n",
       "  </tbody>\n",
       "</table>\n",
       "</div>"
      ],
      "text/plain": [
       "        Unit price     Quantity       Tax 5%        Total        cogs  \\\n",
       "count  1000.000000  1000.000000  1000.000000  1000.000000  1000.00000   \n",
       "mean     55.672130     5.510000    15.379369   322.966749   307.58738   \n",
       "std      26.494628     2.923431    11.708825   245.885335   234.17651   \n",
       "min      10.080000     1.000000     0.508500    10.678500    10.17000   \n",
       "25%      32.875000     3.000000     5.924875   124.422375   118.49750   \n",
       "50%      55.230000     5.000000    12.088000   253.848000   241.76000   \n",
       "75%      77.935000     8.000000    22.445250   471.350250   448.90500   \n",
       "max      99.960000    10.000000    49.650000  1042.650000   993.00000   \n",
       "\n",
       "       gross margin percentage  gross income      Rating  \n",
       "count             1.000000e+03   1000.000000  1000.00000  \n",
       "mean              4.761905e+00     15.379369     6.97270  \n",
       "std               6.131498e-14     11.708825     1.71858  \n",
       "min               4.761905e+00      0.508500     4.00000  \n",
       "25%               4.761905e+00      5.924875     5.50000  \n",
       "50%               4.761905e+00     12.088000     7.00000  \n",
       "75%               4.761905e+00     22.445250     8.50000  \n",
       "max               4.761905e+00     49.650000    10.00000  "
      ]
     },
     "execution_count": 3,
     "metadata": {},
     "output_type": "execute_result"
    }
   ],
   "source": [
    "supermarket_ram.describe()"
   ]
  },
  {
   "cell_type": "markdown",
   "id": "aerial-marathon",
   "metadata": {
    "papermill": {
     "duration": 0.066336,
     "end_time": "2021-06-22T14:36:10.505737",
     "exception": false,
     "start_time": "2021-06-22T14:36:10.439401",
     "status": "completed"
    },
    "tags": []
   },
   "source": [
    "#### **C. Looking for any NaNs**"
   ]
  },
  {
   "cell_type": "code",
   "execution_count": 4,
   "id": "laughing-reserve",
   "metadata": {
    "papermill": {
     "duration": 0.084942,
     "end_time": "2021-06-22T14:36:10.657916",
     "exception": false,
     "start_time": "2021-06-22T14:36:10.572974",
     "status": "completed"
    },
    "tags": []
   },
   "outputs": [
    {
     "data": {
      "text/html": [
       "<div>\n",
       "<style scoped>\n",
       "    .dataframe tbody tr th:only-of-type {\n",
       "        vertical-align: middle;\n",
       "    }\n",
       "\n",
       "    .dataframe tbody tr th {\n",
       "        vertical-align: top;\n",
       "    }\n",
       "\n",
       "    .dataframe thead th {\n",
       "        text-align: right;\n",
       "    }\n",
       "</style>\n",
       "<table border=\"1\" class=\"dataframe\">\n",
       "  <thead>\n",
       "    <tr style=\"text-align: right;\">\n",
       "      <th></th>\n",
       "      <th>Invoice ID</th>\n",
       "      <th>Branch</th>\n",
       "      <th>City</th>\n",
       "      <th>Customer type</th>\n",
       "      <th>Gender</th>\n",
       "      <th>Product line</th>\n",
       "      <th>Unit price</th>\n",
       "      <th>Quantity</th>\n",
       "      <th>Tax 5%</th>\n",
       "      <th>Total</th>\n",
       "      <th>Date</th>\n",
       "      <th>Time</th>\n",
       "      <th>Payment</th>\n",
       "      <th>cogs</th>\n",
       "      <th>gross margin percentage</th>\n",
       "      <th>gross income</th>\n",
       "      <th>Rating</th>\n",
       "    </tr>\n",
       "  </thead>\n",
       "  <tbody>\n",
       "  </tbody>\n",
       "</table>\n",
       "</div>"
      ],
      "text/plain": [
       "Empty DataFrame\n",
       "Columns: [Invoice ID, Branch, City, Customer type, Gender, Product line, Unit price, Quantity, Tax 5%, Total, Date, Time, Payment, cogs, gross margin percentage, gross income, Rating]\n",
       "Index: []"
      ]
     },
     "execution_count": 4,
     "metadata": {},
     "output_type": "execute_result"
    }
   ],
   "source": [
    "nan_df = supermarket_ram[supermarket_ram.isna().any(axis=1)]\n",
    "nan_df.head(10)"
   ]
  },
  {
   "cell_type": "markdown",
   "id": "central-portfolio",
   "metadata": {
    "papermill": {
     "duration": 0.076728,
     "end_time": "2021-06-22T14:36:10.810502",
     "exception": false,
     "start_time": "2021-06-22T14:36:10.733774",
     "status": "completed"
    },
    "tags": []
   },
   "source": [
    "# **Question #1: In which month most of the sales occur?**"
   ]
  },
  {
   "cell_type": "markdown",
   "id": "bacterial-alloy",
   "metadata": {
    "papermill": {
     "duration": 0.065571,
     "end_time": "2021-06-22T14:36:10.948635",
     "exception": false,
     "start_time": "2021-06-22T14:36:10.883064",
     "status": "completed"
    },
    "tags": []
   },
   "source": [
    "## **1.1 Month-Wise Sales of Supermarket**"
   ]
  },
  {
   "cell_type": "markdown",
   "id": "disciplinary-kingdom",
   "metadata": {
    "papermill": {
     "duration": 0.066068,
     "end_time": "2021-06-22T14:36:11.080817",
     "exception": false,
     "start_time": "2021-06-22T14:36:11.014749",
     "status": "completed"
    },
    "tags": []
   },
   "source": [
    "#### **A. Adding Month Column**"
   ]
  },
  {
   "cell_type": "code",
   "execution_count": 5,
   "id": "through-watershed",
   "metadata": {
    "papermill": {
     "duration": 0.098931,
     "end_time": "2021-06-22T14:36:11.245837",
     "exception": false,
     "start_time": "2021-06-22T14:36:11.146906",
     "status": "completed"
    },
    "tags": []
   },
   "outputs": [
    {
     "data": {
      "text/html": [
       "<div>\n",
       "<style scoped>\n",
       "    .dataframe tbody tr th:only-of-type {\n",
       "        vertical-align: middle;\n",
       "    }\n",
       "\n",
       "    .dataframe tbody tr th {\n",
       "        vertical-align: top;\n",
       "    }\n",
       "\n",
       "    .dataframe thead th {\n",
       "        text-align: right;\n",
       "    }\n",
       "</style>\n",
       "<table border=\"1\" class=\"dataframe\">\n",
       "  <thead>\n",
       "    <tr style=\"text-align: right;\">\n",
       "      <th></th>\n",
       "      <th>Invoice ID</th>\n",
       "      <th>Branch</th>\n",
       "      <th>City</th>\n",
       "      <th>Customer type</th>\n",
       "      <th>Gender</th>\n",
       "      <th>Product line</th>\n",
       "      <th>Unit price</th>\n",
       "      <th>Quantity</th>\n",
       "      <th>Tax 5%</th>\n",
       "      <th>Total</th>\n",
       "      <th>Date</th>\n",
       "      <th>Time</th>\n",
       "      <th>Payment</th>\n",
       "      <th>cogs</th>\n",
       "      <th>gross margin percentage</th>\n",
       "      <th>gross income</th>\n",
       "      <th>Rating</th>\n",
       "      <th>Month</th>\n",
       "    </tr>\n",
       "  </thead>\n",
       "  <tbody>\n",
       "    <tr>\n",
       "      <th>0</th>\n",
       "      <td>750-67-8428</td>\n",
       "      <td>A</td>\n",
       "      <td>Yangon</td>\n",
       "      <td>Member</td>\n",
       "      <td>Female</td>\n",
       "      <td>Health and beauty</td>\n",
       "      <td>74.69</td>\n",
       "      <td>7</td>\n",
       "      <td>26.1415</td>\n",
       "      <td>548.9715</td>\n",
       "      <td>1/5/2019</td>\n",
       "      <td>13:08</td>\n",
       "      <td>Ewallet</td>\n",
       "      <td>522.83</td>\n",
       "      <td>4.761905</td>\n",
       "      <td>26.1415</td>\n",
       "      <td>9.1</td>\n",
       "      <td>1</td>\n",
       "    </tr>\n",
       "    <tr>\n",
       "      <th>1</th>\n",
       "      <td>226-31-3081</td>\n",
       "      <td>C</td>\n",
       "      <td>Naypyitaw</td>\n",
       "      <td>Normal</td>\n",
       "      <td>Female</td>\n",
       "      <td>Electronic accessories</td>\n",
       "      <td>15.28</td>\n",
       "      <td>5</td>\n",
       "      <td>3.8200</td>\n",
       "      <td>80.2200</td>\n",
       "      <td>3/8/2019</td>\n",
       "      <td>10:29</td>\n",
       "      <td>Cash</td>\n",
       "      <td>76.40</td>\n",
       "      <td>4.761905</td>\n",
       "      <td>3.8200</td>\n",
       "      <td>9.6</td>\n",
       "      <td>3</td>\n",
       "    </tr>\n",
       "    <tr>\n",
       "      <th>2</th>\n",
       "      <td>631-41-3108</td>\n",
       "      <td>A</td>\n",
       "      <td>Yangon</td>\n",
       "      <td>Normal</td>\n",
       "      <td>Male</td>\n",
       "      <td>Home and lifestyle</td>\n",
       "      <td>46.33</td>\n",
       "      <td>7</td>\n",
       "      <td>16.2155</td>\n",
       "      <td>340.5255</td>\n",
       "      <td>3/3/2019</td>\n",
       "      <td>13:23</td>\n",
       "      <td>Credit card</td>\n",
       "      <td>324.31</td>\n",
       "      <td>4.761905</td>\n",
       "      <td>16.2155</td>\n",
       "      <td>7.4</td>\n",
       "      <td>3</td>\n",
       "    </tr>\n",
       "    <tr>\n",
       "      <th>3</th>\n",
       "      <td>123-19-1176</td>\n",
       "      <td>A</td>\n",
       "      <td>Yangon</td>\n",
       "      <td>Member</td>\n",
       "      <td>Male</td>\n",
       "      <td>Health and beauty</td>\n",
       "      <td>58.22</td>\n",
       "      <td>8</td>\n",
       "      <td>23.2880</td>\n",
       "      <td>489.0480</td>\n",
       "      <td>1/27/2019</td>\n",
       "      <td>20:33</td>\n",
       "      <td>Ewallet</td>\n",
       "      <td>465.76</td>\n",
       "      <td>4.761905</td>\n",
       "      <td>23.2880</td>\n",
       "      <td>8.4</td>\n",
       "      <td>1</td>\n",
       "    </tr>\n",
       "    <tr>\n",
       "      <th>4</th>\n",
       "      <td>373-73-7910</td>\n",
       "      <td>A</td>\n",
       "      <td>Yangon</td>\n",
       "      <td>Normal</td>\n",
       "      <td>Male</td>\n",
       "      <td>Sports and travel</td>\n",
       "      <td>86.31</td>\n",
       "      <td>7</td>\n",
       "      <td>30.2085</td>\n",
       "      <td>634.3785</td>\n",
       "      <td>2/8/2019</td>\n",
       "      <td>10:37</td>\n",
       "      <td>Ewallet</td>\n",
       "      <td>604.17</td>\n",
       "      <td>4.761905</td>\n",
       "      <td>30.2085</td>\n",
       "      <td>5.3</td>\n",
       "      <td>2</td>\n",
       "    </tr>\n",
       "  </tbody>\n",
       "</table>\n",
       "</div>"
      ],
      "text/plain": [
       "    Invoice ID Branch       City Customer type  Gender  \\\n",
       "0  750-67-8428      A     Yangon        Member  Female   \n",
       "1  226-31-3081      C  Naypyitaw        Normal  Female   \n",
       "2  631-41-3108      A     Yangon        Normal    Male   \n",
       "3  123-19-1176      A     Yangon        Member    Male   \n",
       "4  373-73-7910      A     Yangon        Normal    Male   \n",
       "\n",
       "             Product line  Unit price  Quantity   Tax 5%     Total       Date  \\\n",
       "0       Health and beauty       74.69         7  26.1415  548.9715   1/5/2019   \n",
       "1  Electronic accessories       15.28         5   3.8200   80.2200   3/8/2019   \n",
       "2      Home and lifestyle       46.33         7  16.2155  340.5255   3/3/2019   \n",
       "3       Health and beauty       58.22         8  23.2880  489.0480  1/27/2019   \n",
       "4       Sports and travel       86.31         7  30.2085  634.3785   2/8/2019   \n",
       "\n",
       "    Time      Payment    cogs  gross margin percentage  gross income  Rating  \\\n",
       "0  13:08      Ewallet  522.83                 4.761905       26.1415     9.1   \n",
       "1  10:29         Cash   76.40                 4.761905        3.8200     9.6   \n",
       "2  13:23  Credit card  324.31                 4.761905       16.2155     7.4   \n",
       "3  20:33      Ewallet  465.76                 4.761905       23.2880     8.4   \n",
       "4  10:37      Ewallet  604.17                 4.761905       30.2085     5.3   \n",
       "\n",
       "  Month  \n",
       "0     1  \n",
       "1     3  \n",
       "2     3  \n",
       "3     1  \n",
       "4     2  "
      ]
     },
     "execution_count": 5,
     "metadata": {},
     "output_type": "execute_result"
    }
   ],
   "source": [
    "supermarket_ram['Month'] = supermarket_ram['Date'].str[0:1]\n",
    "supermarket_ram.head()"
   ]
  },
  {
   "cell_type": "markdown",
   "id": "dutch-transaction",
   "metadata": {
    "papermill": {
     "duration": 0.066499,
     "end_time": "2021-06-22T14:36:11.385744",
     "exception": false,
     "start_time": "2021-06-22T14:36:11.319245",
     "status": "completed"
    },
    "tags": []
   },
   "source": [
    "#### **B. Converting the \"Month\" Column to Integer (from string)**"
   ]
  },
  {
   "cell_type": "code",
   "execution_count": 6,
   "id": "eight-confusion",
   "metadata": {
    "papermill": {
     "duration": 0.115743,
     "end_time": "2021-06-22T14:36:11.567832",
     "exception": false,
     "start_time": "2021-06-22T14:36:11.452089",
     "status": "completed"
    },
    "tags": []
   },
   "outputs": [
    {
     "data": {
      "text/html": [
       "<div>\n",
       "<style scoped>\n",
       "    .dataframe tbody tr th:only-of-type {\n",
       "        vertical-align: middle;\n",
       "    }\n",
       "\n",
       "    .dataframe tbody tr th {\n",
       "        vertical-align: top;\n",
       "    }\n",
       "\n",
       "    .dataframe thead th {\n",
       "        text-align: right;\n",
       "    }\n",
       "</style>\n",
       "<table border=\"1\" class=\"dataframe\">\n",
       "  <thead>\n",
       "    <tr style=\"text-align: right;\">\n",
       "      <th></th>\n",
       "      <th>Unit price</th>\n",
       "      <th>Quantity</th>\n",
       "      <th>Tax 5%</th>\n",
       "      <th>Total</th>\n",
       "      <th>cogs</th>\n",
       "      <th>gross margin percentage</th>\n",
       "      <th>gross income</th>\n",
       "      <th>Rating</th>\n",
       "      <th>Month</th>\n",
       "    </tr>\n",
       "  </thead>\n",
       "  <tbody>\n",
       "    <tr>\n",
       "      <th>count</th>\n",
       "      <td>1000.000000</td>\n",
       "      <td>1000.000000</td>\n",
       "      <td>1000.000000</td>\n",
       "      <td>1000.000000</td>\n",
       "      <td>1000.00000</td>\n",
       "      <td>1.000000e+03</td>\n",
       "      <td>1000.000000</td>\n",
       "      <td>1000.00000</td>\n",
       "      <td>1000.000000</td>\n",
       "    </tr>\n",
       "    <tr>\n",
       "      <th>mean</th>\n",
       "      <td>55.672130</td>\n",
       "      <td>5.510000</td>\n",
       "      <td>15.379369</td>\n",
       "      <td>322.966749</td>\n",
       "      <td>307.58738</td>\n",
       "      <td>4.761905e+00</td>\n",
       "      <td>15.379369</td>\n",
       "      <td>6.97270</td>\n",
       "      <td>1.993000</td>\n",
       "    </tr>\n",
       "    <tr>\n",
       "      <th>std</th>\n",
       "      <td>26.494628</td>\n",
       "      <td>2.923431</td>\n",
       "      <td>11.708825</td>\n",
       "      <td>245.885335</td>\n",
       "      <td>234.17651</td>\n",
       "      <td>6.131498e-14</td>\n",
       "      <td>11.708825</td>\n",
       "      <td>1.71858</td>\n",
       "      <td>0.835254</td>\n",
       "    </tr>\n",
       "    <tr>\n",
       "      <th>min</th>\n",
       "      <td>10.080000</td>\n",
       "      <td>1.000000</td>\n",
       "      <td>0.508500</td>\n",
       "      <td>10.678500</td>\n",
       "      <td>10.17000</td>\n",
       "      <td>4.761905e+00</td>\n",
       "      <td>0.508500</td>\n",
       "      <td>4.00000</td>\n",
       "      <td>1.000000</td>\n",
       "    </tr>\n",
       "    <tr>\n",
       "      <th>25%</th>\n",
       "      <td>32.875000</td>\n",
       "      <td>3.000000</td>\n",
       "      <td>5.924875</td>\n",
       "      <td>124.422375</td>\n",
       "      <td>118.49750</td>\n",
       "      <td>4.761905e+00</td>\n",
       "      <td>5.924875</td>\n",
       "      <td>5.50000</td>\n",
       "      <td>1.000000</td>\n",
       "    </tr>\n",
       "    <tr>\n",
       "      <th>50%</th>\n",
       "      <td>55.230000</td>\n",
       "      <td>5.000000</td>\n",
       "      <td>12.088000</td>\n",
       "      <td>253.848000</td>\n",
       "      <td>241.76000</td>\n",
       "      <td>4.761905e+00</td>\n",
       "      <td>12.088000</td>\n",
       "      <td>7.00000</td>\n",
       "      <td>2.000000</td>\n",
       "    </tr>\n",
       "    <tr>\n",
       "      <th>75%</th>\n",
       "      <td>77.935000</td>\n",
       "      <td>8.000000</td>\n",
       "      <td>22.445250</td>\n",
       "      <td>471.350250</td>\n",
       "      <td>448.90500</td>\n",
       "      <td>4.761905e+00</td>\n",
       "      <td>22.445250</td>\n",
       "      <td>8.50000</td>\n",
       "      <td>3.000000</td>\n",
       "    </tr>\n",
       "    <tr>\n",
       "      <th>max</th>\n",
       "      <td>99.960000</td>\n",
       "      <td>10.000000</td>\n",
       "      <td>49.650000</td>\n",
       "      <td>1042.650000</td>\n",
       "      <td>993.00000</td>\n",
       "      <td>4.761905e+00</td>\n",
       "      <td>49.650000</td>\n",
       "      <td>10.00000</td>\n",
       "      <td>3.000000</td>\n",
       "    </tr>\n",
       "  </tbody>\n",
       "</table>\n",
       "</div>"
      ],
      "text/plain": [
       "        Unit price     Quantity       Tax 5%        Total        cogs  \\\n",
       "count  1000.000000  1000.000000  1000.000000  1000.000000  1000.00000   \n",
       "mean     55.672130     5.510000    15.379369   322.966749   307.58738   \n",
       "std      26.494628     2.923431    11.708825   245.885335   234.17651   \n",
       "min      10.080000     1.000000     0.508500    10.678500    10.17000   \n",
       "25%      32.875000     3.000000     5.924875   124.422375   118.49750   \n",
       "50%      55.230000     5.000000    12.088000   253.848000   241.76000   \n",
       "75%      77.935000     8.000000    22.445250   471.350250   448.90500   \n",
       "max      99.960000    10.000000    49.650000  1042.650000   993.00000   \n",
       "\n",
       "       gross margin percentage  gross income      Rating        Month  \n",
       "count             1.000000e+03   1000.000000  1000.00000  1000.000000  \n",
       "mean              4.761905e+00     15.379369     6.97270     1.993000  \n",
       "std               6.131498e-14     11.708825     1.71858     0.835254  \n",
       "min               4.761905e+00      0.508500     4.00000     1.000000  \n",
       "25%               4.761905e+00      5.924875     5.50000     1.000000  \n",
       "50%               4.761905e+00     12.088000     7.00000     2.000000  \n",
       "75%               4.761905e+00     22.445250     8.50000     3.000000  \n",
       "max               4.761905e+00     49.650000    10.00000     3.000000  "
      ]
     },
     "execution_count": 6,
     "metadata": {},
     "output_type": "execute_result"
    }
   ],
   "source": [
    "supermarket_ram['Month'] = supermarket_ram['Month'].astype(int)\n",
    "supermarket_ram.describe()"
   ]
  },
  {
   "cell_type": "markdown",
   "id": "closing-detector",
   "metadata": {
    "papermill": {
     "duration": 0.066711,
     "end_time": "2021-06-22T14:36:11.708049",
     "exception": false,
     "start_time": "2021-06-22T14:36:11.641338",
     "status": "completed"
    },
    "tags": []
   },
   "source": [
    "#### **C. Plotting Month-Wise Sales**"
   ]
  },
  {
   "cell_type": "code",
   "execution_count": 46,
   "id": "unnecessary-migration",
   "metadata": {
    "papermill": {
     "duration": 0.270707,
     "end_time": "2021-06-22T14:36:12.045853",
     "exception": false,
     "start_time": "2021-06-22T14:36:11.775146",
     "status": "completed"
    },
    "tags": []
   },
   "outputs": [
    {
     "data": {
      "image/png": "[encoded data removed]",
      "text/plain": [
       "<Figure size 432x288 with 1 Axes>"
      ]
     },
     "metadata": {},
     "output_type": "display_data"
    }
   ],
   "source": [
    "sales = supermarket_ram.groupby('Month').sum()\n",
    "\n",
    "fig, ax = plt.subplots()\n",
    "months = ['January', 'February', 'March']\n",
    "bars = ax.bar(months, sales['Total'], width = 0.3, color = '#2940d3') # color = '#2940d3'\n",
    "\n",
    "# bars[0].set_color('#ffc947')\n",
    "# bars[1].set_color('#2940d3')\n",
    "# bars[2].set_color('#ff96ad')\n",
    "\n",
    "\n",
    "ax.set_title('Month-Wise Supermarket Sales', fontsize = 14)\n",
    "ax.set_xticks(months)\n",
    "ax.tick_params(axis='both', labelsize=12)\n",
    "ax.set_ylabel('Total Sales', fontsize = 14)\n",
    "\n",
    "# Setting plot margins\n",
    "plt.subplots_adjust(left=0.01,\n",
    "                    bottom=0.1, \n",
    "                    right=1.3, \n",
    "                    top=1.5, \n",
    "                    wspace=0.9, \n",
    "                    hspace=0.9)\n",
    "\n",
    "plt.savefig(\"../visualizations/01-monthly-sales.png\")\n",
    "plt.show()"
   ]
  },
  {
   "cell_type": "markdown",
   "id": "gothic-acceptance",
   "metadata": {
    "papermill": {
     "duration": 0.067848,
     "end_time": "2021-06-22T14:36:12.182997",
     "exception": false,
     "start_time": "2021-06-22T14:36:12.115149",
     "status": "completed"
    },
    "tags": []
   },
   "source": [
    "#### **# Result:** \n",
    "* From January, supermarket sales have slightly decreased. \n",
    "* February receives least sales. This can be because February is the shortest month. \n",
    "* Month-wise change in sales not very significant. "
   ]
  },
  {
   "cell_type": "markdown",
   "id": "eastern-lounge",
   "metadata": {
    "papermill": {
     "duration": 0.068132,
     "end_time": "2021-06-22T14:36:12.319245",
     "exception": false,
     "start_time": "2021-06-22T14:36:12.251113",
     "status": "completed"
    },
    "tags": []
   },
   "source": [
    "## **1.2 Month-Wise Sales of Different Branches**"
   ]
  },
  {
   "cell_type": "markdown",
   "id": "arranged-adoption",
   "metadata": {
    "papermill": {
     "duration": 0.067746,
     "end_time": "2021-06-22T14:36:12.455123",
     "exception": false,
     "start_time": "2021-06-22T14:36:12.387377",
     "status": "completed"
    },
    "tags": []
   },
   "source": [
    "#### **A. Finding the Supermarket Braches (City-Wise)** "
   ]
  },
  {
   "cell_type": "code",
   "execution_count": 8,
   "id": "prime-fiction",
   "metadata": {
    "papermill": {
     "duration": 0.081772,
     "end_time": "2021-06-22T14:36:12.606045",
     "exception": false,
     "start_time": "2021-06-22T14:36:12.524273",
     "status": "completed"
    },
    "scrolled": true,
    "tags": []
   },
   "outputs": [
    {
     "data": {
      "text/plain": [
       "['Mandalay', 'Naypyitaw', 'Yangon']"
      ]
     },
     "execution_count": 8,
     "metadata": {},
     "output_type": "execute_result"
    }
   ],
   "source": [
    "supermarket_cities = [City for City, df in supermarket_ram.groupby('City')]\n",
    "supermarket_cities"
   ]
  },
  {
   "cell_type": "markdown",
   "id": "progressive-absolute",
   "metadata": {
    "papermill": {
     "duration": 0.067723,
     "end_time": "2021-06-22T14:36:12.743219",
     "exception": false,
     "start_time": "2021-06-22T14:36:12.675496",
     "status": "completed"
    },
    "tags": []
   },
   "source": [
    "#### **B. Filtering the Cities and Forming their Individual Data Frames**    "
   ]
  },
  {
   "cell_type": "code",
   "execution_count": 9,
   "id": "ruled-twins",
   "metadata": {
    "papermill": {
     "duration": 0.0928,
     "end_time": "2021-06-22T14:36:12.905269",
     "exception": false,
     "start_time": "2021-06-22T14:36:12.812469",
     "status": "completed"
    },
    "tags": []
   },
   "outputs": [
    {
     "data": {
      "text/html": [
       "<div>\n",
       "<style scoped>\n",
       "    .dataframe tbody tr th:only-of-type {\n",
       "        vertical-align: middle;\n",
       "    }\n",
       "\n",
       "    .dataframe tbody tr th {\n",
       "        vertical-align: top;\n",
       "    }\n",
       "\n",
       "    .dataframe thead th {\n",
       "        text-align: right;\n",
       "    }\n",
       "</style>\n",
       "<table border=\"1\" class=\"dataframe\">\n",
       "  <thead>\n",
       "    <tr style=\"text-align: right;\">\n",
       "      <th></th>\n",
       "      <th>Unit price</th>\n",
       "      <th>Quantity</th>\n",
       "      <th>Tax 5%</th>\n",
       "      <th>Total</th>\n",
       "      <th>cogs</th>\n",
       "      <th>gross margin percentage</th>\n",
       "      <th>gross income</th>\n",
       "      <th>Rating</th>\n",
       "    </tr>\n",
       "    <tr>\n",
       "      <th>Month</th>\n",
       "      <th></th>\n",
       "      <th></th>\n",
       "      <th></th>\n",
       "      <th></th>\n",
       "      <th></th>\n",
       "      <th></th>\n",
       "      <th></th>\n",
       "      <th></th>\n",
       "    </tr>\n",
       "  </thead>\n",
       "  <tbody>\n",
       "    <tr>\n",
       "      <th>1</th>\n",
       "      <td>6544.41</td>\n",
       "      <td>600</td>\n",
       "      <td>1770.2885</td>\n",
       "      <td>37176.0585</td>\n",
       "      <td>35405.77</td>\n",
       "      <td>528.571429</td>\n",
       "      <td>1770.2885</td>\n",
       "      <td>755.0</td>\n",
       "    </tr>\n",
       "    <tr>\n",
       "      <th>2</th>\n",
       "      <td>5919.62</td>\n",
       "      <td>624</td>\n",
       "      <td>1639.2510</td>\n",
       "      <td>34424.2710</td>\n",
       "      <td>32785.02</td>\n",
       "      <td>519.047619</td>\n",
       "      <td>1639.2510</td>\n",
       "      <td>763.9</td>\n",
       "    </tr>\n",
       "    <tr>\n",
       "      <th>3</th>\n",
       "      <td>6014.85</td>\n",
       "      <td>596</td>\n",
       "      <td>1647.4925</td>\n",
       "      <td>34597.3425</td>\n",
       "      <td>32949.85</td>\n",
       "      <td>533.333333</td>\n",
       "      <td>1647.4925</td>\n",
       "      <td>744.7</td>\n",
       "    </tr>\n",
       "  </tbody>\n",
       "</table>\n",
       "</div>"
      ],
      "text/plain": [
       "       Unit price  Quantity     Tax 5%       Total      cogs  \\\n",
       "Month                                                          \n",
       "1         6544.41       600  1770.2885  37176.0585  35405.77   \n",
       "2         5919.62       624  1639.2510  34424.2710  32785.02   \n",
       "3         6014.85       596  1647.4925  34597.3425  32949.85   \n",
       "\n",
       "       gross margin percentage  gross income  Rating  \n",
       "Month                                                 \n",
       "1                   528.571429     1770.2885   755.0  \n",
       "2                   519.047619     1639.2510   763.9  \n",
       "3                   533.333333     1647.4925   744.7  "
      ]
     },
     "execution_count": 9,
     "metadata": {},
     "output_type": "execute_result"
    }
   ],
   "source": [
    "# forming mandalay dataframe\n",
    "mandalay_filter = (supermarket_ram['City'] == 'Mandalay')\n",
    "mandalay_df = supermarket_ram[mandalay_filter].copy() # Taking a copy of df to avoid warnings----Python shell cannot recognize wheather mandalay_df is view or copy \n",
    "mandalay_month_df = mandalay_df.groupby('Month').sum()\n",
    "mandalay_month_df.head()"
   ]
  },
  {
   "cell_type": "code",
   "execution_count": 10,
   "id": "reliable-extent",
   "metadata": {
    "papermill": {
     "duration": 0.09294,
     "end_time": "2021-06-22T14:36:13.067135",
     "exception": false,
     "start_time": "2021-06-22T14:36:12.974195",
     "status": "completed"
    },
    "tags": []
   },
   "outputs": [
    {
     "data": {
      "text/html": [
       "<div>\n",
       "<style scoped>\n",
       "    .dataframe tbody tr th:only-of-type {\n",
       "        vertical-align: middle;\n",
       "    }\n",
       "\n",
       "    .dataframe tbody tr th {\n",
       "        vertical-align: top;\n",
       "    }\n",
       "\n",
       "    .dataframe thead th {\n",
       "        text-align: right;\n",
       "    }\n",
       "</style>\n",
       "<table border=\"1\" class=\"dataframe\">\n",
       "  <thead>\n",
       "    <tr style=\"text-align: right;\">\n",
       "      <th></th>\n",
       "      <th>Unit price</th>\n",
       "      <th>Quantity</th>\n",
       "      <th>Tax 5%</th>\n",
       "      <th>Total</th>\n",
       "      <th>cogs</th>\n",
       "      <th>gross margin percentage</th>\n",
       "      <th>gross income</th>\n",
       "      <th>Rating</th>\n",
       "    </tr>\n",
       "    <tr>\n",
       "      <th>Month</th>\n",
       "      <th></th>\n",
       "      <th></th>\n",
       "      <th></th>\n",
       "      <th></th>\n",
       "      <th></th>\n",
       "      <th></th>\n",
       "      <th></th>\n",
       "      <th></th>\n",
       "    </tr>\n",
       "  </thead>\n",
       "  <tbody>\n",
       "    <tr>\n",
       "      <th>1</th>\n",
       "      <td>6859.95</td>\n",
       "      <td>680</td>\n",
       "      <td>1925.4610</td>\n",
       "      <td>40434.6810</td>\n",
       "      <td>38509.22</td>\n",
       "      <td>580.952381</td>\n",
       "      <td>1925.4610</td>\n",
       "      <td>872.9</td>\n",
       "    </tr>\n",
       "    <tr>\n",
       "      <th>2</th>\n",
       "      <td>5808.97</td>\n",
       "      <td>537</td>\n",
       "      <td>1568.3325</td>\n",
       "      <td>32934.9825</td>\n",
       "      <td>31366.65</td>\n",
       "      <td>476.190476</td>\n",
       "      <td>1568.3325</td>\n",
       "      <td>720.0</td>\n",
       "    </tr>\n",
       "    <tr>\n",
       "      <th>3</th>\n",
       "      <td>5898.84</td>\n",
       "      <td>614</td>\n",
       "      <td>1771.3830</td>\n",
       "      <td>37199.0430</td>\n",
       "      <td>35427.66</td>\n",
       "      <td>504.761905</td>\n",
       "      <td>1771.3830</td>\n",
       "      <td>727.0</td>\n",
       "    </tr>\n",
       "  </tbody>\n",
       "</table>\n",
       "</div>"
      ],
      "text/plain": [
       "       Unit price  Quantity     Tax 5%       Total      cogs  \\\n",
       "Month                                                          \n",
       "1         6859.95       680  1925.4610  40434.6810  38509.22   \n",
       "2         5808.97       537  1568.3325  32934.9825  31366.65   \n",
       "3         5898.84       614  1771.3830  37199.0430  35427.66   \n",
       "\n",
       "       gross margin percentage  gross income  Rating  \n",
       "Month                                                 \n",
       "1                   580.952381     1925.4610   872.9  \n",
       "2                   476.190476     1568.3325   720.0  \n",
       "3                   504.761905     1771.3830   727.0  "
      ]
     },
     "execution_count": 10,
     "metadata": {},
     "output_type": "execute_result"
    }
   ],
   "source": [
    "# forming napy dataframe\n",
    "napy_filter = (supermarket_ram['City'] == 'Naypyitaw')\n",
    "napy_df = supermarket_ram[napy_filter].copy()\n",
    "napy_month_df = napy_df.groupby('Month').sum()\n",
    "napy_month_df.head()"
   ]
  },
  {
   "cell_type": "code",
   "execution_count": 11,
   "id": "exterior-communications",
   "metadata": {
    "papermill": {
     "duration": 0.091773,
     "end_time": "2021-06-22T14:36:13.232352",
     "exception": false,
     "start_time": "2021-06-22T14:36:13.140579",
     "status": "completed"
    },
    "tags": []
   },
   "outputs": [
    {
     "data": {
      "text/html": [
       "<div>\n",
       "<style scoped>\n",
       "    .dataframe tbody tr th:only-of-type {\n",
       "        vertical-align: middle;\n",
       "    }\n",
       "\n",
       "    .dataframe tbody tr th {\n",
       "        vertical-align: top;\n",
       "    }\n",
       "\n",
       "    .dataframe thead th {\n",
       "        text-align: right;\n",
       "    }\n",
       "</style>\n",
       "<table border=\"1\" class=\"dataframe\">\n",
       "  <thead>\n",
       "    <tr style=\"text-align: right;\">\n",
       "      <th></th>\n",
       "      <th>Unit price</th>\n",
       "      <th>Quantity</th>\n",
       "      <th>Tax 5%</th>\n",
       "      <th>Total</th>\n",
       "      <th>cogs</th>\n",
       "      <th>gross margin percentage</th>\n",
       "      <th>gross income</th>\n",
       "      <th>Rating</th>\n",
       "    </tr>\n",
       "    <tr>\n",
       "      <th>Month</th>\n",
       "      <th></th>\n",
       "      <th></th>\n",
       "      <th></th>\n",
       "      <th></th>\n",
       "      <th></th>\n",
       "      <th></th>\n",
       "      <th></th>\n",
       "      <th></th>\n",
       "    </tr>\n",
       "  </thead>\n",
       "  <tbody>\n",
       "    <tr>\n",
       "      <th>1</th>\n",
       "      <td>6349.53</td>\n",
       "      <td>685</td>\n",
       "      <td>1841.9585</td>\n",
       "      <td>38681.1285</td>\n",
       "      <td>36839.17</td>\n",
       "      <td>566.666667</td>\n",
       "      <td>1841.9585</td>\n",
       "      <td>842.3</td>\n",
       "    </tr>\n",
       "    <tr>\n",
       "      <th>2</th>\n",
       "      <td>5430.93</td>\n",
       "      <td>493</td>\n",
       "      <td>1421.9105</td>\n",
       "      <td>29860.1205</td>\n",
       "      <td>28438.21</td>\n",
       "      <td>447.619048</td>\n",
       "      <td>1421.9105</td>\n",
       "      <td>658.7</td>\n",
       "    </tr>\n",
       "    <tr>\n",
       "      <th>3</th>\n",
       "      <td>6845.03</td>\n",
       "      <td>681</td>\n",
       "      <td>1793.2915</td>\n",
       "      <td>37659.1215</td>\n",
       "      <td>35865.83</td>\n",
       "      <td>604.761905</td>\n",
       "      <td>1793.2915</td>\n",
       "      <td>888.2</td>\n",
       "    </tr>\n",
       "  </tbody>\n",
       "</table>\n",
       "</div>"
      ],
      "text/plain": [
       "       Unit price  Quantity     Tax 5%       Total      cogs  \\\n",
       "Month                                                          \n",
       "1         6349.53       685  1841.9585  38681.1285  36839.17   \n",
       "2         5430.93       493  1421.9105  29860.1205  28438.21   \n",
       "3         6845.03       681  1793.2915  37659.1215  35865.83   \n",
       "\n",
       "       gross margin percentage  gross income  Rating  \n",
       "Month                                                 \n",
       "1                   566.666667     1841.9585   842.3  \n",
       "2                   447.619048     1421.9105   658.7  \n",
       "3                   604.761905     1793.2915   888.2  "
      ]
     },
     "execution_count": 11,
     "metadata": {},
     "output_type": "execute_result"
    }
   ],
   "source": [
    "# forming yan dataframe\n",
    "yan_filter = (supermarket_ram['City'] == 'Yangon')\n",
    "yan_df = supermarket_ram[yan_filter].copy()\n",
    "yan_month_df = yan_df.groupby('Month').sum()\n",
    "yan_month_df.head()"
   ]
  },
  {
   "cell_type": "markdown",
   "id": "ambient-revelation",
   "metadata": {
    "papermill": {
     "duration": 0.068722,
     "end_time": "2021-06-22T14:36:13.370139",
     "exception": false,
     "start_time": "2021-06-22T14:36:13.301417",
     "status": "completed"
    },
    "tags": []
   },
   "source": [
    "#### **C. Plotting Sales for Different Branches**"
   ]
  },
  {
   "cell_type": "code",
   "execution_count": 47,
   "id": "armed-inclusion",
   "metadata": {
    "papermill": {
     "duration": 0.288853,
     "end_time": "2021-06-22T14:36:13.728385",
     "exception": false,
     "start_time": "2021-06-22T14:36:13.439532",
     "status": "completed"
    },
    "tags": []
   },
   "outputs": [
    {
     "data": {
      "image/png": "[encoded data removed]",
      "text/plain": [
       "<Figure size 432x288 with 1 Axes>"
      ]
     },
     "metadata": {},
     "output_type": "display_data"
    }
   ],
   "source": [
    "# Forming bar plot\n",
    "x = np.arange(3)\n",
    "month =  ['January', 'February', 'March']\n",
    "plt.bar(x-0.25, mandalay_month_df['Total'], width = 0.25, color = '#ffc947')\n",
    "plt.bar(x, napy_month_df['Total'], width = 0.25, color = '#2940d3')\n",
    "plt.bar(x+0.25, yan_month_df['Total'], width = 0.25, color = '#ff96ad')\n",
    "\n",
    "# Setting labels, title and legend\n",
    "plt.xticks(x, month, size = 14)\n",
    "plt.title('Comparison of Month-Wise Sales of Different Branches', fontsize=14)\n",
    "plt.ylabel('Total Sales', fontsize=14)\n",
    "plt.legend([\"Mandalay\", \"Naypyitaw\", \"Yangon\"], loc='upper right', bbox_to_anchor=(1.145,1), fontsize=13)  # Naypyitaw', 'Yangon\n",
    "\n",
    "# Setting plot margins\n",
    "plt.subplots_adjust(left=0.01,\n",
    "                    bottom=0.1, \n",
    "                    right=1.3, \n",
    "                    top=1.5, \n",
    "                    wspace=0.9, \n",
    "                    hspace=0.9)\n",
    "\n",
    "plt.savefig(\"../visualizations/02-monthly-sales.png\")\n",
    "plt.show()"
   ]
  },
  {
   "cell_type": "markdown",
   "id": "adequate-occasion",
   "metadata": {
    "papermill": {
     "duration": 0.070446,
     "end_time": "2021-06-22T14:36:13.870283",
     "exception": false,
     "start_time": "2021-06-22T14:36:13.799837",
     "status": "completed"
    },
    "tags": []
   },
   "source": [
    "#### **# Result:** \n",
    "* Sales of the branches is similar. \n",
    "* From January, the sales have slightly decreased for each branch. \n",
    "* Mandalay has most consistent sales."
   ]
  },
  {
   "cell_type": "markdown",
   "id": "considered-caution",
   "metadata": {
    "papermill": {
     "duration": 0.070626,
     "end_time": "2021-06-22T14:36:14.011648",
     "exception": false,
     "start_time": "2021-06-22T14:36:13.941022",
     "status": "completed"
    },
    "tags": []
   },
   "source": [
    "# **Question #2: How is the overall performance of different branches?**"
   ]
  },
  {
   "cell_type": "markdown",
   "id": "industrial-sport",
   "metadata": {
    "papermill": {
     "duration": 0.070721,
     "end_time": "2021-06-22T14:36:14.153179",
     "exception": false,
     "start_time": "2021-06-22T14:36:14.082458",
     "status": "completed"
    },
    "tags": []
   },
   "source": [
    "#### **A. Obtaining Total Sales & Total Profit of Different Branches**"
   ]
  },
  {
   "cell_type": "code",
   "execution_count": 13,
   "id": "peaceful-escape",
   "metadata": {
    "papermill": {
     "duration": 0.083713,
     "end_time": "2021-06-22T14:36:14.307268",
     "exception": false,
     "start_time": "2021-06-22T14:36:14.223555",
     "status": "completed"
    },
    "tags": []
   },
   "outputs": [
    {
     "name": "stdout",
     "output_type": "stream",
     "text": [
      "[106197.67199999999, 110568.7065, 106200.3705]\n",
      "[5057.032, 5265.1765, 5057.1605]\n"
     ]
    }
   ],
   "source": [
    "mandalay_sales = mandalay_df[\"Total\"].sum()\n",
    "mandalay_profit = mandalay_df['gross income'].sum()\n",
    "\n",
    "napy_sales = napy_df[\"Total\"].sum()\n",
    "napy_profit = napy_df['gross income'].sum()\n",
    "\n",
    "yan_sales = yan_df[\"Total\"].sum()\n",
    "yan_profit = yan_df['gross income'].sum()\n",
    "\n",
    "city_sales = [mandalay_sales, napy_sales, yan_sales]\n",
    "city_profit = [mandalay_profit, napy_profit, yan_profit]\n",
    "city_names = [\"Mandalay\", \"Naypyitaw\", \"Yangon\"]\n",
    "print(city_sales)\n",
    "print(city_profit)"
   ]
  },
  {
   "cell_type": "markdown",
   "id": "becoming-dietary",
   "metadata": {
    "papermill": {
     "duration": 0.071012,
     "end_time": "2021-06-22T14:36:14.451495",
     "exception": false,
     "start_time": "2021-06-22T14:36:14.380483",
     "status": "completed"
    },
    "tags": []
   },
   "source": [
    "#### **B. Obtaining Number of Members for each Supermarket Branch**"
   ]
  },
  {
   "cell_type": "code",
   "execution_count": 14,
   "id": "sophisticated-louis",
   "metadata": {
    "papermill": {
     "duration": 0.086812,
     "end_time": "2021-06-22T14:36:14.611002",
     "exception": false,
     "start_time": "2021-06-22T14:36:14.524190",
     "status": "completed"
    },
    "tags": []
   },
   "outputs": [
    {
     "data": {
      "text/plain": [
       "[165, 169, 167]"
      ]
     },
     "execution_count": 14,
     "metadata": {},
     "output_type": "execute_result"
    }
   ],
   "source": [
    "mandalay_filter = (mandalay_df['Customer type'] == 'Member')\n",
    "mandalay_member_df = mandalay_df[mandalay_filter].copy()\n",
    "mandalay_members = len(mandalay_member_df['Customer type'])\n",
    "\n",
    "napy_filter = (napy_df['Customer type'] == 'Member')\n",
    "napy_member_df = napy_df[napy_filter].copy()\n",
    "napy_members = len(napy_member_df['Customer type'])\n",
    "\n",
    "yan_filter = (yan_df['Customer type'] == 'Member')\n",
    "yan_member_df = yan_df[yan_filter].copy()\n",
    "yan_members = len(yan_member_df['Customer type'])\n",
    "\n",
    "city_members = [mandalay_members, napy_members, yan_members]\n",
    "city_members"
   ]
  },
  {
   "cell_type": "markdown",
   "id": "aggressive-essex",
   "metadata": {
    "papermill": {
     "duration": 0.071071,
     "end_time": "2021-06-22T14:36:14.753361",
     "exception": false,
     "start_time": "2021-06-22T14:36:14.682290",
     "status": "completed"
    },
    "tags": []
   },
   "source": [
    "#### **C. Plotting the Performance Metrics for all Supermarket Branches** "
   ]
  },
  {
   "cell_type": "code",
   "execution_count": 48,
   "id": "placed-hostel",
   "metadata": {
    "papermill": {
     "duration": 0.427205,
     "end_time": "2021-06-22T14:36:15.252128",
     "exception": false,
     "start_time": "2021-06-22T14:36:14.824923",
     "status": "completed"
    },
    "tags": []
   },
   "outputs": [
    {
     "data": {
      "image/png": "[encoded data removed]",
      "text/plain": [
       "<Figure size 1224x1224 with 3 Axes>"
      ]
     },
     "metadata": {},
     "output_type": "display_data"
    }
   ],
   "source": [
    "fig, axs = plt.subplots(1, 3, figsize=(17, 17))\n",
    "axs[0].pie(city_sales, colors = ['#ffc947', '#2940d3', '#ff96ad'], radius=1.2, autopct = \"%0.1f%%\")\n",
    "axs[0].set_title('Total Sales Comparison of Different Cities', fontsize=14)\n",
    "axs[0].legend(city_names, loc = 'upper right', bbox_to_anchor=(1.25,1), fontsize=12)\n",
    "axs[0].set_aspect('equal')\n",
    "\n",
    "axs[1].pie(city_profit, colors = ['#ffc947', '#2940d3', '#ff96ad'], radius=1.2, autopct = \"%0.1f%%\")\n",
    "axs[1].set_title('Total Profit Comparison of Different Cities', fontsize=14)\n",
    "axs[1].legend(city_names, loc = 'upper right', bbox_to_anchor=(1.25,1), fontsize=12)\n",
    "axs[1].set_aspect('equal')\n",
    "\n",
    "axs[2].pie(city_members, colors = ['#ffc947', '#2940d3', '#ff96ad'], radius=1.2, autopct = \"%0.1f%%\")\n",
    "axs[2].set_title('Members Comparison of Different Cities', fontsize=14)\n",
    "axs[2].legend(city_names, loc = 'upper right', bbox_to_anchor=(1.25,1), fontsize=12)\n",
    "axs[2].set_aspect('equal')\n",
    "\n",
    "plt.subplots_adjust(left=0.1,\n",
    "                    bottom=0.1, \n",
    "                    right=0.9, \n",
    "                    top=0.9, \n",
    "                    wspace=0.4, \n",
    "                    hspace=0.4)\n",
    "plt.savefig(\"../visualizations/03-region-comparison.png\")\n",
    "plt.show()"
   ]
  },
  {
   "cell_type": "markdown",
   "id": "willing-penguin",
   "metadata": {
    "papermill": {
     "duration": 0.072633,
     "end_time": "2021-06-22T14:36:15.398044",
     "exception": false,
     "start_time": "2021-06-22T14:36:15.325411",
     "status": "completed"
    },
    "tags": []
   },
   "source": [
    "#### **# Result:** \n",
    "* Sales and profit of Napyitaw is slightly larger. \n",
    "* All the branches have almost same members."
   ]
  },
  {
   "cell_type": "markdown",
   "id": "spanish-needle",
   "metadata": {
    "papermill": {
     "duration": 0.073834,
     "end_time": "2021-06-22T14:36:15.545033",
     "exception": false,
     "start_time": "2021-06-22T14:36:15.471199",
     "status": "completed"
    },
    "tags": []
   },
   "source": [
    "# **Question #3: What were the most sold items? What is the most profitable product line?**"
   ]
  },
  {
   "cell_type": "markdown",
   "id": "interior-victorian",
   "metadata": {
    "papermill": {
     "duration": 0.072505,
     "end_time": "2021-06-22T14:36:15.690783",
     "exception": false,
     "start_time": "2021-06-22T14:36:15.618278",
     "status": "completed"
    },
    "tags": []
   },
   "source": [
    "#### **A. Grouping Dataframe According to the Product Line**"
   ]
  },
  {
   "cell_type": "code",
   "execution_count": 16,
   "id": "another-trigger",
   "metadata": {
    "papermill": {
     "duration": 0.117517,
     "end_time": "2021-06-22T14:36:15.881311",
     "exception": false,
     "start_time": "2021-06-22T14:36:15.763794",
     "status": "completed"
    },
    "tags": []
   },
   "outputs": [
    {
     "data": {
      "text/html": [
       "<div>\n",
       "<style scoped>\n",
       "    .dataframe tbody tr th:only-of-type {\n",
       "        vertical-align: middle;\n",
       "    }\n",
       "\n",
       "    .dataframe tbody tr th {\n",
       "        vertical-align: top;\n",
       "    }\n",
       "\n",
       "    .dataframe thead th {\n",
       "        text-align: right;\n",
       "    }\n",
       "</style>\n",
       "<table border=\"1\" class=\"dataframe\">\n",
       "  <thead>\n",
       "    <tr style=\"text-align: right;\">\n",
       "      <th></th>\n",
       "      <th>Unit price</th>\n",
       "      <th>Quantity</th>\n",
       "      <th>Tax 5%</th>\n",
       "      <th>Total</th>\n",
       "      <th>cogs</th>\n",
       "      <th>gross margin percentage</th>\n",
       "      <th>gross income</th>\n",
       "      <th>Rating</th>\n",
       "      <th>Month</th>\n",
       "    </tr>\n",
       "    <tr>\n",
       "      <th>Product line</th>\n",
       "      <th></th>\n",
       "      <th></th>\n",
       "      <th></th>\n",
       "      <th></th>\n",
       "      <th></th>\n",
       "      <th></th>\n",
       "      <th></th>\n",
       "      <th></th>\n",
       "      <th></th>\n",
       "    </tr>\n",
       "  </thead>\n",
       "  <tbody>\n",
       "    <tr>\n",
       "      <th>Electronic accessories</th>\n",
       "      <td>9.375664</td>\n",
       "      <td>971</td>\n",
       "      <td>2587.5015</td>\n",
       "      <td>54337.5315</td>\n",
       "      <td>51750.03</td>\n",
       "      <td>0.833701</td>\n",
       "      <td>2587.5015</td>\n",
       "      <td>7.0632</td>\n",
       "      <td>348</td>\n",
       "    </tr>\n",
       "    <tr>\n",
       "      <th>Fashion accessories</th>\n",
       "      <td>11.278659</td>\n",
       "      <td>902</td>\n",
       "      <td>2585.9950</td>\n",
       "      <td>54305.8950</td>\n",
       "      <td>51719.90</td>\n",
       "      <td>0.939711</td>\n",
       "      <td>2585.9950</td>\n",
       "      <td>7.5072</td>\n",
       "      <td>346</td>\n",
       "    </tr>\n",
       "    <tr>\n",
       "      <th>Food and beverages</th>\n",
       "      <td>10.236912</td>\n",
       "      <td>952</td>\n",
       "      <td>2673.5640</td>\n",
       "      <td>56144.8440</td>\n",
       "      <td>53471.28</td>\n",
       "      <td>0.870348</td>\n",
       "      <td>2673.5640</td>\n",
       "      <td>7.4262</td>\n",
       "      <td>348</td>\n",
       "    </tr>\n",
       "    <tr>\n",
       "      <th>Health and beauty</th>\n",
       "      <td>9.763326</td>\n",
       "      <td>854</td>\n",
       "      <td>2342.5590</td>\n",
       "      <td>49193.7390</td>\n",
       "      <td>46851.18</td>\n",
       "      <td>0.847552</td>\n",
       "      <td>2342.5590</td>\n",
       "      <td>6.3870</td>\n",
       "      <td>312</td>\n",
       "    </tr>\n",
       "    <tr>\n",
       "      <th>Home and lifestyle</th>\n",
       "      <td>9.715379</td>\n",
       "      <td>911</td>\n",
       "      <td>2564.8530</td>\n",
       "      <td>53861.9130</td>\n",
       "      <td>51297.06</td>\n",
       "      <td>0.836339</td>\n",
       "      <td>2564.8530</td>\n",
       "      <td>6.5640</td>\n",
       "      <td>324</td>\n",
       "    </tr>\n",
       "    <tr>\n",
       "      <th>Sports and travel</th>\n",
       "      <td>10.283565</td>\n",
       "      <td>920</td>\n",
       "      <td>2624.8965</td>\n",
       "      <td>55122.8265</td>\n",
       "      <td>52497.93</td>\n",
       "      <td>0.859213</td>\n",
       "      <td>2624.8965</td>\n",
       "      <td>6.8886</td>\n",
       "      <td>315</td>\n",
       "    </tr>\n",
       "  </tbody>\n",
       "</table>\n",
       "</div>"
      ],
      "text/plain": [
       "                        Unit price  Quantity     Tax 5%       Total      cogs  \\\n",
       "Product line                                                                    \n",
       "Electronic accessories    9.375664       971  2587.5015  54337.5315  51750.03   \n",
       "Fashion accessories      11.278659       902  2585.9950  54305.8950  51719.90   \n",
       "Food and beverages       10.236912       952  2673.5640  56144.8440  53471.28   \n",
       "Health and beauty         9.763326       854  2342.5590  49193.7390  46851.18   \n",
       "Home and lifestyle        9.715379       911  2564.8530  53861.9130  51297.06   \n",
       "Sports and travel        10.283565       920  2624.8965  55122.8265  52497.93   \n",
       "\n",
       "                        gross margin percentage  gross income  Rating  Month  \n",
       "Product line                                                                  \n",
       "Electronic accessories                 0.833701     2587.5015  7.0632    348  \n",
       "Fashion accessories                    0.939711     2585.9950  7.5072    346  \n",
       "Food and beverages                     0.870348     2673.5640  7.4262    348  \n",
       "Health and beauty                      0.847552     2342.5590  6.3870    312  \n",
       "Home and lifestyle                     0.836339     2564.8530  6.5640    324  \n",
       "Sports and travel                      0.859213     2624.8965  6.8886    315  "
      ]
     },
     "execution_count": 16,
     "metadata": {},
     "output_type": "execute_result"
    }
   ],
   "source": [
    "# Grouping dataframe \n",
    "sales = supermarket_ram.groupby('Product line').sum()\n",
    "sales['Unit price'] = sales['Unit price']/sales['Quantity']\n",
    "\n",
    "# Correcting corresponding columns \n",
    "sales['gross margin percentage'] = sales['gross margin percentage']/sales['Quantity'] \n",
    "sales['Rating'] = (sales['Rating'])*(len(sales['Rating'])/len(supermarket_ram['Rating'])) \n",
    "sales.head(10)"
   ]
  },
  {
   "cell_type": "markdown",
   "id": "parallel-amino",
   "metadata": {
    "papermill": {
     "duration": 0.073177,
     "end_time": "2021-06-22T14:36:16.028310",
     "exception": false,
     "start_time": "2021-06-22T14:36:15.955133",
     "status": "completed"
    },
    "tags": []
   },
   "source": [
    "#### **B. Plotting the Sales of Different Product Lines and Representing Corresponding Prices and Profits**"
   ]
  },
  {
   "cell_type": "code",
   "execution_count": 49,
   "id": "vulnerable-concern",
   "metadata": {
    "papermill": {
     "duration": 0.677246,
     "end_time": "2021-06-22T14:36:16.779083",
     "exception": false,
     "start_time": "2021-06-22T14:36:16.101837",
     "status": "completed"
    },
    "tags": []
   },
   "outputs": [
    {
     "ename": "KeyError",
     "evalue": "'Electronic accessories'",
     "output_type": "error",
     "traceback": [
      "\u001b[0;31m---------------------------------------------------------------------------\u001b[0m",
      "\u001b[0;31mKeyError\u001b[0m                                  Traceback (most recent call last)",
      "\u001b[0;32m/tmp/ipykernel_9866/3348292100.py\u001b[0m in \u001b[0;36m<module>\u001b[0;34m\u001b[0m\n\u001b[1;32m      4\u001b[0m \u001b[0;34m\u001b[0m\u001b[0m\n\u001b[1;32m      5\u001b[0m \u001b[0;31m# Plotting Bar Chart\u001b[0m\u001b[0;34m\u001b[0m\u001b[0;34m\u001b[0m\u001b[0m\n\u001b[0;32m----> 6\u001b[0;31m \u001b[0max1\u001b[0m \u001b[0;34m=\u001b[0m \u001b[0msns\u001b[0m\u001b[0;34m.\u001b[0m\u001b[0mbarplot\u001b[0m\u001b[0;34m(\u001b[0m\u001b[0mx\u001b[0m\u001b[0;34m=\u001b[0m\u001b[0mproducts\u001b[0m\u001b[0;34m,\u001b[0m \u001b[0my\u001b[0m\u001b[0;34m=\u001b[0m\u001b[0msales\u001b[0m\u001b[0;34m[\u001b[0m\u001b[0;34m'Total'\u001b[0m\u001b[0;34m]\u001b[0m\u001b[0;34m,\u001b[0m \u001b[0mdata\u001b[0m \u001b[0;34m=\u001b[0m \u001b[0msales\u001b[0m\u001b[0;34m,\u001b[0m \u001b[0mpalette\u001b[0m\u001b[0;34m=\u001b[0m\u001b[0;34m'crest'\u001b[0m\u001b[0;34m)\u001b[0m\u001b[0;34m\u001b[0m\u001b[0;34m\u001b[0m\u001b[0m\n\u001b[0m\u001b[1;32m      7\u001b[0m \u001b[0max1\u001b[0m\u001b[0;34m.\u001b[0m\u001b[0mset_title\u001b[0m\u001b[0;34m(\u001b[0m\u001b[0;34m'Sales of Different Products'\u001b[0m\u001b[0;34m,\u001b[0m \u001b[0mfontsize\u001b[0m \u001b[0;34m=\u001b[0m \u001b[0;36m16\u001b[0m\u001b[0;34m)\u001b[0m\u001b[0;34m\u001b[0m\u001b[0;34m\u001b[0m\u001b[0m\n\u001b[1;32m      8\u001b[0m \u001b[0max1\u001b[0m\u001b[0;34m.\u001b[0m\u001b[0mset_ylabel\u001b[0m\u001b[0;34m(\u001b[0m\u001b[0;34m'Total Sales'\u001b[0m\u001b[0;34m,\u001b[0m \u001b[0mfontsize\u001b[0m\u001b[0;34m=\u001b[0m\u001b[0;36m16\u001b[0m\u001b[0;34m)\u001b[0m\u001b[0;34m\u001b[0m\u001b[0;34m\u001b[0m\u001b[0m\n",
      "\u001b[0;32m~/anaconda3/lib/python3.9/site-packages/seaborn/_decorators.py\u001b[0m in \u001b[0;36minner_f\u001b[0;34m(*args, **kwargs)\u001b[0m\n\u001b[1;32m     44\u001b[0m             )\n\u001b[1;32m     45\u001b[0m         \u001b[0mkwargs\u001b[0m\u001b[0;34m.\u001b[0m\u001b[0mupdate\u001b[0m\u001b[0;34m(\u001b[0m\u001b[0;34m{\u001b[0m\u001b[0mk\u001b[0m\u001b[0;34m:\u001b[0m \u001b[0marg\u001b[0m \u001b[0;32mfor\u001b[0m \u001b[0mk\u001b[0m\u001b[0;34m,\u001b[0m \u001b[0marg\u001b[0m \u001b[0;32min\u001b[0m \u001b[0mzip\u001b[0m\u001b[0;34m(\u001b[0m\u001b[0msig\u001b[0m\u001b[0;34m.\u001b[0m\u001b[0mparameters\u001b[0m\u001b[0;34m,\u001b[0m \u001b[0margs\u001b[0m\u001b[0;34m)\u001b[0m\u001b[0;34m}\u001b[0m\u001b[0;34m)\u001b[0m\u001b[0;34m\u001b[0m\u001b[0;34m\u001b[0m\u001b[0m\n\u001b[0;32m---> 46\u001b[0;31m         \u001b[0;32mreturn\u001b[0m \u001b[0mf\u001b[0m\u001b[0;34m(\u001b[0m\u001b[0;34m**\u001b[0m\u001b[0mkwargs\u001b[0m\u001b[0;34m)\u001b[0m\u001b[0;34m\u001b[0m\u001b[0;34m\u001b[0m\u001b[0m\n\u001b[0m\u001b[1;32m     47\u001b[0m     \u001b[0;32mreturn\u001b[0m \u001b[0minner_f\u001b[0m\u001b[0;34m\u001b[0m\u001b[0;34m\u001b[0m\u001b[0m\n\u001b[1;32m     48\u001b[0m \u001b[0;34m\u001b[0m\u001b[0m\n",
      "\u001b[0;32m~/anaconda3/lib/python3.9/site-packages/seaborn/categorical.py\u001b[0m in \u001b[0;36mbarplot\u001b[0;34m(x, y, hue, data, order, hue_order, estimator, ci, n_boot, units, seed, orient, color, palette, saturation, errcolor, errwidth, capsize, dodge, ax, **kwargs)\u001b[0m\n\u001b[1;32m   3180\u001b[0m ):\n\u001b[1;32m   3181\u001b[0m \u001b[0;34m\u001b[0m\u001b[0m\n\u001b[0;32m-> 3182\u001b[0;31m     plotter = _BarPlotter(x, y, hue, data, order, hue_order,\n\u001b[0m\u001b[1;32m   3183\u001b[0m                           \u001b[0mestimator\u001b[0m\u001b[0;34m,\u001b[0m \u001b[0mci\u001b[0m\u001b[0;34m,\u001b[0m \u001b[0mn_boot\u001b[0m\u001b[0;34m,\u001b[0m \u001b[0munits\u001b[0m\u001b[0;34m,\u001b[0m \u001b[0mseed\u001b[0m\u001b[0;34m,\u001b[0m\u001b[0;34m\u001b[0m\u001b[0;34m\u001b[0m\u001b[0m\n\u001b[1;32m   3184\u001b[0m                           \u001b[0morient\u001b[0m\u001b[0;34m,\u001b[0m \u001b[0mcolor\u001b[0m\u001b[0;34m,\u001b[0m \u001b[0mpalette\u001b[0m\u001b[0;34m,\u001b[0m \u001b[0msaturation\u001b[0m\u001b[0;34m,\u001b[0m\u001b[0;34m\u001b[0m\u001b[0;34m\u001b[0m\u001b[0m\n",
      "\u001b[0;32m~/anaconda3/lib/python3.9/site-packages/seaborn/categorical.py\u001b[0m in \u001b[0;36m__init__\u001b[0;34m(self, x, y, hue, data, order, hue_order, estimator, ci, n_boot, units, seed, orient, color, palette, saturation, errcolor, errwidth, capsize, dodge)\u001b[0m\n\u001b[1;32m   1582\u001b[0m                  errwidth, capsize, dodge):\n\u001b[1;32m   1583\u001b[0m         \u001b[0;34m\"\"\"Initialize the plotter.\"\"\"\u001b[0m\u001b[0;34m\u001b[0m\u001b[0;34m\u001b[0m\u001b[0m\n\u001b[0;32m-> 1584\u001b[0;31m         self.establish_variables(x, y, hue, data, orient,\n\u001b[0m\u001b[1;32m   1585\u001b[0m                                  order, hue_order, units)\n\u001b[1;32m   1586\u001b[0m         \u001b[0mself\u001b[0m\u001b[0;34m.\u001b[0m\u001b[0mestablish_colors\u001b[0m\u001b[0;34m(\u001b[0m\u001b[0mcolor\u001b[0m\u001b[0;34m,\u001b[0m \u001b[0mpalette\u001b[0m\u001b[0;34m,\u001b[0m \u001b[0msaturation\u001b[0m\u001b[0;34m)\u001b[0m\u001b[0;34m\u001b[0m\u001b[0;34m\u001b[0m\u001b[0m\n",
      "\u001b[0;32m~/anaconda3/lib/python3.9/site-packages/seaborn/categorical.py\u001b[0m in \u001b[0;36mestablish_variables\u001b[0;34m(self, x, y, hue, data, orient, order, hue_order, units)\u001b[0m\n\u001b[1;32m    204\u001b[0m \u001b[0;34m\u001b[0m\u001b[0m\n\u001b[1;32m    205\u001b[0m                 \u001b[0;31m# Group the numeric data\u001b[0m\u001b[0;34m\u001b[0m\u001b[0;34m\u001b[0m\u001b[0m\n\u001b[0;32m--> 206\u001b[0;31m                 plot_data, value_label = self._group_longform(vals, groups,\n\u001b[0m\u001b[1;32m    207\u001b[0m                                                               group_names)\n\u001b[1;32m    208\u001b[0m \u001b[0;34m\u001b[0m\u001b[0m\n",
      "\u001b[0;32m~/anaconda3/lib/python3.9/site-packages/seaborn/categorical.py\u001b[0m in \u001b[0;36m_group_longform\u001b[0;34m(self, vals, grouper, order)\u001b[0m\n\u001b[1;32m    251\u001b[0m \u001b[0;34m\u001b[0m\u001b[0m\n\u001b[1;32m    252\u001b[0m         \u001b[0;31m# Group the val data\u001b[0m\u001b[0;34m\u001b[0m\u001b[0;34m\u001b[0m\u001b[0m\n\u001b[0;32m--> 253\u001b[0;31m         \u001b[0mgrouped_vals\u001b[0m \u001b[0;34m=\u001b[0m \u001b[0mvals\u001b[0m\u001b[0;34m.\u001b[0m\u001b[0mgroupby\u001b[0m\u001b[0;34m(\u001b[0m\u001b[0mgrouper\u001b[0m\u001b[0;34m)\u001b[0m\u001b[0;34m\u001b[0m\u001b[0;34m\u001b[0m\u001b[0m\n\u001b[0m\u001b[1;32m    254\u001b[0m         \u001b[0mout_data\u001b[0m \u001b[0;34m=\u001b[0m \u001b[0;34m[\u001b[0m\u001b[0;34m]\u001b[0m\u001b[0;34m\u001b[0m\u001b[0;34m\u001b[0m\u001b[0m\n\u001b[1;32m    255\u001b[0m         \u001b[0;32mfor\u001b[0m \u001b[0mg\u001b[0m \u001b[0;32min\u001b[0m \u001b[0morder\u001b[0m\u001b[0;34m:\u001b[0m\u001b[0;34m\u001b[0m\u001b[0;34m\u001b[0m\u001b[0m\n",
      "\u001b[0;32m~/anaconda3/lib/python3.9/site-packages/pandas/core/series.py\u001b[0m in \u001b[0;36mgroupby\u001b[0;34m(self, by, axis, level, as_index, sort, group_keys, squeeze, observed, dropna)\u001b[0m\n\u001b[1;32m   1882\u001b[0m         \u001b[0;31m# error: Argument \"squeeze\" to \"SeriesGroupBy\" has incompatible type\u001b[0m\u001b[0;34m\u001b[0m\u001b[0;34m\u001b[0m\u001b[0m\n\u001b[1;32m   1883\u001b[0m         \u001b[0;31m# \"Union[bool, NoDefault]\"; expected \"bool\"\u001b[0m\u001b[0;34m\u001b[0m\u001b[0;34m\u001b[0m\u001b[0m\n\u001b[0;32m-> 1884\u001b[0;31m         return SeriesGroupBy(\n\u001b[0m\u001b[1;32m   1885\u001b[0m             \u001b[0mobj\u001b[0m\u001b[0;34m=\u001b[0m\u001b[0mself\u001b[0m\u001b[0;34m,\u001b[0m\u001b[0;34m\u001b[0m\u001b[0;34m\u001b[0m\u001b[0m\n\u001b[1;32m   1886\u001b[0m             \u001b[0mkeys\u001b[0m\u001b[0;34m=\u001b[0m\u001b[0mby\u001b[0m\u001b[0;34m,\u001b[0m\u001b[0;34m\u001b[0m\u001b[0;34m\u001b[0m\u001b[0m\n",
      "\u001b[0;32m~/anaconda3/lib/python3.9/site-packages/pandas/core/groupby/groupby.py\u001b[0m in \u001b[0;36m__init__\u001b[0;34m(self, obj, keys, axis, level, grouper, exclusions, selection, as_index, sort, group_keys, squeeze, observed, mutated, dropna)\u001b[0m\n\u001b[1;32m    887\u001b[0m             \u001b[0;32mfrom\u001b[0m \u001b[0mpandas\u001b[0m\u001b[0;34m.\u001b[0m\u001b[0mcore\u001b[0m\u001b[0;34m.\u001b[0m\u001b[0mgroupby\u001b[0m\u001b[0;34m.\u001b[0m\u001b[0mgrouper\u001b[0m \u001b[0;32mimport\u001b[0m \u001b[0mget_grouper\u001b[0m\u001b[0;34m\u001b[0m\u001b[0;34m\u001b[0m\u001b[0m\n\u001b[1;32m    888\u001b[0m \u001b[0;34m\u001b[0m\u001b[0m\n\u001b[0;32m--> 889\u001b[0;31m             grouper, exclusions, obj = get_grouper(\n\u001b[0m\u001b[1;32m    890\u001b[0m                 \u001b[0mobj\u001b[0m\u001b[0;34m,\u001b[0m\u001b[0;34m\u001b[0m\u001b[0;34m\u001b[0m\u001b[0m\n\u001b[1;32m    891\u001b[0m                 \u001b[0mkeys\u001b[0m\u001b[0;34m,\u001b[0m\u001b[0;34m\u001b[0m\u001b[0;34m\u001b[0m\u001b[0m\n",
      "\u001b[0;32m~/anaconda3/lib/python3.9/site-packages/pandas/core/groupby/grouper.py\u001b[0m in \u001b[0;36mget_grouper\u001b[0;34m(obj, key, axis, level, sort, observed, mutated, validate, dropna)\u001b[0m\n\u001b[1;32m    860\u001b[0m                 \u001b[0min_axis\u001b[0m\u001b[0;34m,\u001b[0m \u001b[0mlevel\u001b[0m\u001b[0;34m,\u001b[0m \u001b[0mgpr\u001b[0m \u001b[0;34m=\u001b[0m \u001b[0;32mFalse\u001b[0m\u001b[0;34m,\u001b[0m \u001b[0mgpr\u001b[0m\u001b[0;34m,\u001b[0m \u001b[0;32mNone\u001b[0m\u001b[0;34m\u001b[0m\u001b[0;34m\u001b[0m\u001b[0m\n\u001b[1;32m    861\u001b[0m             \u001b[0;32melse\u001b[0m\u001b[0;34m:\u001b[0m\u001b[0;34m\u001b[0m\u001b[0;34m\u001b[0m\u001b[0m\n\u001b[0;32m--> 862\u001b[0;31m                 \u001b[0;32mraise\u001b[0m \u001b[0mKeyError\u001b[0m\u001b[0;34m(\u001b[0m\u001b[0mgpr\u001b[0m\u001b[0;34m)\u001b[0m\u001b[0;34m\u001b[0m\u001b[0;34m\u001b[0m\u001b[0m\n\u001b[0m\u001b[1;32m    863\u001b[0m         \u001b[0;32melif\u001b[0m \u001b[0misinstance\u001b[0m\u001b[0;34m(\u001b[0m\u001b[0mgpr\u001b[0m\u001b[0;34m,\u001b[0m \u001b[0mGrouper\u001b[0m\u001b[0;34m)\u001b[0m \u001b[0;32mand\u001b[0m \u001b[0mgpr\u001b[0m\u001b[0;34m.\u001b[0m\u001b[0mkey\u001b[0m \u001b[0;32mis\u001b[0m \u001b[0;32mnot\u001b[0m \u001b[0;32mNone\u001b[0m\u001b[0;34m:\u001b[0m\u001b[0;34m\u001b[0m\u001b[0;34m\u001b[0m\u001b[0m\n\u001b[1;32m    864\u001b[0m             \u001b[0;31m# Add key to exclusions\u001b[0m\u001b[0;34m\u001b[0m\u001b[0;34m\u001b[0m\u001b[0m\n",
      "\u001b[0;31mKeyError\u001b[0m: 'Electronic accessories'"
     ]
    },
    {
     "data": {
      "image/png": "[encoded data removed]",
      "text/plain": [
       "<Figure size 720x432 with 1 Axes>"
      ]
     },
     "metadata": {},
     "output_type": "display_data"
    }
   ],
   "source": [
    "# Declaring figure parameters\n",
    "products =  [Product for Product, df in supermarket_ram.groupby('Product line')]\n",
    "fig, ax1 = plt.subplots(figsize=(10, 6))\n",
    "\n",
    "# Plotting Bar Chart\n",
    "ax1 = sns.barplot(x=products, y=sales['Total'], data = sales, palette='crest')\n",
    "ax1.set_title('Sales of Different Products', fontsize = 16)\n",
    "ax1.set_ylabel('Total Sales', fontsize=16)\n",
    "ax1.tick_params(axis='x', rotation = 30)\n",
    "ax1.set_xticklabels(products, fontsize=12)\n",
    "ax1.tick_params(axis='y')\n",
    "\n",
    "\n",
    "# Plotting Line Charts\n",
    "ax2 = ax1.twinx()\n",
    "ax2 = sns.lineplot(x = products, y= sales['Unit price'], data=sales, color = 'r' ,lw=1.5, marker='o')  # '#ffc947', '#2940d3'\n",
    "ax2.set(ylabel=None)\n",
    "ax2.set(yticklabels=[])\n",
    "# ax2.tick_params(left=False)\n",
    "ax2.set_yticks([])\n",
    "\n",
    "ax3 = ax1.twinx()\n",
    "ax3 = sns.lineplot(x = products, y= sales['gross margin percentage'], data=sales, color = 'black', lw=1.5, marker='o')\n",
    "\n",
    "\n",
    "ax3.set(yticklabels=[])\n",
    "ax3.set(ylabel=None)\n",
    "ax3.set_yticks([])\n",
    "\n",
    "price = mpatches.Patch(color='r')\n",
    "profit = mpatches.Patch(color='black')\n",
    "\n",
    "# Defining Legend\n",
    "name = ['Unit Price', 'Profit(%)']\n",
    "ax1.legend(labels=name, handles=[price, profit], loc=\"upper right\", bbox_to_anchor=(1.14, 1), fontsize=13)\n",
    "\n",
    "plt.savefig(\"../visualizations/04-product-sales-vs-price.png\")\n",
    "plt.show()"
   ]
  },
  {
   "cell_type": "markdown",
   "id": "finite-repair",
   "metadata": {
    "papermill": {
     "duration": 0.075313,
     "end_time": "2021-06-22T14:36:16.930657",
     "exception": false,
     "start_time": "2021-06-22T14:36:16.855344",
     "status": "completed"
    },
    "tags": []
   },
   "source": [
    "#### **# Result:** \n",
    "* The sales of different products are similar. \n",
    "* Profit is approximately proportional to the price. \n",
    "* Profit earned from fashion accessories and food and beverages is significantly larger. "
   ]
  },
  {
   "cell_type": "markdown",
   "id": "direct-specific",
   "metadata": {
    "papermill": {
     "duration": 0.075716,
     "end_time": "2021-06-22T14:36:17.083017",
     "exception": false,
     "start_time": "2021-06-22T14:36:17.007301",
     "status": "completed"
    },
    "tags": []
   },
   "source": [
    "# **Question #4: How are the ratings of different product lines? Is there a relation of ratings with prices?** "
   ]
  },
  {
   "cell_type": "markdown",
   "id": "chronic-family",
   "metadata": {
    "papermill": {
     "duration": 0.076599,
     "end_time": "2021-06-22T14:36:17.235668",
     "exception": false,
     "start_time": "2021-06-22T14:36:17.159069",
     "status": "completed"
    },
    "tags": []
   },
   "source": [
    "#### A. Plotting Ratings and Corresponding Prices   (A sectio pending)"
   ]
  },
  {
   "cell_type": "code",
   "execution_count": 18,
   "id": "charitable-least",
   "metadata": {
    "papermill": {
     "duration": 0.509936,
     "end_time": "2021-06-22T14:36:17.821307",
     "exception": false,
     "start_time": "2021-06-22T14:36:17.311371",
     "status": "completed"
    },
    "tags": []
   },
   "outputs": [
    {
     "data": {
      "image/png": "[encoded data removed]",
      "text/plain": [
       "<Figure size 720x432 with 2 Axes>"
      ]
     },
     "metadata": {},
     "output_type": "display_data"
    },
    {
     "data": {
      "text/plain": [
       "<Figure size 432x288 with 0 Axes>"
      ]
     },
     "metadata": {},
     "output_type": "display_data"
    }
   ],
   "source": [
    "fig, ax1 = plt.subplots(figsize=(10, 6))\n",
    "\n",
    "\n",
    "\n",
    "\n",
    "ax1 = sns.barplot(x=products, y=sales['Rating'], data = sales, palette='crest')\n",
    "ax1.set_title('Rating of Different Products', fontsize = 16)\n",
    "ax1.set_ylabel('Unit Price', fontsize=16)\n",
    "ax1.set_xticklabels(products, fontsize=12)\n",
    "\n",
    "ax1.tick_params(axis='x', rotation = 30)\n",
    "ax1.tick_params(axis='y')\n",
    "\n",
    "ax3 = ax1.twinx()\n",
    "ax3.set_ylabel('Unit price',  fontsize = 16)\n",
    "ax3 = sns.lineplot(x = products, y= 'Unit price', data=sales, color = 'r', marker='o', lw=1.8)\n",
    "ax3.tick_params(axis='y')\n",
    "\n",
    "plt.savefig(\"../visualizations/05-product-sales-vs-rating.png\")\n",
    "plt.show()"
   ]
  },
  {
   "cell_type": "markdown",
   "id": "eligible-smart",
   "metadata": {
    "papermill": {
     "duration": 0.076852,
     "end_time": "2021-06-22T14:36:17.975777",
     "exception": false,
     "start_time": "2021-06-22T14:36:17.898925",
     "status": "completed"
    },
    "tags": []
   },
   "source": [
    "#### **# Result:** Products with smaller prices tend to get slightly lower ratings."
   ]
  },
  {
   "cell_type": "markdown",
   "id": "suitable-charger",
   "metadata": {
    "papermill": {
     "duration": 0.077189,
     "end_time": "2021-06-22T14:36:18.130350",
     "exception": false,
     "start_time": "2021-06-22T14:36:18.053161",
     "status": "completed"
    },
    "tags": []
   },
   "source": [
    "# **# Question #5: Who are the leading buyers?**"
   ]
  },
  {
   "cell_type": "markdown",
   "id": "matched-liability",
   "metadata": {
    "papermill": {
     "duration": 0.078657,
     "end_time": "2021-06-22T14:36:18.286916",
     "exception": false,
     "start_time": "2021-06-22T14:36:18.208259",
     "status": "completed"
    },
    "tags": []
   },
   "source": [
    "#### **A. Obtaining Sales of Members and Non-Members**"
   ]
  },
  {
   "cell_type": "code",
   "execution_count": 19,
   "id": "postal-klein",
   "metadata": {
    "papermill": {
     "duration": 0.102522,
     "end_time": "2021-06-22T14:36:18.467432",
     "exception": false,
     "start_time": "2021-06-22T14:36:18.364910",
     "status": "completed"
    },
    "tags": []
   },
   "outputs": [
    {
     "data": {
      "text/html": [
       "<div>\n",
       "<style scoped>\n",
       "    .dataframe tbody tr th:only-of-type {\n",
       "        vertical-align: middle;\n",
       "    }\n",
       "\n",
       "    .dataframe tbody tr th {\n",
       "        vertical-align: top;\n",
       "    }\n",
       "\n",
       "    .dataframe thead th {\n",
       "        text-align: right;\n",
       "    }\n",
       "</style>\n",
       "<table border=\"1\" class=\"dataframe\">\n",
       "  <thead>\n",
       "    <tr style=\"text-align: right;\">\n",
       "      <th></th>\n",
       "      <th>Unit price</th>\n",
       "      <th>Quantity</th>\n",
       "      <th>Tax 5%</th>\n",
       "      <th>Total</th>\n",
       "      <th>cogs</th>\n",
       "      <th>gross margin percentage</th>\n",
       "      <th>gross income</th>\n",
       "      <th>Rating</th>\n",
       "      <th>Month</th>\n",
       "    </tr>\n",
       "    <tr>\n",
       "      <th>Customer type</th>\n",
       "      <th></th>\n",
       "      <th></th>\n",
       "      <th></th>\n",
       "      <th></th>\n",
       "      <th></th>\n",
       "      <th></th>\n",
       "      <th></th>\n",
       "      <th></th>\n",
       "      <th></th>\n",
       "    </tr>\n",
       "  </thead>\n",
       "  <tbody>\n",
       "    <tr>\n",
       "      <th>Member</th>\n",
       "      <td>28159.70</td>\n",
       "      <td>2785</td>\n",
       "      <td>7820.164</td>\n",
       "      <td>164223.444</td>\n",
       "      <td>156403.28</td>\n",
       "      <td>2385.714286</td>\n",
       "      <td>7820.164</td>\n",
       "      <td>3477.1</td>\n",
       "      <td>996</td>\n",
       "    </tr>\n",
       "    <tr>\n",
       "      <th>Normal</th>\n",
       "      <td>27512.43</td>\n",
       "      <td>2725</td>\n",
       "      <td>7559.205</td>\n",
       "      <td>158743.305</td>\n",
       "      <td>151184.10</td>\n",
       "      <td>2376.190476</td>\n",
       "      <td>7559.205</td>\n",
       "      <td>3495.6</td>\n",
       "      <td>997</td>\n",
       "    </tr>\n",
       "  </tbody>\n",
       "</table>\n",
       "</div>"
      ],
      "text/plain": [
       "               Unit price  Quantity    Tax 5%       Total       cogs  \\\n",
       "Customer type                                                          \n",
       "Member           28159.70      2785  7820.164  164223.444  156403.28   \n",
       "Normal           27512.43      2725  7559.205  158743.305  151184.10   \n",
       "\n",
       "               gross margin percentage  gross income  Rating  Month  \n",
       "Customer type                                                        \n",
       "Member                     2385.714286      7820.164  3477.1    996  \n",
       "Normal                     2376.190476      7559.205  3495.6    997  "
      ]
     },
     "execution_count": 19,
     "metadata": {},
     "output_type": "execute_result"
    }
   ],
   "source": [
    "customer_type_df = supermarket_ram.groupby('Customer type').sum()\n",
    "member_sales = customer_type_df.iloc[0]['Unit price']\n",
    "normal_sales = customer_type_df.iloc[1]['Unit price']\n",
    "member_normal_sales = [member_sales, normal_sales]\n",
    "member_normal_legend = ['Member', 'Normal']\n",
    "customer_type_df"
   ]
  },
  {
   "cell_type": "markdown",
   "id": "unavailable-drawing",
   "metadata": {
    "papermill": {
     "duration": 0.077865,
     "end_time": "2021-06-22T14:36:18.624736",
     "exception": false,
     "start_time": "2021-06-22T14:36:18.546871",
     "status": "completed"
    },
    "tags": []
   },
   "source": [
    "#### **B. Obtaining Sales of Males and Females**"
   ]
  },
  {
   "cell_type": "code",
   "execution_count": 20,
   "id": "academic-hampshire",
   "metadata": {
    "papermill": {
     "duration": 0.107088,
     "end_time": "2021-06-22T14:36:18.810353",
     "exception": false,
     "start_time": "2021-06-22T14:36:18.703265",
     "status": "completed"
    },
    "tags": []
   },
   "outputs": [
    {
     "data": {
      "text/html": [
       "<div>\n",
       "<style scoped>\n",
       "    .dataframe tbody tr th:only-of-type {\n",
       "        vertical-align: middle;\n",
       "    }\n",
       "\n",
       "    .dataframe tbody tr th {\n",
       "        vertical-align: top;\n",
       "    }\n",
       "\n",
       "    .dataframe thead th {\n",
       "        text-align: right;\n",
       "    }\n",
       "</style>\n",
       "<table border=\"1\" class=\"dataframe\">\n",
       "  <thead>\n",
       "    <tr style=\"text-align: right;\">\n",
       "      <th></th>\n",
       "      <th>Unit price</th>\n",
       "      <th>Quantity</th>\n",
       "      <th>Tax 5%</th>\n",
       "      <th>Total</th>\n",
       "      <th>cogs</th>\n",
       "      <th>gross margin percentage</th>\n",
       "      <th>gross income</th>\n",
       "      <th>Rating</th>\n",
       "      <th>Month</th>\n",
       "    </tr>\n",
       "    <tr>\n",
       "      <th>Gender</th>\n",
       "      <th></th>\n",
       "      <th></th>\n",
       "      <th></th>\n",
       "      <th></th>\n",
       "      <th></th>\n",
       "      <th></th>\n",
       "      <th></th>\n",
       "      <th></th>\n",
       "      <th></th>\n",
       "    </tr>\n",
       "  </thead>\n",
       "  <tbody>\n",
       "    <tr>\n",
       "      <th>Female</th>\n",
       "      <td>27687.24</td>\n",
       "      <td>2869</td>\n",
       "      <td>7994.425</td>\n",
       "      <td>167882.925</td>\n",
       "      <td>159888.50</td>\n",
       "      <td>2385.714286</td>\n",
       "      <td>7994.425</td>\n",
       "      <td>3489.2</td>\n",
       "      <td>987</td>\n",
       "    </tr>\n",
       "    <tr>\n",
       "      <th>Male</th>\n",
       "      <td>27984.89</td>\n",
       "      <td>2641</td>\n",
       "      <td>7384.944</td>\n",
       "      <td>155083.824</td>\n",
       "      <td>147698.88</td>\n",
       "      <td>2376.190476</td>\n",
       "      <td>7384.944</td>\n",
       "      <td>3483.5</td>\n",
       "      <td>1006</td>\n",
       "    </tr>\n",
       "  </tbody>\n",
       "</table>\n",
       "</div>"
      ],
      "text/plain": [
       "        Unit price  Quantity    Tax 5%       Total       cogs  \\\n",
       "Gender                                                          \n",
       "Female    27687.24      2869  7994.425  167882.925  159888.50   \n",
       "Male      27984.89      2641  7384.944  155083.824  147698.88   \n",
       "\n",
       "        gross margin percentage  gross income  Rating  Month  \n",
       "Gender                                                        \n",
       "Female              2385.714286      7994.425  3489.2    987  \n",
       "Male                2376.190476      7384.944  3483.5   1006  "
      ]
     },
     "execution_count": 20,
     "metadata": {},
     "output_type": "execute_result"
    }
   ],
   "source": [
    "customer_gender_df = supermarket_ram.groupby('Gender').sum()\n",
    "female_sales = customer_gender_df.iloc[0]['Total']\n",
    "male_sales = customer_gender_df.iloc[1]['Total']\n",
    "female_male_sales = [female_sales, male_sales]\n",
    "female_male_legend = ['Females', 'Males']\n",
    "customer_gender_df.head()"
   ]
  },
  {
   "cell_type": "markdown",
   "id": "later-texas",
   "metadata": {
    "papermill": {
     "duration": 0.078725,
     "end_time": "2021-06-22T14:36:18.967834",
     "exception": false,
     "start_time": "2021-06-22T14:36:18.889109",
     "status": "completed"
    },
    "tags": []
   },
   "source": [
    "#### **C. Plotting the Sales of Respective Customer Segments**"
   ]
  },
  {
   "cell_type": "code",
   "execution_count": 21,
   "id": "jewish-smith",
   "metadata": {
    "papermill": {
     "duration": 0.30775,
     "end_time": "2021-06-22T14:36:19.354068",
     "exception": false,
     "start_time": "2021-06-22T14:36:19.046318",
     "status": "completed"
    },
    "tags": []
   },
   "outputs": [
    {
     "data": {
      "image/png": "[encoded data removed]",
      "text/plain": [
       "<Figure size 936x936 with 2 Axes>"
      ]
     },
     "metadata": {},
     "output_type": "display_data"
    },
    {
     "data": {
      "text/plain": [
       "<Figure size 432x288 with 0 Axes>"
      ]
     },
     "metadata": {},
     "output_type": "display_data"
    }
   ],
   "source": [
    "fig, axs = plt.subplots(1, 2, figsize=(13, 13))\n",
    "axs[0].pie(member_normal_sales, colors = ['#ffc947', '#2940d3'], radius=1.2, autopct = \"%0.1f%%\")\n",
    "axs[0].set_title('Sales Comparison of Members and Normal Customers')\n",
    "axs[0].legend(member_normal_legend, loc = 'upper right')\n",
    "axs[0].set_aspect('equal')\n",
    "\n",
    "axs[1].pie(female_male_sales, colors = ['#ffc947', '#2940d3'], radius=1.2, autopct = \"%0.1f%%\")\n",
    "axs[1].set_title('Sales Comparison of Males and Females')\n",
    "axs[1].legend(female_male_legend, loc = 'upper right')\n",
    "axs[1].set_aspect('equal')\n",
    "\n",
    "plt.subplots_adjust(left=0.1,\n",
    "                    bottom=0.1, \n",
    "                    right=0.9, \n",
    "                    top=0.9, \n",
    "                    wspace=0.4, \n",
    "                    hspace=0.4)\n",
    "plt.savefig(\"../visualizations/06-segment-wise-sales-.png\")\n",
    "plt.show()"
   ]
  },
  {
   "cell_type": "markdown",
   "id": "revised-spell",
   "metadata": {
    "papermill": {
     "duration": 0.079593,
     "end_time": "2021-06-22T14:36:19.513970",
     "exception": false,
     "start_time": "2021-06-22T14:36:19.434377",
     "status": "completed"
    },
    "tags": []
   },
   "source": [
    "#### # **Result:** \n",
    "* The sale from members and non-members is almost same.\n",
    "* The sale from female customers is slightly more than the male customers. "
   ]
  },
  {
   "cell_type": "markdown",
   "id": "modified-gather",
   "metadata": {
    "papermill": {
     "duration": 0.079822,
     "end_time": "2021-06-22T14:36:19.675053",
     "exception": false,
     "start_time": "2021-06-22T14:36:19.595231",
     "status": "completed"
    },
    "tags": []
   },
   "source": [
    "# **Question #6: Which days of the week have most sales?** "
   ]
  },
  {
   "cell_type": "markdown",
   "id": "lasting-fleet",
   "metadata": {
    "papermill": {
     "duration": 0.080209,
     "end_time": "2021-06-22T14:36:19.835176",
     "exception": false,
     "start_time": "2021-06-22T14:36:19.754967",
     "status": "completed"
    },
    "tags": []
   },
   "source": [
    "#### **A. Adding Day of the Week Column**"
   ]
  },
  {
   "cell_type": "code",
   "execution_count": 22,
   "id": "molecular-doctor",
   "metadata": {
    "papermill": {
     "duration": 0.128821,
     "end_time": "2021-06-22T14:36:20.044545",
     "exception": false,
     "start_time": "2021-06-22T14:36:19.915724",
     "status": "completed"
    },
    "tags": []
   },
   "outputs": [
    {
     "data": {
      "text/html": [
       "<div>\n",
       "<style scoped>\n",
       "    .dataframe tbody tr th:only-of-type {\n",
       "        vertical-align: middle;\n",
       "    }\n",
       "\n",
       "    .dataframe tbody tr th {\n",
       "        vertical-align: top;\n",
       "    }\n",
       "\n",
       "    .dataframe thead th {\n",
       "        text-align: right;\n",
       "    }\n",
       "</style>\n",
       "<table border=\"1\" class=\"dataframe\">\n",
       "  <thead>\n",
       "    <tr style=\"text-align: right;\">\n",
       "      <th></th>\n",
       "      <th>Invoice ID</th>\n",
       "      <th>Branch</th>\n",
       "      <th>City</th>\n",
       "      <th>Customer type</th>\n",
       "      <th>Gender</th>\n",
       "      <th>Product line</th>\n",
       "      <th>Unit price</th>\n",
       "      <th>Quantity</th>\n",
       "      <th>Tax 5%</th>\n",
       "      <th>Total</th>\n",
       "      <th>Date</th>\n",
       "      <th>Time</th>\n",
       "      <th>Payment</th>\n",
       "      <th>cogs</th>\n",
       "      <th>gross margin percentage</th>\n",
       "      <th>gross income</th>\n",
       "      <th>Rating</th>\n",
       "      <th>Month</th>\n",
       "      <th>Day</th>\n",
       "    </tr>\n",
       "  </thead>\n",
       "  <tbody>\n",
       "    <tr>\n",
       "      <th>0</th>\n",
       "      <td>750-67-8428</td>\n",
       "      <td>A</td>\n",
       "      <td>Yangon</td>\n",
       "      <td>Member</td>\n",
       "      <td>Female</td>\n",
       "      <td>Health and beauty</td>\n",
       "      <td>74.69</td>\n",
       "      <td>7</td>\n",
       "      <td>26.1415</td>\n",
       "      <td>548.9715</td>\n",
       "      <td>2019-01-05</td>\n",
       "      <td>13:08</td>\n",
       "      <td>Ewallet</td>\n",
       "      <td>522.83</td>\n",
       "      <td>4.761905</td>\n",
       "      <td>26.1415</td>\n",
       "      <td>9.1</td>\n",
       "      <td>1</td>\n",
       "      <td>Saturday</td>\n",
       "    </tr>\n",
       "    <tr>\n",
       "      <th>1</th>\n",
       "      <td>226-31-3081</td>\n",
       "      <td>C</td>\n",
       "      <td>Naypyitaw</td>\n",
       "      <td>Normal</td>\n",
       "      <td>Female</td>\n",
       "      <td>Electronic accessories</td>\n",
       "      <td>15.28</td>\n",
       "      <td>5</td>\n",
       "      <td>3.8200</td>\n",
       "      <td>80.2200</td>\n",
       "      <td>2019-03-08</td>\n",
       "      <td>10:29</td>\n",
       "      <td>Cash</td>\n",
       "      <td>76.40</td>\n",
       "      <td>4.761905</td>\n",
       "      <td>3.8200</td>\n",
       "      <td>9.6</td>\n",
       "      <td>3</td>\n",
       "      <td>Friday</td>\n",
       "    </tr>\n",
       "    <tr>\n",
       "      <th>2</th>\n",
       "      <td>631-41-3108</td>\n",
       "      <td>A</td>\n",
       "      <td>Yangon</td>\n",
       "      <td>Normal</td>\n",
       "      <td>Male</td>\n",
       "      <td>Home and lifestyle</td>\n",
       "      <td>46.33</td>\n",
       "      <td>7</td>\n",
       "      <td>16.2155</td>\n",
       "      <td>340.5255</td>\n",
       "      <td>2019-03-03</td>\n",
       "      <td>13:23</td>\n",
       "      <td>Credit card</td>\n",
       "      <td>324.31</td>\n",
       "      <td>4.761905</td>\n",
       "      <td>16.2155</td>\n",
       "      <td>7.4</td>\n",
       "      <td>3</td>\n",
       "      <td>Sunday</td>\n",
       "    </tr>\n",
       "    <tr>\n",
       "      <th>3</th>\n",
       "      <td>123-19-1176</td>\n",
       "      <td>A</td>\n",
       "      <td>Yangon</td>\n",
       "      <td>Member</td>\n",
       "      <td>Male</td>\n",
       "      <td>Health and beauty</td>\n",
       "      <td>58.22</td>\n",
       "      <td>8</td>\n",
       "      <td>23.2880</td>\n",
       "      <td>489.0480</td>\n",
       "      <td>2019-01-27</td>\n",
       "      <td>20:33</td>\n",
       "      <td>Ewallet</td>\n",
       "      <td>465.76</td>\n",
       "      <td>4.761905</td>\n",
       "      <td>23.2880</td>\n",
       "      <td>8.4</td>\n",
       "      <td>1</td>\n",
       "      <td>Sunday</td>\n",
       "    </tr>\n",
       "    <tr>\n",
       "      <th>4</th>\n",
       "      <td>373-73-7910</td>\n",
       "      <td>A</td>\n",
       "      <td>Yangon</td>\n",
       "      <td>Normal</td>\n",
       "      <td>Male</td>\n",
       "      <td>Sports and travel</td>\n",
       "      <td>86.31</td>\n",
       "      <td>7</td>\n",
       "      <td>30.2085</td>\n",
       "      <td>634.3785</td>\n",
       "      <td>2019-02-08</td>\n",
       "      <td>10:37</td>\n",
       "      <td>Ewallet</td>\n",
       "      <td>604.17</td>\n",
       "      <td>4.761905</td>\n",
       "      <td>30.2085</td>\n",
       "      <td>5.3</td>\n",
       "      <td>2</td>\n",
       "      <td>Friday</td>\n",
       "    </tr>\n",
       "  </tbody>\n",
       "</table>\n",
       "</div>"
      ],
      "text/plain": [
       "    Invoice ID Branch       City Customer type  Gender  \\\n",
       "0  750-67-8428      A     Yangon        Member  Female   \n",
       "1  226-31-3081      C  Naypyitaw        Normal  Female   \n",
       "2  631-41-3108      A     Yangon        Normal    Male   \n",
       "3  123-19-1176      A     Yangon        Member    Male   \n",
       "4  373-73-7910      A     Yangon        Normal    Male   \n",
       "\n",
       "             Product line  Unit price  Quantity   Tax 5%     Total       Date  \\\n",
       "0       Health and beauty       74.69         7  26.1415  548.9715 2019-01-05   \n",
       "1  Electronic accessories       15.28         5   3.8200   80.2200 2019-03-08   \n",
       "2      Home and lifestyle       46.33         7  16.2155  340.5255 2019-03-03   \n",
       "3       Health and beauty       58.22         8  23.2880  489.0480 2019-01-27   \n",
       "4       Sports and travel       86.31         7  30.2085  634.3785 2019-02-08   \n",
       "\n",
       "    Time      Payment    cogs  gross margin percentage  gross income  Rating  \\\n",
       "0  13:08      Ewallet  522.83                 4.761905       26.1415     9.1   \n",
       "1  10:29         Cash   76.40                 4.761905        3.8200     9.6   \n",
       "2  13:23  Credit card  324.31                 4.761905       16.2155     7.4   \n",
       "3  20:33      Ewallet  465.76                 4.761905       23.2880     8.4   \n",
       "4  10:37      Ewallet  604.17                 4.761905       30.2085     5.3   \n",
       "\n",
       "   Month       Day  \n",
       "0      1  Saturday  \n",
       "1      3    Friday  \n",
       "2      3    Sunday  \n",
       "3      1    Sunday  \n",
       "4      2    Friday  "
      ]
     },
     "execution_count": 22,
     "metadata": {},
     "output_type": "execute_result"
    }
   ],
   "source": [
    "supermarket_ram['Date'] =  pd.to_datetime(supermarket_ram['Date'])\n",
    "supermarket_ram['Day'] = supermarket_ram['Date'].dt.day_name() # \"day_name()\" is the new command instead of \"day_name\"\n",
    "supermarket_ram.head()"
   ]
  },
  {
   "cell_type": "markdown",
   "id": "statistical-karma",
   "metadata": {
    "papermill": {
     "duration": 0.07958,
     "end_time": "2021-06-22T14:36:20.205461",
     "exception": false,
     "start_time": "2021-06-22T14:36:20.125881",
     "status": "completed"
    },
    "tags": []
   },
   "source": [
    "#### **B. Summing the Total Sales According to the Day of the Week**"
   ]
  },
  {
   "cell_type": "code",
   "execution_count": 23,
   "id": "adjusted-characterization",
   "metadata": {
    "papermill": {
     "duration": 0.109281,
     "end_time": "2021-06-22T14:36:20.396249",
     "exception": false,
     "start_time": "2021-06-22T14:36:20.286968",
     "status": "completed"
    },
    "tags": []
   },
   "outputs": [
    {
     "data": {
      "text/html": [
       "<div>\n",
       "<style scoped>\n",
       "    .dataframe tbody tr th:only-of-type {\n",
       "        vertical-align: middle;\n",
       "    }\n",
       "\n",
       "    .dataframe tbody tr th {\n",
       "        vertical-align: top;\n",
       "    }\n",
       "\n",
       "    .dataframe thead th {\n",
       "        text-align: right;\n",
       "    }\n",
       "</style>\n",
       "<table border=\"1\" class=\"dataframe\">\n",
       "  <thead>\n",
       "    <tr style=\"text-align: right;\">\n",
       "      <th></th>\n",
       "      <th>Unit price</th>\n",
       "      <th>Quantity</th>\n",
       "      <th>Tax 5%</th>\n",
       "      <th>Total</th>\n",
       "      <th>cogs</th>\n",
       "      <th>gross margin percentage</th>\n",
       "      <th>gross income</th>\n",
       "      <th>Rating</th>\n",
       "      <th>Month</th>\n",
       "    </tr>\n",
       "    <tr>\n",
       "      <th>Day</th>\n",
       "      <th></th>\n",
       "      <th></th>\n",
       "      <th></th>\n",
       "      <th></th>\n",
       "      <th></th>\n",
       "      <th></th>\n",
       "      <th></th>\n",
       "      <th></th>\n",
       "      <th></th>\n",
       "    </tr>\n",
       "  </thead>\n",
       "  <tbody>\n",
       "    <tr>\n",
       "      <th>Monday</th>\n",
       "      <td>7216.00</td>\n",
       "      <td>638</td>\n",
       "      <td>1804.7180</td>\n",
       "      <td>37899.0780</td>\n",
       "      <td>36094.36</td>\n",
       "      <td>595.238095</td>\n",
       "      <td>1804.7180</td>\n",
       "      <td>894.2</td>\n",
       "      <td>245</td>\n",
       "    </tr>\n",
       "    <tr>\n",
       "      <th>Tuesday</th>\n",
       "      <td>8664.28</td>\n",
       "      <td>862</td>\n",
       "      <td>2451.5355</td>\n",
       "      <td>51482.2455</td>\n",
       "      <td>49030.71</td>\n",
       "      <td>752.380952</td>\n",
       "      <td>2451.5355</td>\n",
       "      <td>1106.5</td>\n",
       "      <td>312</td>\n",
       "    </tr>\n",
       "    <tr>\n",
       "      <th>Wednesday</th>\n",
       "      <td>7688.35</td>\n",
       "      <td>800</td>\n",
       "      <td>2082.4350</td>\n",
       "      <td>43731.1350</td>\n",
       "      <td>41648.70</td>\n",
       "      <td>680.952381</td>\n",
       "      <td>2082.4350</td>\n",
       "      <td>973.2</td>\n",
       "      <td>280</td>\n",
       "    </tr>\n",
       "    <tr>\n",
       "      <th>Thursday</th>\n",
       "      <td>7860.35</td>\n",
       "      <td>755</td>\n",
       "      <td>2159.4880</td>\n",
       "      <td>45349.2480</td>\n",
       "      <td>43189.76</td>\n",
       "      <td>657.142857</td>\n",
       "      <td>2159.4880</td>\n",
       "      <td>950.8</td>\n",
       "      <td>264</td>\n",
       "    </tr>\n",
       "    <tr>\n",
       "      <th>Friday</th>\n",
       "      <td>7658.52</td>\n",
       "      <td>758</td>\n",
       "      <td>2091.7305</td>\n",
       "      <td>43926.3405</td>\n",
       "      <td>41834.61</td>\n",
       "      <td>661.904762</td>\n",
       "      <td>2091.7305</td>\n",
       "      <td>983.6</td>\n",
       "      <td>289</td>\n",
       "    </tr>\n",
       "    <tr>\n",
       "      <th>Saturday</th>\n",
       "      <td>9333.74</td>\n",
       "      <td>919</td>\n",
       "      <td>2672.4195</td>\n",
       "      <td>56120.8095</td>\n",
       "      <td>53448.39</td>\n",
       "      <td>780.952381</td>\n",
       "      <td>2672.4195</td>\n",
       "      <td>1131.9</td>\n",
       "      <td>337</td>\n",
       "    </tr>\n",
       "    <tr>\n",
       "      <th>Sunday</th>\n",
       "      <td>7250.89</td>\n",
       "      <td>778</td>\n",
       "      <td>2117.0425</td>\n",
       "      <td>44457.8925</td>\n",
       "      <td>42340.85</td>\n",
       "      <td>633.333333</td>\n",
       "      <td>2117.0425</td>\n",
       "      <td>932.5</td>\n",
       "      <td>266</td>\n",
       "    </tr>\n",
       "  </tbody>\n",
       "</table>\n",
       "</div>"
      ],
      "text/plain": [
       "           Unit price  Quantity     Tax 5%       Total      cogs  \\\n",
       "Day                                                                \n",
       "Monday        7216.00       638  1804.7180  37899.0780  36094.36   \n",
       "Tuesday       8664.28       862  2451.5355  51482.2455  49030.71   \n",
       "Wednesday     7688.35       800  2082.4350  43731.1350  41648.70   \n",
       "Thursday      7860.35       755  2159.4880  45349.2480  43189.76   \n",
       "Friday        7658.52       758  2091.7305  43926.3405  41834.61   \n",
       "Saturday      9333.74       919  2672.4195  56120.8095  53448.39   \n",
       "Sunday        7250.89       778  2117.0425  44457.8925  42340.85   \n",
       "\n",
       "           gross margin percentage  gross income  Rating  Month  \n",
       "Day                                                              \n",
       "Monday                  595.238095     1804.7180   894.2    245  \n",
       "Tuesday                 752.380952     2451.5355  1106.5    312  \n",
       "Wednesday               680.952381     2082.4350   973.2    280  \n",
       "Thursday                657.142857     2159.4880   950.8    264  \n",
       "Friday                  661.904762     2091.7305   983.6    289  \n",
       "Saturday                780.952381     2672.4195  1131.9    337  \n",
       "Sunday                  633.333333     2117.0425   932.5    266  "
      ]
     },
     "execution_count": 23,
     "metadata": {},
     "output_type": "execute_result"
    }
   ],
   "source": [
    "daywise_df = supermarket_ram.groupby('Day').sum()\n",
    "daywise_df = daywise_df.reindex(['Monday', 'Tuesday', 'Wednesday', 'Thursday', 'Friday', 'Saturday', 'Sunday']) \n",
    "daywise_df.head(10)"
   ]
  },
  {
   "cell_type": "markdown",
   "id": "devoted-stereo",
   "metadata": {
    "papermill": {
     "duration": 0.081832,
     "end_time": "2021-06-22T14:36:20.559243",
     "exception": false,
     "start_time": "2021-06-22T14:36:20.477411",
     "status": "completed"
    },
    "tags": []
   },
   "source": [
    "#### **C. Plotting the Sales**"
   ]
  },
  {
   "cell_type": "code",
   "execution_count": 24,
   "id": "minimal-mercy",
   "metadata": {
    "papermill": {
     "duration": 0.307479,
     "end_time": "2021-06-22T14:36:20.948494",
     "exception": false,
     "start_time": "2021-06-22T14:36:20.641015",
     "status": "completed"
    },
    "tags": []
   },
   "outputs": [
    {
     "data": {
      "image/png": "[encoded data removed]",
      "text/plain": [
       "<Figure size 720x432 with 1 Axes>"
      ]
     },
     "metadata": {},
     "output_type": "display_data"
    },
    {
     "data": {
      "text/plain": [
       "<Figure size 432x288 with 0 Axes>"
      ]
     },
     "metadata": {},
     "output_type": "display_data"
    }
   ],
   "source": [
    "fig, ax1 = plt.subplots(figsize=(10, 6))\n",
    "\n",
    "daywise_day = ['Monday', 'Tuesday', 'Wednesday', 'Thursday', 'Friday', 'Saturday', 'Sunday']\n",
    "ax1 = sns.barplot(x=daywise_day, y=daywise_df['Total'], data = daywise_df, palette='crest')\n",
    "ax1.set_title('Day-Wise Sales of Supermarket', size=16)\n",
    "\n",
    "ax1.tick_params(axis='x')\n",
    "ax1.tick_params(axis='y')\n",
    "ax1.set_ylabel('Total Sales', fontsize=14)\n",
    "ax1.set_xticklabels(daywise_day, fontsize=14)\n",
    "\n",
    "plt.savefig(\"../visualizations/07-daywise-sales.png\")\n",
    "plt.show()"
   ]
  },
  {
   "cell_type": "markdown",
   "id": "elegant-consultancy",
   "metadata": {
    "papermill": {
     "duration": 0.081724,
     "end_time": "2021-06-22T14:36:21.112823",
     "exception": false,
     "start_time": "2021-06-22T14:36:21.031099",
     "status": "completed"
    },
    "tags": []
   },
   "source": [
    "#### **# Result:** \n",
    "1. Tuesday and saturday have larger sale in the week.\n",
    "2. Monday has the least sale in the week. "
   ]
  },
  {
   "cell_type": "markdown",
   "id": "operating-discount",
   "metadata": {
    "papermill": {
     "duration": 0.081466,
     "end_time": "2021-06-22T14:36:21.276070",
     "exception": false,
     "start_time": "2021-06-22T14:36:21.194604",
     "status": "completed"
    },
    "tags": []
   },
   "source": [
    "# **Question #7:  How different customers prefer visiting the supermarket?** "
   ]
  },
  {
   "cell_type": "markdown",
   "id": "unexpected-tuner",
   "metadata": {
    "papermill": {
     "duration": 0.081581,
     "end_time": "2021-06-22T14:36:21.441900",
     "exception": false,
     "start_time": "2021-06-22T14:36:21.360319",
     "status": "completed"
    },
    "tags": []
   },
   "source": [
    "### **1.1. Sales Analysis Based on Membership**"
   ]
  },
  {
   "cell_type": "markdown",
   "id": "labeled-warner",
   "metadata": {
    "papermill": {
     "duration": 0.082749,
     "end_time": "2021-06-22T14:36:21.606568",
     "exception": false,
     "start_time": "2021-06-22T14:36:21.523819",
     "status": "completed"
    },
    "tags": []
   },
   "source": [
    "#### **A. Filtering and Forming the Data Frame for Members** "
   ]
  },
  {
   "cell_type": "code",
   "execution_count": 25,
   "id": "julian-tumor",
   "metadata": {
    "papermill": {
     "duration": 0.135895,
     "end_time": "2021-06-22T14:36:21.824582",
     "exception": false,
     "start_time": "2021-06-22T14:36:21.688687",
     "status": "completed"
    },
    "tags": []
   },
   "outputs": [
    {
     "data": {
      "text/html": [
       "<div>\n",
       "<style scoped>\n",
       "    .dataframe tbody tr th:only-of-type {\n",
       "        vertical-align: middle;\n",
       "    }\n",
       "\n",
       "    .dataframe tbody tr th {\n",
       "        vertical-align: top;\n",
       "    }\n",
       "\n",
       "    .dataframe thead th {\n",
       "        text-align: right;\n",
       "    }\n",
       "</style>\n",
       "<table border=\"1\" class=\"dataframe\">\n",
       "  <thead>\n",
       "    <tr style=\"text-align: right;\">\n",
       "      <th></th>\n",
       "      <th>Unit price</th>\n",
       "      <th>Quantity</th>\n",
       "      <th>Tax 5%</th>\n",
       "      <th>Total</th>\n",
       "      <th>cogs</th>\n",
       "      <th>gross margin percentage</th>\n",
       "      <th>gross income</th>\n",
       "      <th>Rating</th>\n",
       "      <th>Month</th>\n",
       "    </tr>\n",
       "    <tr>\n",
       "      <th>Day</th>\n",
       "      <th></th>\n",
       "      <th></th>\n",
       "      <th></th>\n",
       "      <th></th>\n",
       "      <th></th>\n",
       "      <th></th>\n",
       "      <th></th>\n",
       "      <th></th>\n",
       "      <th></th>\n",
       "    </tr>\n",
       "  </thead>\n",
       "  <tbody>\n",
       "    <tr>\n",
       "      <th>Monday</th>\n",
       "      <td>3356.34</td>\n",
       "      <td>323</td>\n",
       "      <td>874.0510</td>\n",
       "      <td>18355.0710</td>\n",
       "      <td>17481.02</td>\n",
       "      <td>280.952381</td>\n",
       "      <td>874.0510</td>\n",
       "      <td>445.3</td>\n",
       "      <td>110</td>\n",
       "    </tr>\n",
       "    <tr>\n",
       "      <th>Tuesday</th>\n",
       "      <td>4822.42</td>\n",
       "      <td>491</td>\n",
       "      <td>1366.1650</td>\n",
       "      <td>28689.4650</td>\n",
       "      <td>27323.30</td>\n",
       "      <td>428.571429</td>\n",
       "      <td>1366.1650</td>\n",
       "      <td>616.6</td>\n",
       "      <td>181</td>\n",
       "    </tr>\n",
       "    <tr>\n",
       "      <th>Wednesday</th>\n",
       "      <td>3927.67</td>\n",
       "      <td>436</td>\n",
       "      <td>1092.6150</td>\n",
       "      <td>22944.9150</td>\n",
       "      <td>21852.30</td>\n",
       "      <td>361.904762</td>\n",
       "      <td>1092.6150</td>\n",
       "      <td>506.1</td>\n",
       "      <td>155</td>\n",
       "    </tr>\n",
       "    <tr>\n",
       "      <th>Thursday</th>\n",
       "      <td>3635.17</td>\n",
       "      <td>308</td>\n",
       "      <td>875.8875</td>\n",
       "      <td>18393.6375</td>\n",
       "      <td>17517.75</td>\n",
       "      <td>304.761905</td>\n",
       "      <td>875.8875</td>\n",
       "      <td>431.9</td>\n",
       "      <td>118</td>\n",
       "    </tr>\n",
       "    <tr>\n",
       "      <th>Friday</th>\n",
       "      <td>3722.46</td>\n",
       "      <td>352</td>\n",
       "      <td>1056.3735</td>\n",
       "      <td>22183.8435</td>\n",
       "      <td>21127.47</td>\n",
       "      <td>304.761905</td>\n",
       "      <td>1056.3735</td>\n",
       "      <td>453.4</td>\n",
       "      <td>124</td>\n",
       "    </tr>\n",
       "    <tr>\n",
       "      <th>Saturday</th>\n",
       "      <td>4766.47</td>\n",
       "      <td>464</td>\n",
       "      <td>1339.1885</td>\n",
       "      <td>28122.9585</td>\n",
       "      <td>26783.77</td>\n",
       "      <td>390.476190</td>\n",
       "      <td>1339.1885</td>\n",
       "      <td>558.9</td>\n",
       "      <td>174</td>\n",
       "    </tr>\n",
       "    <tr>\n",
       "      <th>Sunday</th>\n",
       "      <td>3929.17</td>\n",
       "      <td>411</td>\n",
       "      <td>1215.8835</td>\n",
       "      <td>25533.5535</td>\n",
       "      <td>24317.67</td>\n",
       "      <td>314.285714</td>\n",
       "      <td>1215.8835</td>\n",
       "      <td>464.9</td>\n",
       "      <td>134</td>\n",
       "    </tr>\n",
       "  </tbody>\n",
       "</table>\n",
       "</div>"
      ],
      "text/plain": [
       "           Unit price  Quantity     Tax 5%       Total      cogs  \\\n",
       "Day                                                                \n",
       "Monday        3356.34       323   874.0510  18355.0710  17481.02   \n",
       "Tuesday       4822.42       491  1366.1650  28689.4650  27323.30   \n",
       "Wednesday     3927.67       436  1092.6150  22944.9150  21852.30   \n",
       "Thursday      3635.17       308   875.8875  18393.6375  17517.75   \n",
       "Friday        3722.46       352  1056.3735  22183.8435  21127.47   \n",
       "Saturday      4766.47       464  1339.1885  28122.9585  26783.77   \n",
       "Sunday        3929.17       411  1215.8835  25533.5535  24317.67   \n",
       "\n",
       "           gross margin percentage  gross income  Rating  Month  \n",
       "Day                                                              \n",
       "Monday                  280.952381      874.0510   445.3    110  \n",
       "Tuesday                 428.571429     1366.1650   616.6    181  \n",
       "Wednesday               361.904762     1092.6150   506.1    155  \n",
       "Thursday                304.761905      875.8875   431.9    118  \n",
       "Friday                  304.761905     1056.3735   453.4    124  \n",
       "Saturday                390.476190     1339.1885   558.9    174  \n",
       "Sunday                  314.285714     1215.8835   464.9    134  "
      ]
     },
     "execution_count": 25,
     "metadata": {},
     "output_type": "execute_result"
    }
   ],
   "source": [
    "member_filter = (supermarket_ram['Customer type'] == 'Member')\n",
    "member_df = supermarket_ram[member_filter]\n",
    "member_daywise_df = member_df.groupby('Day').sum()\n",
    "member_daywise_df = member_daywise_df.reindex(['Monday', 'Tuesday', 'Wednesday', 'Thursday', 'Friday', 'Saturday', 'Sunday'])\n",
    "member_daywise_df.head(7)"
   ]
  },
  {
   "cell_type": "markdown",
   "id": "individual-drilling",
   "metadata": {
    "papermill": {
     "duration": 0.082182,
     "end_time": "2021-06-22T14:36:21.991165",
     "exception": false,
     "start_time": "2021-06-22T14:36:21.908983",
     "status": "completed"
    },
    "tags": []
   },
   "source": [
    "#### **B. Filtering and forming the dataframe for Non-Members (Normal Customers)**"
   ]
  },
  {
   "cell_type": "code",
   "execution_count": 26,
   "id": "involved-skating",
   "metadata": {
    "papermill": {
     "duration": 0.112421,
     "end_time": "2021-06-22T14:36:22.186136",
     "exception": false,
     "start_time": "2021-06-22T14:36:22.073715",
     "status": "completed"
    },
    "tags": []
   },
   "outputs": [
    {
     "data": {
      "text/html": [
       "<div>\n",
       "<style scoped>\n",
       "    .dataframe tbody tr th:only-of-type {\n",
       "        vertical-align: middle;\n",
       "    }\n",
       "\n",
       "    .dataframe tbody tr th {\n",
       "        vertical-align: top;\n",
       "    }\n",
       "\n",
       "    .dataframe thead th {\n",
       "        text-align: right;\n",
       "    }\n",
       "</style>\n",
       "<table border=\"1\" class=\"dataframe\">\n",
       "  <thead>\n",
       "    <tr style=\"text-align: right;\">\n",
       "      <th></th>\n",
       "      <th>Unit price</th>\n",
       "      <th>Quantity</th>\n",
       "      <th>Tax 5%</th>\n",
       "      <th>Total</th>\n",
       "      <th>cogs</th>\n",
       "      <th>gross margin percentage</th>\n",
       "      <th>gross income</th>\n",
       "      <th>Rating</th>\n",
       "      <th>Month</th>\n",
       "    </tr>\n",
       "    <tr>\n",
       "      <th>Day</th>\n",
       "      <th></th>\n",
       "      <th></th>\n",
       "      <th></th>\n",
       "      <th></th>\n",
       "      <th></th>\n",
       "      <th></th>\n",
       "      <th></th>\n",
       "      <th></th>\n",
       "      <th></th>\n",
       "    </tr>\n",
       "  </thead>\n",
       "  <tbody>\n",
       "    <tr>\n",
       "      <th>Monday</th>\n",
       "      <td>3859.66</td>\n",
       "      <td>315</td>\n",
       "      <td>930.6670</td>\n",
       "      <td>19544.0070</td>\n",
       "      <td>18613.34</td>\n",
       "      <td>314.285714</td>\n",
       "      <td>930.6670</td>\n",
       "      <td>448.9</td>\n",
       "      <td>135</td>\n",
       "    </tr>\n",
       "    <tr>\n",
       "      <th>Tuesday</th>\n",
       "      <td>3841.86</td>\n",
       "      <td>371</td>\n",
       "      <td>1085.3705</td>\n",
       "      <td>22792.7805</td>\n",
       "      <td>21707.41</td>\n",
       "      <td>323.809524</td>\n",
       "      <td>1085.3705</td>\n",
       "      <td>489.9</td>\n",
       "      <td>131</td>\n",
       "    </tr>\n",
       "    <tr>\n",
       "      <th>Wednesday</th>\n",
       "      <td>3760.68</td>\n",
       "      <td>364</td>\n",
       "      <td>989.8200</td>\n",
       "      <td>20786.2200</td>\n",
       "      <td>19796.40</td>\n",
       "      <td>319.047619</td>\n",
       "      <td>989.8200</td>\n",
       "      <td>467.1</td>\n",
       "      <td>125</td>\n",
       "    </tr>\n",
       "    <tr>\n",
       "      <th>Thursday</th>\n",
       "      <td>4225.18</td>\n",
       "      <td>447</td>\n",
       "      <td>1283.6005</td>\n",
       "      <td>26955.6105</td>\n",
       "      <td>25672.01</td>\n",
       "      <td>352.380952</td>\n",
       "      <td>1283.6005</td>\n",
       "      <td>518.9</td>\n",
       "      <td>146</td>\n",
       "    </tr>\n",
       "    <tr>\n",
       "      <th>Friday</th>\n",
       "      <td>3936.06</td>\n",
       "      <td>406</td>\n",
       "      <td>1035.3570</td>\n",
       "      <td>21742.4970</td>\n",
       "      <td>20707.14</td>\n",
       "      <td>357.142857</td>\n",
       "      <td>1035.3570</td>\n",
       "      <td>530.2</td>\n",
       "      <td>165</td>\n",
       "    </tr>\n",
       "    <tr>\n",
       "      <th>Saturday</th>\n",
       "      <td>4567.27</td>\n",
       "      <td>455</td>\n",
       "      <td>1333.2310</td>\n",
       "      <td>27997.8510</td>\n",
       "      <td>26664.62</td>\n",
       "      <td>390.476190</td>\n",
       "      <td>1333.2310</td>\n",
       "      <td>573.0</td>\n",
       "      <td>163</td>\n",
       "    </tr>\n",
       "    <tr>\n",
       "      <th>Sunday</th>\n",
       "      <td>3321.72</td>\n",
       "      <td>367</td>\n",
       "      <td>901.1590</td>\n",
       "      <td>18924.3390</td>\n",
       "      <td>18023.18</td>\n",
       "      <td>319.047619</td>\n",
       "      <td>901.1590</td>\n",
       "      <td>467.6</td>\n",
       "      <td>132</td>\n",
       "    </tr>\n",
       "  </tbody>\n",
       "</table>\n",
       "</div>"
      ],
      "text/plain": [
       "           Unit price  Quantity     Tax 5%       Total      cogs  \\\n",
       "Day                                                                \n",
       "Monday        3859.66       315   930.6670  19544.0070  18613.34   \n",
       "Tuesday       3841.86       371  1085.3705  22792.7805  21707.41   \n",
       "Wednesday     3760.68       364   989.8200  20786.2200  19796.40   \n",
       "Thursday      4225.18       447  1283.6005  26955.6105  25672.01   \n",
       "Friday        3936.06       406  1035.3570  21742.4970  20707.14   \n",
       "Saturday      4567.27       455  1333.2310  27997.8510  26664.62   \n",
       "Sunday        3321.72       367   901.1590  18924.3390  18023.18   \n",
       "\n",
       "           gross margin percentage  gross income  Rating  Month  \n",
       "Day                                                              \n",
       "Monday                  314.285714      930.6670   448.9    135  \n",
       "Tuesday                 323.809524     1085.3705   489.9    131  \n",
       "Wednesday               319.047619      989.8200   467.1    125  \n",
       "Thursday                352.380952     1283.6005   518.9    146  \n",
       "Friday                  357.142857     1035.3570   530.2    165  \n",
       "Saturday                390.476190     1333.2310   573.0    163  \n",
       "Sunday                  319.047619      901.1590   467.6    132  "
      ]
     },
     "execution_count": 26,
     "metadata": {},
     "output_type": "execute_result"
    }
   ],
   "source": [
    "nonmember_filter = (supermarket_ram['Customer type'] ==  'Normal')\n",
    "nonmember_df = supermarket_ram[nonmember_filter]\n",
    "nonmember_daywise_df = nonmember_df.groupby('Day').sum()\n",
    "nonmember_daywise_df = nonmember_daywise_df.reindex(['Monday', 'Tuesday', 'Wednesday', 'Thursday', 'Friday', 'Saturday', 'Sunday']) \n",
    "nonmember_daywise_df.head(7)"
   ]
  },
  {
   "cell_type": "markdown",
   "id": "baking-massachusetts",
   "metadata": {
    "papermill": {
     "duration": 0.083888,
     "end_time": "2021-06-22T14:36:22.360366",
     "exception": false,
     "start_time": "2021-06-22T14:36:22.276478",
     "status": "completed"
    },
    "tags": []
   },
   "source": [
    "#### **C. Plotting Day-Wise Sales Comparison of Members and Non-Members** "
   ]
  },
  {
   "cell_type": "code",
   "execution_count": 27,
   "id": "related-minister",
   "metadata": {
    "papermill": {
     "duration": 0.335006,
     "end_time": "2021-06-22T14:36:22.778388",
     "exception": false,
     "start_time": "2021-06-22T14:36:22.443382",
     "status": "completed"
    },
    "tags": []
   },
   "outputs": [
    {
     "data": {
      "image/png": "[encoded data removed]",
      "text/plain": [
       "<Figure size 432x288 with 1 Axes>"
      ]
     },
     "metadata": {},
     "output_type": "display_data"
    },
    {
     "data": {
      "text/plain": [
       "<Figure size 432x288 with 0 Axes>"
      ]
     },
     "metadata": {},
     "output_type": "display_data"
    }
   ],
   "source": [
    "day = ['Monday', 'Tuesday', 'Wednesday', 'Thursday', 'Friday', 'Saturday', 'Sunday']\n",
    "x = np.arange(7)\n",
    "plt.bar(x-0.2, nonmember_daywise_df['Total'], width = 0.4, color = '#ffc947')\n",
    "plt.bar(x+0.2, member_daywise_df['Total'], width = 0.4, color = '#2940d3')\n",
    "plt.xticks(x, day, fontsize = 12)\n",
    "plt.xticks(fontsize = 12)\n",
    "plt.title('Sales Comparison of Members and Non-Members', fontsize = 14)\n",
    "plt.ylabel('Total Sales', fontsize = 14)\n",
    "plt.legend([\"Non-Members\", \"Members\"], loc = 'upper right', bbox_to_anchor=(1.2,1), fontsize=13)\n",
    "\n",
    "plt.subplots_adjust(left=0.01,\n",
    "                    bottom=0.1, \n",
    "                    right=1.3, \n",
    "                    top=1.2, \n",
    "                    wspace=0.9, \n",
    "                    hspace=0.9)\n",
    "\n",
    "plt.savefig(\"../visualizations/08-daywise-members-sale.png\")\n",
    "plt.show()"
   ]
  },
  {
   "cell_type": "markdown",
   "id": "acting-hearing",
   "metadata": {
    "papermill": {
     "duration": 0.084078,
     "end_time": "2021-06-22T14:36:22.946900",
     "exception": false,
     "start_time": "2021-06-22T14:36:22.862822",
     "status": "completed"
    },
    "tags": []
   },
   "source": [
    "#### **# Result:** \n",
    "* On tuesday and sunday, member purchases is larger. On these days, supermarket should focus on member's segment.\n",
    "* On thursday, non-member purchases is larger. On this day, supermarket has a better chance to increase memberships.  "
   ]
  },
  {
   "cell_type": "markdown",
   "id": "enabling-voluntary",
   "metadata": {
    "papermill": {
     "duration": 0.084731,
     "end_time": "2021-06-22T14:36:23.117220",
     "exception": false,
     "start_time": "2021-06-22T14:36:23.032489",
     "status": "completed"
    },
    "tags": []
   },
   "source": [
    "### **1.2 Sales Analysis Based on Gender** "
   ]
  },
  {
   "cell_type": "markdown",
   "id": "swedish-street",
   "metadata": {
    "papermill": {
     "duration": 0.084436,
     "end_time": "2021-06-22T14:36:23.286801",
     "exception": false,
     "start_time": "2021-06-22T14:36:23.202365",
     "status": "completed"
    },
    "tags": []
   },
   "source": [
    "#### **A. Filtering Female Customers and Forming their Dataframe**"
   ]
  },
  {
   "cell_type": "code",
   "execution_count": 28,
   "id": "packed-traveler",
   "metadata": {
    "papermill": {
     "duration": 0.11493,
     "end_time": "2021-06-22T14:36:23.487519",
     "exception": false,
     "start_time": "2021-06-22T14:36:23.372589",
     "status": "completed"
    },
    "tags": []
   },
   "outputs": [
    {
     "data": {
      "text/html": [
       "<div>\n",
       "<style scoped>\n",
       "    .dataframe tbody tr th:only-of-type {\n",
       "        vertical-align: middle;\n",
       "    }\n",
       "\n",
       "    .dataframe tbody tr th {\n",
       "        vertical-align: top;\n",
       "    }\n",
       "\n",
       "    .dataframe thead th {\n",
       "        text-align: right;\n",
       "    }\n",
       "</style>\n",
       "<table border=\"1\" class=\"dataframe\">\n",
       "  <thead>\n",
       "    <tr style=\"text-align: right;\">\n",
       "      <th></th>\n",
       "      <th>Invoice ID</th>\n",
       "      <th>Branch</th>\n",
       "      <th>City</th>\n",
       "      <th>Customer type</th>\n",
       "      <th>Gender</th>\n",
       "      <th>Product line</th>\n",
       "      <th>Unit price</th>\n",
       "      <th>Quantity</th>\n",
       "      <th>Tax 5%</th>\n",
       "      <th>Total</th>\n",
       "      <th>Date</th>\n",
       "      <th>Time</th>\n",
       "      <th>Payment</th>\n",
       "      <th>cogs</th>\n",
       "      <th>gross margin percentage</th>\n",
       "      <th>gross income</th>\n",
       "      <th>Rating</th>\n",
       "      <th>Month</th>\n",
       "      <th>Day</th>\n",
       "    </tr>\n",
       "  </thead>\n",
       "  <tbody>\n",
       "    <tr>\n",
       "      <th>0</th>\n",
       "      <td>750-67-8428</td>\n",
       "      <td>A</td>\n",
       "      <td>Yangon</td>\n",
       "      <td>Member</td>\n",
       "      <td>Female</td>\n",
       "      <td>Health and beauty</td>\n",
       "      <td>74.69</td>\n",
       "      <td>7</td>\n",
       "      <td>26.1415</td>\n",
       "      <td>548.9715</td>\n",
       "      <td>2019-01-05</td>\n",
       "      <td>13:08</td>\n",
       "      <td>Ewallet</td>\n",
       "      <td>522.83</td>\n",
       "      <td>4.761905</td>\n",
       "      <td>26.1415</td>\n",
       "      <td>9.1</td>\n",
       "      <td>1</td>\n",
       "      <td>Saturday</td>\n",
       "    </tr>\n",
       "    <tr>\n",
       "      <th>1</th>\n",
       "      <td>226-31-3081</td>\n",
       "      <td>C</td>\n",
       "      <td>Naypyitaw</td>\n",
       "      <td>Normal</td>\n",
       "      <td>Female</td>\n",
       "      <td>Electronic accessories</td>\n",
       "      <td>15.28</td>\n",
       "      <td>5</td>\n",
       "      <td>3.8200</td>\n",
       "      <td>80.2200</td>\n",
       "      <td>2019-03-08</td>\n",
       "      <td>10:29</td>\n",
       "      <td>Cash</td>\n",
       "      <td>76.40</td>\n",
       "      <td>4.761905</td>\n",
       "      <td>3.8200</td>\n",
       "      <td>9.6</td>\n",
       "      <td>3</td>\n",
       "      <td>Friday</td>\n",
       "    </tr>\n",
       "    <tr>\n",
       "      <th>6</th>\n",
       "      <td>355-53-5943</td>\n",
       "      <td>A</td>\n",
       "      <td>Yangon</td>\n",
       "      <td>Member</td>\n",
       "      <td>Female</td>\n",
       "      <td>Electronic accessories</td>\n",
       "      <td>68.84</td>\n",
       "      <td>6</td>\n",
       "      <td>20.6520</td>\n",
       "      <td>433.6920</td>\n",
       "      <td>2019-02-25</td>\n",
       "      <td>14:36</td>\n",
       "      <td>Ewallet</td>\n",
       "      <td>413.04</td>\n",
       "      <td>4.761905</td>\n",
       "      <td>20.6520</td>\n",
       "      <td>5.8</td>\n",
       "      <td>2</td>\n",
       "      <td>Monday</td>\n",
       "    </tr>\n",
       "    <tr>\n",
       "      <th>7</th>\n",
       "      <td>315-22-5665</td>\n",
       "      <td>C</td>\n",
       "      <td>Naypyitaw</td>\n",
       "      <td>Normal</td>\n",
       "      <td>Female</td>\n",
       "      <td>Home and lifestyle</td>\n",
       "      <td>73.56</td>\n",
       "      <td>10</td>\n",
       "      <td>36.7800</td>\n",
       "      <td>772.3800</td>\n",
       "      <td>2019-02-24</td>\n",
       "      <td>11:38</td>\n",
       "      <td>Ewallet</td>\n",
       "      <td>735.60</td>\n",
       "      <td>4.761905</td>\n",
       "      <td>36.7800</td>\n",
       "      <td>8.0</td>\n",
       "      <td>2</td>\n",
       "      <td>Sunday</td>\n",
       "    </tr>\n",
       "    <tr>\n",
       "      <th>8</th>\n",
       "      <td>665-32-9167</td>\n",
       "      <td>A</td>\n",
       "      <td>Yangon</td>\n",
       "      <td>Member</td>\n",
       "      <td>Female</td>\n",
       "      <td>Health and beauty</td>\n",
       "      <td>36.26</td>\n",
       "      <td>2</td>\n",
       "      <td>3.6260</td>\n",
       "      <td>76.1460</td>\n",
       "      <td>2019-01-10</td>\n",
       "      <td>17:15</td>\n",
       "      <td>Credit card</td>\n",
       "      <td>72.52</td>\n",
       "      <td>4.761905</td>\n",
       "      <td>3.6260</td>\n",
       "      <td>7.2</td>\n",
       "      <td>1</td>\n",
       "      <td>Thursday</td>\n",
       "    </tr>\n",
       "  </tbody>\n",
       "</table>\n",
       "</div>"
      ],
      "text/plain": [
       "    Invoice ID Branch       City Customer type  Gender  \\\n",
       "0  750-67-8428      A     Yangon        Member  Female   \n",
       "1  226-31-3081      C  Naypyitaw        Normal  Female   \n",
       "6  355-53-5943      A     Yangon        Member  Female   \n",
       "7  315-22-5665      C  Naypyitaw        Normal  Female   \n",
       "8  665-32-9167      A     Yangon        Member  Female   \n",
       "\n",
       "             Product line  Unit price  Quantity   Tax 5%     Total       Date  \\\n",
       "0       Health and beauty       74.69         7  26.1415  548.9715 2019-01-05   \n",
       "1  Electronic accessories       15.28         5   3.8200   80.2200 2019-03-08   \n",
       "6  Electronic accessories       68.84         6  20.6520  433.6920 2019-02-25   \n",
       "7      Home and lifestyle       73.56        10  36.7800  772.3800 2019-02-24   \n",
       "8       Health and beauty       36.26         2   3.6260   76.1460 2019-01-10   \n",
       "\n",
       "    Time      Payment    cogs  gross margin percentage  gross income  Rating  \\\n",
       "0  13:08      Ewallet  522.83                 4.761905       26.1415     9.1   \n",
       "1  10:29         Cash   76.40                 4.761905        3.8200     9.6   \n",
       "6  14:36      Ewallet  413.04                 4.761905       20.6520     5.8   \n",
       "7  11:38      Ewallet  735.60                 4.761905       36.7800     8.0   \n",
       "8  17:15  Credit card   72.52                 4.761905        3.6260     7.2   \n",
       "\n",
       "   Month       Day  \n",
       "0      1  Saturday  \n",
       "1      3    Friday  \n",
       "6      2    Monday  \n",
       "7      2    Sunday  \n",
       "8      1  Thursday  "
      ]
     },
     "execution_count": 28,
     "metadata": {},
     "output_type": "execute_result"
    }
   ],
   "source": [
    "female_filter = (supermarket_ram['Gender'] == 'Female')\n",
    "female_df = supermarket_ram[female_filter]\n",
    "female_df.head()"
   ]
  },
  {
   "cell_type": "markdown",
   "id": "historic-impact",
   "metadata": {
    "papermill": {
     "duration": 0.084948,
     "end_time": "2021-06-22T14:36:23.657711",
     "exception": false,
     "start_time": "2021-06-22T14:36:23.572763",
     "status": "completed"
    },
    "tags": []
   },
   "source": [
    "#### **B. Filtering Male Customers and Forming their Dataframe**"
   ]
  },
  {
   "cell_type": "code",
   "execution_count": 29,
   "id": "automatic-questionnaire",
   "metadata": {
    "papermill": {
     "duration": 0.116278,
     "end_time": "2021-06-22T14:36:23.859454",
     "exception": false,
     "start_time": "2021-06-22T14:36:23.743176",
     "status": "completed"
    },
    "tags": []
   },
   "outputs": [
    {
     "data": {
      "text/html": [
       "<div>\n",
       "<style scoped>\n",
       "    .dataframe tbody tr th:only-of-type {\n",
       "        vertical-align: middle;\n",
       "    }\n",
       "\n",
       "    .dataframe tbody tr th {\n",
       "        vertical-align: top;\n",
       "    }\n",
       "\n",
       "    .dataframe thead th {\n",
       "        text-align: right;\n",
       "    }\n",
       "</style>\n",
       "<table border=\"1\" class=\"dataframe\">\n",
       "  <thead>\n",
       "    <tr style=\"text-align: right;\">\n",
       "      <th></th>\n",
       "      <th>Invoice ID</th>\n",
       "      <th>Branch</th>\n",
       "      <th>City</th>\n",
       "      <th>Customer type</th>\n",
       "      <th>Gender</th>\n",
       "      <th>Product line</th>\n",
       "      <th>Unit price</th>\n",
       "      <th>Quantity</th>\n",
       "      <th>Tax 5%</th>\n",
       "      <th>Total</th>\n",
       "      <th>Date</th>\n",
       "      <th>Time</th>\n",
       "      <th>Payment</th>\n",
       "      <th>cogs</th>\n",
       "      <th>gross margin percentage</th>\n",
       "      <th>gross income</th>\n",
       "      <th>Rating</th>\n",
       "      <th>Month</th>\n",
       "      <th>Day</th>\n",
       "    </tr>\n",
       "  </thead>\n",
       "  <tbody>\n",
       "    <tr>\n",
       "      <th>2</th>\n",
       "      <td>631-41-3108</td>\n",
       "      <td>A</td>\n",
       "      <td>Yangon</td>\n",
       "      <td>Normal</td>\n",
       "      <td>Male</td>\n",
       "      <td>Home and lifestyle</td>\n",
       "      <td>46.33</td>\n",
       "      <td>7</td>\n",
       "      <td>16.2155</td>\n",
       "      <td>340.5255</td>\n",
       "      <td>2019-03-03</td>\n",
       "      <td>13:23</td>\n",
       "      <td>Credit card</td>\n",
       "      <td>324.31</td>\n",
       "      <td>4.761905</td>\n",
       "      <td>16.2155</td>\n",
       "      <td>7.4</td>\n",
       "      <td>3</td>\n",
       "      <td>Sunday</td>\n",
       "    </tr>\n",
       "    <tr>\n",
       "      <th>3</th>\n",
       "      <td>123-19-1176</td>\n",
       "      <td>A</td>\n",
       "      <td>Yangon</td>\n",
       "      <td>Member</td>\n",
       "      <td>Male</td>\n",
       "      <td>Health and beauty</td>\n",
       "      <td>58.22</td>\n",
       "      <td>8</td>\n",
       "      <td>23.2880</td>\n",
       "      <td>489.0480</td>\n",
       "      <td>2019-01-27</td>\n",
       "      <td>20:33</td>\n",
       "      <td>Ewallet</td>\n",
       "      <td>465.76</td>\n",
       "      <td>4.761905</td>\n",
       "      <td>23.2880</td>\n",
       "      <td>8.4</td>\n",
       "      <td>1</td>\n",
       "      <td>Sunday</td>\n",
       "    </tr>\n",
       "    <tr>\n",
       "      <th>4</th>\n",
       "      <td>373-73-7910</td>\n",
       "      <td>A</td>\n",
       "      <td>Yangon</td>\n",
       "      <td>Normal</td>\n",
       "      <td>Male</td>\n",
       "      <td>Sports and travel</td>\n",
       "      <td>86.31</td>\n",
       "      <td>7</td>\n",
       "      <td>30.2085</td>\n",
       "      <td>634.3785</td>\n",
       "      <td>2019-02-08</td>\n",
       "      <td>10:37</td>\n",
       "      <td>Ewallet</td>\n",
       "      <td>604.17</td>\n",
       "      <td>4.761905</td>\n",
       "      <td>30.2085</td>\n",
       "      <td>5.3</td>\n",
       "      <td>2</td>\n",
       "      <td>Friday</td>\n",
       "    </tr>\n",
       "    <tr>\n",
       "      <th>5</th>\n",
       "      <td>699-14-3026</td>\n",
       "      <td>C</td>\n",
       "      <td>Naypyitaw</td>\n",
       "      <td>Normal</td>\n",
       "      <td>Male</td>\n",
       "      <td>Electronic accessories</td>\n",
       "      <td>85.39</td>\n",
       "      <td>7</td>\n",
       "      <td>29.8865</td>\n",
       "      <td>627.6165</td>\n",
       "      <td>2019-03-25</td>\n",
       "      <td>18:30</td>\n",
       "      <td>Ewallet</td>\n",
       "      <td>597.73</td>\n",
       "      <td>4.761905</td>\n",
       "      <td>29.8865</td>\n",
       "      <td>4.1</td>\n",
       "      <td>3</td>\n",
       "      <td>Monday</td>\n",
       "    </tr>\n",
       "    <tr>\n",
       "      <th>11</th>\n",
       "      <td>529-56-3974</td>\n",
       "      <td>B</td>\n",
       "      <td>Mandalay</td>\n",
       "      <td>Member</td>\n",
       "      <td>Male</td>\n",
       "      <td>Electronic accessories</td>\n",
       "      <td>25.51</td>\n",
       "      <td>4</td>\n",
       "      <td>5.1020</td>\n",
       "      <td>107.1420</td>\n",
       "      <td>2019-03-09</td>\n",
       "      <td>17:03</td>\n",
       "      <td>Cash</td>\n",
       "      <td>102.04</td>\n",
       "      <td>4.761905</td>\n",
       "      <td>5.1020</td>\n",
       "      <td>6.8</td>\n",
       "      <td>3</td>\n",
       "      <td>Saturday</td>\n",
       "    </tr>\n",
       "  </tbody>\n",
       "</table>\n",
       "</div>"
      ],
      "text/plain": [
       "     Invoice ID Branch       City Customer type Gender  \\\n",
       "2   631-41-3108      A     Yangon        Normal   Male   \n",
       "3   123-19-1176      A     Yangon        Member   Male   \n",
       "4   373-73-7910      A     Yangon        Normal   Male   \n",
       "5   699-14-3026      C  Naypyitaw        Normal   Male   \n",
       "11  529-56-3974      B   Mandalay        Member   Male   \n",
       "\n",
       "              Product line  Unit price  Quantity   Tax 5%     Total  \\\n",
       "2       Home and lifestyle       46.33         7  16.2155  340.5255   \n",
       "3        Health and beauty       58.22         8  23.2880  489.0480   \n",
       "4        Sports and travel       86.31         7  30.2085  634.3785   \n",
       "5   Electronic accessories       85.39         7  29.8865  627.6165   \n",
       "11  Electronic accessories       25.51         4   5.1020  107.1420   \n",
       "\n",
       "         Date   Time      Payment    cogs  gross margin percentage  \\\n",
       "2  2019-03-03  13:23  Credit card  324.31                 4.761905   \n",
       "3  2019-01-27  20:33      Ewallet  465.76                 4.761905   \n",
       "4  2019-02-08  10:37      Ewallet  604.17                 4.761905   \n",
       "5  2019-03-25  18:30      Ewallet  597.73                 4.761905   \n",
       "11 2019-03-09  17:03         Cash  102.04                 4.761905   \n",
       "\n",
       "    gross income  Rating  Month       Day  \n",
       "2        16.2155     7.4      3    Sunday  \n",
       "3        23.2880     8.4      1    Sunday  \n",
       "4        30.2085     5.3      2    Friday  \n",
       "5        29.8865     4.1      3    Monday  \n",
       "11        5.1020     6.8      3  Saturday  "
      ]
     },
     "execution_count": 29,
     "metadata": {},
     "output_type": "execute_result"
    }
   ],
   "source": [
    "male_filter = (supermarket_ram['Gender'] == 'Male')\n",
    "male_df = supermarket_ram[male_filter]\n",
    "male_df.head()"
   ]
  },
  {
   "cell_type": "markdown",
   "id": "endangered-contents",
   "metadata": {
    "papermill": {
     "duration": 0.085468,
     "end_time": "2021-06-22T14:36:24.030882",
     "exception": false,
     "start_time": "2021-06-22T14:36:23.945414",
     "status": "completed"
    },
    "tags": []
   },
   "source": [
    "#### **C. Representing Female Dataframe on Weekday Basis (Day-Wise)**  "
   ]
  },
  {
   "cell_type": "code",
   "execution_count": 30,
   "id": "welsh-redhead",
   "metadata": {
    "papermill": {
     "duration": 0.113361,
     "end_time": "2021-06-22T14:36:24.230246",
     "exception": false,
     "start_time": "2021-06-22T14:36:24.116885",
     "status": "completed"
    },
    "tags": []
   },
   "outputs": [
    {
     "data": {
      "text/html": [
       "<div>\n",
       "<style scoped>\n",
       "    .dataframe tbody tr th:only-of-type {\n",
       "        vertical-align: middle;\n",
       "    }\n",
       "\n",
       "    .dataframe tbody tr th {\n",
       "        vertical-align: top;\n",
       "    }\n",
       "\n",
       "    .dataframe thead th {\n",
       "        text-align: right;\n",
       "    }\n",
       "</style>\n",
       "<table border=\"1\" class=\"dataframe\">\n",
       "  <thead>\n",
       "    <tr style=\"text-align: right;\">\n",
       "      <th></th>\n",
       "      <th>Unit price</th>\n",
       "      <th>Quantity</th>\n",
       "      <th>Tax 5%</th>\n",
       "      <th>Total</th>\n",
       "      <th>cogs</th>\n",
       "      <th>gross margin percentage</th>\n",
       "      <th>gross income</th>\n",
       "      <th>Rating</th>\n",
       "      <th>Month</th>\n",
       "    </tr>\n",
       "    <tr>\n",
       "      <th>Day</th>\n",
       "      <th></th>\n",
       "      <th></th>\n",
       "      <th></th>\n",
       "      <th></th>\n",
       "      <th></th>\n",
       "      <th></th>\n",
       "      <th></th>\n",
       "      <th></th>\n",
       "      <th></th>\n",
       "    </tr>\n",
       "  </thead>\n",
       "  <tbody>\n",
       "    <tr>\n",
       "      <th>Monday</th>\n",
       "      <td>3863.12</td>\n",
       "      <td>349</td>\n",
       "      <td>972.0005</td>\n",
       "      <td>20412.0105</td>\n",
       "      <td>19440.01</td>\n",
       "      <td>323.809524</td>\n",
       "      <td>972.0005</td>\n",
       "      <td>500.5</td>\n",
       "      <td>139</td>\n",
       "    </tr>\n",
       "    <tr>\n",
       "      <th>Tuesday</th>\n",
       "      <td>4889.61</td>\n",
       "      <td>499</td>\n",
       "      <td>1449.1415</td>\n",
       "      <td>30431.9715</td>\n",
       "      <td>28982.83</td>\n",
       "      <td>414.285714</td>\n",
       "      <td>1449.1415</td>\n",
       "      <td>615.0</td>\n",
       "      <td>167</td>\n",
       "    </tr>\n",
       "    <tr>\n",
       "      <th>Wednesday</th>\n",
       "      <td>3429.36</td>\n",
       "      <td>362</td>\n",
       "      <td>949.3635</td>\n",
       "      <td>19936.6335</td>\n",
       "      <td>18987.27</td>\n",
       "      <td>304.761905</td>\n",
       "      <td>949.3635</td>\n",
       "      <td>433.1</td>\n",
       "      <td>115</td>\n",
       "    </tr>\n",
       "    <tr>\n",
       "      <th>Thursday</th>\n",
       "      <td>3352.16</td>\n",
       "      <td>349</td>\n",
       "      <td>977.3100</td>\n",
       "      <td>20523.5100</td>\n",
       "      <td>19546.20</td>\n",
       "      <td>300.000000</td>\n",
       "      <td>977.3100</td>\n",
       "      <td>426.5</td>\n",
       "      <td>126</td>\n",
       "    </tr>\n",
       "    <tr>\n",
       "      <th>Friday</th>\n",
       "      <td>3688.94</td>\n",
       "      <td>400</td>\n",
       "      <td>1149.8955</td>\n",
       "      <td>24147.8055</td>\n",
       "      <td>22997.91</td>\n",
       "      <td>309.523810</td>\n",
       "      <td>1149.8955</td>\n",
       "      <td>461.2</td>\n",
       "      <td>130</td>\n",
       "    </tr>\n",
       "    <tr>\n",
       "      <th>Saturday</th>\n",
       "      <td>4928.84</td>\n",
       "      <td>493</td>\n",
       "      <td>1396.6775</td>\n",
       "      <td>29330.2275</td>\n",
       "      <td>27933.55</td>\n",
       "      <td>414.285714</td>\n",
       "      <td>1396.6775</td>\n",
       "      <td>602.8</td>\n",
       "      <td>178</td>\n",
       "    </tr>\n",
       "    <tr>\n",
       "      <th>Sunday</th>\n",
       "      <td>3535.21</td>\n",
       "      <td>417</td>\n",
       "      <td>1100.0365</td>\n",
       "      <td>23100.7665</td>\n",
       "      <td>22000.73</td>\n",
       "      <td>319.047619</td>\n",
       "      <td>1100.0365</td>\n",
       "      <td>450.1</td>\n",
       "      <td>132</td>\n",
       "    </tr>\n",
       "  </tbody>\n",
       "</table>\n",
       "</div>"
      ],
      "text/plain": [
       "           Unit price  Quantity     Tax 5%       Total      cogs  \\\n",
       "Day                                                                \n",
       "Monday        3863.12       349   972.0005  20412.0105  19440.01   \n",
       "Tuesday       4889.61       499  1449.1415  30431.9715  28982.83   \n",
       "Wednesday     3429.36       362   949.3635  19936.6335  18987.27   \n",
       "Thursday      3352.16       349   977.3100  20523.5100  19546.20   \n",
       "Friday        3688.94       400  1149.8955  24147.8055  22997.91   \n",
       "Saturday      4928.84       493  1396.6775  29330.2275  27933.55   \n",
       "Sunday        3535.21       417  1100.0365  23100.7665  22000.73   \n",
       "\n",
       "           gross margin percentage  gross income  Rating  Month  \n",
       "Day                                                              \n",
       "Monday                  323.809524      972.0005   500.5    139  \n",
       "Tuesday                 414.285714     1449.1415   615.0    167  \n",
       "Wednesday               304.761905      949.3635   433.1    115  \n",
       "Thursday                300.000000      977.3100   426.5    126  \n",
       "Friday                  309.523810     1149.8955   461.2    130  \n",
       "Saturday                414.285714     1396.6775   602.8    178  \n",
       "Sunday                  319.047619     1100.0365   450.1    132  "
      ]
     },
     "execution_count": 30,
     "metadata": {},
     "output_type": "execute_result"
    }
   ],
   "source": [
    "female_daywise_df = female_df.groupby('Day').sum()\n",
    "female_daywise_df = female_daywise_df.reindex(['Monday', 'Tuesday', 'Wednesday', 'Thursday', 'Friday', 'Saturday', 'Sunday'])\n",
    "female_daywise_df.head(10)"
   ]
  },
  {
   "cell_type": "markdown",
   "id": "narrative-still",
   "metadata": {
    "papermill": {
     "duration": 0.137361,
     "end_time": "2021-06-22T14:36:24.461190",
     "exception": false,
     "start_time": "2021-06-22T14:36:24.323829",
     "status": "completed"
    },
    "tags": []
   },
   "source": [
    "#### **D. Representing Male Dataframe on Weekday Basis (Day-Wise)**  "
   ]
  },
  {
   "cell_type": "code",
   "execution_count": 31,
   "id": "antique-connection",
   "metadata": {
    "papermill": {
     "duration": 0.114568,
     "end_time": "2021-06-22T14:36:24.661955",
     "exception": false,
     "start_time": "2021-06-22T14:36:24.547387",
     "status": "completed"
    },
    "tags": []
   },
   "outputs": [
    {
     "data": {
      "text/html": [
       "<div>\n",
       "<style scoped>\n",
       "    .dataframe tbody tr th:only-of-type {\n",
       "        vertical-align: middle;\n",
       "    }\n",
       "\n",
       "    .dataframe tbody tr th {\n",
       "        vertical-align: top;\n",
       "    }\n",
       "\n",
       "    .dataframe thead th {\n",
       "        text-align: right;\n",
       "    }\n",
       "</style>\n",
       "<table border=\"1\" class=\"dataframe\">\n",
       "  <thead>\n",
       "    <tr style=\"text-align: right;\">\n",
       "      <th></th>\n",
       "      <th>Unit price</th>\n",
       "      <th>Quantity</th>\n",
       "      <th>Tax 5%</th>\n",
       "      <th>Total</th>\n",
       "      <th>cogs</th>\n",
       "      <th>gross margin percentage</th>\n",
       "      <th>gross income</th>\n",
       "      <th>Rating</th>\n",
       "      <th>Month</th>\n",
       "    </tr>\n",
       "    <tr>\n",
       "      <th>Day</th>\n",
       "      <th></th>\n",
       "      <th></th>\n",
       "      <th></th>\n",
       "      <th></th>\n",
       "      <th></th>\n",
       "      <th></th>\n",
       "      <th></th>\n",
       "      <th></th>\n",
       "      <th></th>\n",
       "    </tr>\n",
       "  </thead>\n",
       "  <tbody>\n",
       "    <tr>\n",
       "      <th>Monday</th>\n",
       "      <td>3352.88</td>\n",
       "      <td>289</td>\n",
       "      <td>832.7175</td>\n",
       "      <td>17487.0675</td>\n",
       "      <td>16654.35</td>\n",
       "      <td>271.428571</td>\n",
       "      <td>832.7175</td>\n",
       "      <td>393.7</td>\n",
       "      <td>106</td>\n",
       "    </tr>\n",
       "    <tr>\n",
       "      <th>Tuesday</th>\n",
       "      <td>3774.67</td>\n",
       "      <td>363</td>\n",
       "      <td>1002.3940</td>\n",
       "      <td>21050.2740</td>\n",
       "      <td>20047.88</td>\n",
       "      <td>338.095238</td>\n",
       "      <td>1002.3940</td>\n",
       "      <td>491.5</td>\n",
       "      <td>145</td>\n",
       "    </tr>\n",
       "    <tr>\n",
       "      <th>Wednesday</th>\n",
       "      <td>4258.99</td>\n",
       "      <td>438</td>\n",
       "      <td>1133.0715</td>\n",
       "      <td>23794.5015</td>\n",
       "      <td>22661.43</td>\n",
       "      <td>376.190476</td>\n",
       "      <td>1133.0715</td>\n",
       "      <td>540.1</td>\n",
       "      <td>165</td>\n",
       "    </tr>\n",
       "    <tr>\n",
       "      <th>Thursday</th>\n",
       "      <td>4508.19</td>\n",
       "      <td>406</td>\n",
       "      <td>1182.1780</td>\n",
       "      <td>24825.7380</td>\n",
       "      <td>23643.56</td>\n",
       "      <td>357.142857</td>\n",
       "      <td>1182.1780</td>\n",
       "      <td>524.3</td>\n",
       "      <td>138</td>\n",
       "    </tr>\n",
       "    <tr>\n",
       "      <th>Friday</th>\n",
       "      <td>3969.58</td>\n",
       "      <td>358</td>\n",
       "      <td>941.8350</td>\n",
       "      <td>19778.5350</td>\n",
       "      <td>18836.70</td>\n",
       "      <td>352.380952</td>\n",
       "      <td>941.8350</td>\n",
       "      <td>522.4</td>\n",
       "      <td>159</td>\n",
       "    </tr>\n",
       "    <tr>\n",
       "      <th>Saturday</th>\n",
       "      <td>4404.90</td>\n",
       "      <td>426</td>\n",
       "      <td>1275.7420</td>\n",
       "      <td>26790.5820</td>\n",
       "      <td>25514.84</td>\n",
       "      <td>366.666667</td>\n",
       "      <td>1275.7420</td>\n",
       "      <td>529.1</td>\n",
       "      <td>159</td>\n",
       "    </tr>\n",
       "    <tr>\n",
       "      <th>Sunday</th>\n",
       "      <td>3715.68</td>\n",
       "      <td>361</td>\n",
       "      <td>1017.0060</td>\n",
       "      <td>21357.1260</td>\n",
       "      <td>20340.12</td>\n",
       "      <td>314.285714</td>\n",
       "      <td>1017.0060</td>\n",
       "      <td>482.4</td>\n",
       "      <td>134</td>\n",
       "    </tr>\n",
       "  </tbody>\n",
       "</table>\n",
       "</div>"
      ],
      "text/plain": [
       "           Unit price  Quantity     Tax 5%       Total      cogs  \\\n",
       "Day                                                                \n",
       "Monday        3352.88       289   832.7175  17487.0675  16654.35   \n",
       "Tuesday       3774.67       363  1002.3940  21050.2740  20047.88   \n",
       "Wednesday     4258.99       438  1133.0715  23794.5015  22661.43   \n",
       "Thursday      4508.19       406  1182.1780  24825.7380  23643.56   \n",
       "Friday        3969.58       358   941.8350  19778.5350  18836.70   \n",
       "Saturday      4404.90       426  1275.7420  26790.5820  25514.84   \n",
       "Sunday        3715.68       361  1017.0060  21357.1260  20340.12   \n",
       "\n",
       "           gross margin percentage  gross income  Rating  Month  \n",
       "Day                                                              \n",
       "Monday                  271.428571      832.7175   393.7    106  \n",
       "Tuesday                 338.095238     1002.3940   491.5    145  \n",
       "Wednesday               376.190476     1133.0715   540.1    165  \n",
       "Thursday                357.142857     1182.1780   524.3    138  \n",
       "Friday                  352.380952      941.8350   522.4    159  \n",
       "Saturday                366.666667     1275.7420   529.1    159  \n",
       "Sunday                  314.285714     1017.0060   482.4    134  "
      ]
     },
     "execution_count": 31,
     "metadata": {},
     "output_type": "execute_result"
    }
   ],
   "source": [
    "male_daywise_df = male_df.groupby('Day').sum()\n",
    "male_daywise_df = male_daywise_df.reindex(['Monday', 'Tuesday', 'Wednesday', 'Thursday', 'Friday', 'Saturday', 'Sunday'])\n",
    "male_daywise_df.head(10)"
   ]
  },
  {
   "cell_type": "markdown",
   "id": "numeric-grant",
   "metadata": {
    "papermill": {
     "duration": 0.086533,
     "end_time": "2021-06-22T14:36:24.842363",
     "exception": false,
     "start_time": "2021-06-22T14:36:24.755830",
     "status": "completed"
    },
    "tags": []
   },
   "source": [
    "#### **E. Plotting Male and Female Sales (Day-Wise)**"
   ]
  },
  {
   "cell_type": "code",
   "execution_count": 32,
   "id": "noble-basic",
   "metadata": {
    "papermill": {
     "duration": 0.354574,
     "end_time": "2021-06-22T14:36:25.283692",
     "exception": false,
     "start_time": "2021-06-22T14:36:24.929118",
     "status": "completed"
    },
    "tags": []
   },
   "outputs": [
    {
     "data": {
      "image/png": "[encoded data removed]",
      "text/plain": [
       "<Figure size 432x288 with 1 Axes>"
      ]
     },
     "metadata": {},
     "output_type": "display_data"
    },
    {
     "data": {
      "text/plain": [
       "<Figure size 432x288 with 0 Axes>"
      ]
     },
     "metadata": {},
     "output_type": "display_data"
    }
   ],
   "source": [
    "x = np.arange(7)\n",
    "plt.bar(x-0.2, female_daywise_df['Total'], width = 0.4, color = '#ffc947')\n",
    "plt.bar(x+0.2, male_daywise_df['Total'], width = 0.4, color = '#2940d3')\n",
    "plt.xticks(x, day, size = 10, fontsize=13)\n",
    "plt.yticks(size = 10, fontsize=12)\n",
    "plt.title('Comparison of Day-Wise Sales of Males and Females', fontsize = 14)\n",
    "plt.ylabel('Total Sales', fontsize =14)\n",
    "plt.legend([\"Females\", \"Males\"], fontsize = 13)\n",
    "plt.subplots_adjust(left=0.01,\n",
    "                    bottom=0.1, \n",
    "                    right=1.3, \n",
    "                    top=1.2, \n",
    "                    wspace=0.9, \n",
    "                    hspace=0.9)\n",
    "\n",
    "plt.savefig(\"../visualizations/09-daywise-gender-sales.png\")\n",
    "plt.show()"
   ]
  },
  {
   "cell_type": "markdown",
   "id": "confused-miami",
   "metadata": {
    "papermill": {
     "duration": 0.087534,
     "end_time": "2021-06-22T14:36:25.459852",
     "exception": false,
     "start_time": "2021-06-22T14:36:25.372318",
     "status": "completed"
    },
    "tags": []
   },
   "source": [
    "#### **# Result:** \n",
    "* Sales from males and females is similar. Families seem to do most of the purchases. \n",
    "* Exceptionally, on tuesday number of female customers is significantly larger. Therefore; on tuesday, supermarket should focus more on ladies segment.  \n",
    "* Wednesday and thursday have more male customers. Therefore; on these days, supermarket should focus on men segment."
   ]
  },
  {
   "cell_type": "markdown",
   "id": "willing-angle",
   "metadata": {
    "papermill": {
     "duration": 0.088834,
     "end_time": "2021-06-22T14:36:25.636337",
     "exception": false,
     "start_time": "2021-06-22T14:36:25.547503",
     "status": "completed"
    },
    "tags": []
   },
   "source": [
    "# **Question #8: Which customer segment prefer membership?**"
   ]
  },
  {
   "cell_type": "markdown",
   "id": "nutritional-tamil",
   "metadata": {
    "papermill": {
     "duration": 0.08806,
     "end_time": "2021-06-22T14:36:25.812196",
     "exception": false,
     "start_time": "2021-06-22T14:36:25.724136",
     "status": "completed"
    },
    "tags": []
   },
   "source": [
    "### **1.1 Analysing Memberships Among Customer Genders** "
   ]
  },
  {
   "cell_type": "markdown",
   "id": "invalid-affiliation",
   "metadata": {
    "papermill": {
     "duration": 0.088225,
     "end_time": "2021-06-22T14:36:25.988327",
     "exception": false,
     "start_time": "2021-06-22T14:36:25.900102",
     "status": "completed"
    },
    "tags": []
   },
   "source": [
    "#### **A. Forming Member and Non-Member Dataframes for Female Customers**"
   ]
  },
  {
   "cell_type": "code",
   "execution_count": 33,
   "id": "relative-tablet",
   "metadata": {
    "papermill": {
     "duration": 0.100236,
     "end_time": "2021-06-22T14:36:26.177501",
     "exception": false,
     "start_time": "2021-06-22T14:36:26.077265",
     "status": "completed"
    },
    "tags": []
   },
   "outputs": [],
   "source": [
    "female_member_filter = (female_df['Customer type'] == 'Member')\n",
    "female_member_df = female_df[female_member_filter]\n",
    "total_female_members = len(female_member_df)\n",
    "\n",
    "female_nonmember_filter = (female_df['Customer type'] == 'Normal')\n",
    "female_nonmember_df = female_df[female_nonmember_filter]\n",
    "total_female_nonmembers = len(female_nonmember_df)"
   ]
  },
  {
   "cell_type": "markdown",
   "id": "gross-screw",
   "metadata": {
    "papermill": {
     "duration": 0.089462,
     "end_time": "2021-06-22T14:36:26.360930",
     "exception": false,
     "start_time": "2021-06-22T14:36:26.271468",
     "status": "completed"
    },
    "tags": []
   },
   "source": [
    "#### **B. Forming Member and Non-Member Dataframes for Male Customers**"
   ]
  },
  {
   "cell_type": "code",
   "execution_count": 34,
   "id": "excessive-shelter",
   "metadata": {
    "papermill": {
     "duration": 0.098219,
     "end_time": "2021-06-22T14:36:26.550033",
     "exception": false,
     "start_time": "2021-06-22T14:36:26.451814",
     "status": "completed"
    },
    "tags": []
   },
   "outputs": [],
   "source": [
    "male_member_filter = (male_df['Customer type'] == 'Member')\n",
    "male_member_df = male_df[male_member_filter]\n",
    "total_male_members = len(male_member_df)\n",
    "\n",
    "male_nonmember_filter = (male_df['Customer type'] == 'Normal')\n",
    "male_nonmember_df = male_df[male_nonmember_filter]\n",
    "total_male_nonmembers = len(male_nonmember_df)"
   ]
  },
  {
   "cell_type": "markdown",
   "id": "stainless-madagascar",
   "metadata": {
    "papermill": {
     "duration": 0.087774,
     "end_time": "2021-06-22T14:36:26.727286",
     "exception": false,
     "start_time": "2021-06-22T14:36:26.639512",
     "status": "completed"
    },
    "tags": []
   },
   "source": [
    "#### **C. Plotting Membership and Non-Membership Count for Males and Females**"
   ]
  },
  {
   "cell_type": "code",
   "execution_count": 35,
   "id": "crude-hazard",
   "metadata": {
    "papermill": {
     "duration": 0.266728,
     "end_time": "2021-06-22T14:36:27.082574",
     "exception": false,
     "start_time": "2021-06-22T14:36:26.815846",
     "status": "completed"
    },
    "tags": []
   },
   "outputs": [
    {
     "data": {
      "image/png": "[encoded data removed]",
      "text/plain": [
       "<Figure size 432x288 with 1 Axes>"
      ]
     },
     "metadata": {},
     "output_type": "display_data"
    },
    {
     "data": {
      "text/plain": [
       "<Figure size 432x288 with 0 Axes>"
      ]
     },
     "metadata": {},
     "output_type": "display_data"
    }
   ],
   "source": [
    "x = np.arange(2)\n",
    "categories = ['Members', 'Non-Members']\n",
    "female_count = [total_female_members, total_female_nonmembers]\n",
    "male_count = [total_male_members, total_male_nonmembers]\n",
    "\n",
    "plt.bar(x-0.1, female_count, width = 0.2, color = '#ffc947')\n",
    "plt.bar(x+0.1, male_count, width = 0.2, color = '#2940d3')\n",
    "\n",
    "plt.xticks(x, categories, size = 10, fontsize=14)\n",
    "plt.yticks(size = 10, fontsize=14)\n",
    "plt.title('Comparison of Memberships Among Males and Females', fontsize = 14)\n",
    "plt.ylabel('Total Customers', fontsize =14)\n",
    "plt.legend([\"Females\", \"Males\"], fontsize = 12, loc=\"upper right\", bbox_to_anchor=(1.15,1))\n",
    "plt.subplots_adjust(left=0.01,\n",
    "                    bottom=0.1, \n",
    "                    right=1, \n",
    "                    top=1.2, \n",
    "                    wspace=0.9, \n",
    "                    hspace=0.9)\n",
    "\n",
    "plt.savefig(\"../visualizations/10-category-wise-total-sales.png\")\n",
    "plt.show()"
   ]
  },
  {
   "cell_type": "markdown",
   "id": "sunset-carry",
   "metadata": {
    "papermill": {
     "duration": 0.088262,
     "end_time": "2021-06-22T14:36:27.260108",
     "exception": false,
     "start_time": "2021-06-22T14:36:27.171846",
     "status": "completed"
    },
    "tags": []
   },
   "source": [
    "#### **# Result:**\n",
    "* There is a slight difference between female and male memberships.\n",
    "* The difference between male and female non-members is also small.\n",
    "* Overall, female customers prefer memberships slightly more. "
   ]
  },
  {
   "cell_type": "markdown",
   "id": "surface-governor",
   "metadata": {
    "execution": {
     "iopub.execute_input": "2021-06-21T10:42:01.633228Z",
     "iopub.status.busy": "2021-06-21T10:42:01.632836Z",
     "iopub.status.idle": "2021-06-21T10:42:01.646156Z",
     "shell.execute_reply": "2021-06-21T10:42:01.645199Z",
     "shell.execute_reply.started": "2021-06-21T10:42:01.633154Z"
    },
    "papermill": {
     "duration": 0.088124,
     "end_time": "2021-06-22T14:36:27.436958",
     "exception": false,
     "start_time": "2021-06-22T14:36:27.348834",
     "status": "completed"
    },
    "tags": []
   },
   "source": [
    "# **Question #9: Which products are more purchased by different customer segments?**"
   ]
  },
  {
   "cell_type": "code",
   "execution_count": 36,
   "id": "graphic-passage",
   "metadata": {
    "papermill": {
     "duration": 0.118323,
     "end_time": "2021-06-22T14:36:27.643910",
     "exception": false,
     "start_time": "2021-06-22T14:36:27.525587",
     "status": "completed"
    },
    "tags": []
   },
   "outputs": [
    {
     "data": {
      "text/html": [
       "<div>\n",
       "<style scoped>\n",
       "    .dataframe tbody tr th:only-of-type {\n",
       "        vertical-align: middle;\n",
       "    }\n",
       "\n",
       "    .dataframe tbody tr th {\n",
       "        vertical-align: top;\n",
       "    }\n",
       "\n",
       "    .dataframe thead th {\n",
       "        text-align: right;\n",
       "    }\n",
       "</style>\n",
       "<table border=\"1\" class=\"dataframe\">\n",
       "  <thead>\n",
       "    <tr style=\"text-align: right;\">\n",
       "      <th></th>\n",
       "      <th>Invoice ID</th>\n",
       "      <th>Branch</th>\n",
       "      <th>City</th>\n",
       "      <th>Customer type</th>\n",
       "      <th>Gender</th>\n",
       "      <th>Product line</th>\n",
       "      <th>Unit price</th>\n",
       "      <th>Quantity</th>\n",
       "      <th>Tax 5%</th>\n",
       "      <th>Total</th>\n",
       "      <th>Date</th>\n",
       "      <th>Time</th>\n",
       "      <th>Payment</th>\n",
       "      <th>cogs</th>\n",
       "      <th>gross margin percentage</th>\n",
       "      <th>gross income</th>\n",
       "      <th>Rating</th>\n",
       "      <th>Month</th>\n",
       "      <th>Day</th>\n",
       "    </tr>\n",
       "  </thead>\n",
       "  <tbody>\n",
       "    <tr>\n",
       "      <th>0</th>\n",
       "      <td>750-67-8428</td>\n",
       "      <td>A</td>\n",
       "      <td>Yangon</td>\n",
       "      <td>Member</td>\n",
       "      <td>Female</td>\n",
       "      <td>Health and beauty</td>\n",
       "      <td>74.69</td>\n",
       "      <td>7</td>\n",
       "      <td>26.1415</td>\n",
       "      <td>548.9715</td>\n",
       "      <td>2019-01-05</td>\n",
       "      <td>13:08</td>\n",
       "      <td>Ewallet</td>\n",
       "      <td>522.83</td>\n",
       "      <td>4.761905</td>\n",
       "      <td>26.1415</td>\n",
       "      <td>9.1</td>\n",
       "      <td>1</td>\n",
       "      <td>Saturday</td>\n",
       "    </tr>\n",
       "    <tr>\n",
       "      <th>1</th>\n",
       "      <td>226-31-3081</td>\n",
       "      <td>C</td>\n",
       "      <td>Naypyitaw</td>\n",
       "      <td>Normal</td>\n",
       "      <td>Female</td>\n",
       "      <td>Electronic accessories</td>\n",
       "      <td>15.28</td>\n",
       "      <td>5</td>\n",
       "      <td>3.8200</td>\n",
       "      <td>80.2200</td>\n",
       "      <td>2019-03-08</td>\n",
       "      <td>10:29</td>\n",
       "      <td>Cash</td>\n",
       "      <td>76.40</td>\n",
       "      <td>4.761905</td>\n",
       "      <td>3.8200</td>\n",
       "      <td>9.6</td>\n",
       "      <td>3</td>\n",
       "      <td>Friday</td>\n",
       "    </tr>\n",
       "    <tr>\n",
       "      <th>2</th>\n",
       "      <td>631-41-3108</td>\n",
       "      <td>A</td>\n",
       "      <td>Yangon</td>\n",
       "      <td>Normal</td>\n",
       "      <td>Male</td>\n",
       "      <td>Home and lifestyle</td>\n",
       "      <td>46.33</td>\n",
       "      <td>7</td>\n",
       "      <td>16.2155</td>\n",
       "      <td>340.5255</td>\n",
       "      <td>2019-03-03</td>\n",
       "      <td>13:23</td>\n",
       "      <td>Credit card</td>\n",
       "      <td>324.31</td>\n",
       "      <td>4.761905</td>\n",
       "      <td>16.2155</td>\n",
       "      <td>7.4</td>\n",
       "      <td>3</td>\n",
       "      <td>Sunday</td>\n",
       "    </tr>\n",
       "    <tr>\n",
       "      <th>3</th>\n",
       "      <td>123-19-1176</td>\n",
       "      <td>A</td>\n",
       "      <td>Yangon</td>\n",
       "      <td>Member</td>\n",
       "      <td>Male</td>\n",
       "      <td>Health and beauty</td>\n",
       "      <td>58.22</td>\n",
       "      <td>8</td>\n",
       "      <td>23.2880</td>\n",
       "      <td>489.0480</td>\n",
       "      <td>2019-01-27</td>\n",
       "      <td>20:33</td>\n",
       "      <td>Ewallet</td>\n",
       "      <td>465.76</td>\n",
       "      <td>4.761905</td>\n",
       "      <td>23.2880</td>\n",
       "      <td>8.4</td>\n",
       "      <td>1</td>\n",
       "      <td>Sunday</td>\n",
       "    </tr>\n",
       "    <tr>\n",
       "      <th>4</th>\n",
       "      <td>373-73-7910</td>\n",
       "      <td>A</td>\n",
       "      <td>Yangon</td>\n",
       "      <td>Normal</td>\n",
       "      <td>Male</td>\n",
       "      <td>Sports and travel</td>\n",
       "      <td>86.31</td>\n",
       "      <td>7</td>\n",
       "      <td>30.2085</td>\n",
       "      <td>634.3785</td>\n",
       "      <td>2019-02-08</td>\n",
       "      <td>10:37</td>\n",
       "      <td>Ewallet</td>\n",
       "      <td>604.17</td>\n",
       "      <td>4.761905</td>\n",
       "      <td>30.2085</td>\n",
       "      <td>5.3</td>\n",
       "      <td>2</td>\n",
       "      <td>Friday</td>\n",
       "    </tr>\n",
       "  </tbody>\n",
       "</table>\n",
       "</div>"
      ],
      "text/plain": [
       "    Invoice ID Branch       City Customer type  Gender  \\\n",
       "0  750-67-8428      A     Yangon        Member  Female   \n",
       "1  226-31-3081      C  Naypyitaw        Normal  Female   \n",
       "2  631-41-3108      A     Yangon        Normal    Male   \n",
       "3  123-19-1176      A     Yangon        Member    Male   \n",
       "4  373-73-7910      A     Yangon        Normal    Male   \n",
       "\n",
       "             Product line  Unit price  Quantity   Tax 5%     Total       Date  \\\n",
       "0       Health and beauty       74.69         7  26.1415  548.9715 2019-01-05   \n",
       "1  Electronic accessories       15.28         5   3.8200   80.2200 2019-03-08   \n",
       "2      Home and lifestyle       46.33         7  16.2155  340.5255 2019-03-03   \n",
       "3       Health and beauty       58.22         8  23.2880  489.0480 2019-01-27   \n",
       "4       Sports and travel       86.31         7  30.2085  634.3785 2019-02-08   \n",
       "\n",
       "    Time      Payment    cogs  gross margin percentage  gross income  Rating  \\\n",
       "0  13:08      Ewallet  522.83                 4.761905       26.1415     9.1   \n",
       "1  10:29         Cash   76.40                 4.761905        3.8200     9.6   \n",
       "2  13:23  Credit card  324.31                 4.761905       16.2155     7.4   \n",
       "3  20:33      Ewallet  465.76                 4.761905       23.2880     8.4   \n",
       "4  10:37      Ewallet  604.17                 4.761905       30.2085     5.3   \n",
       "\n",
       "   Month       Day  \n",
       "0      1  Saturday  \n",
       "1      3    Friday  \n",
       "2      3    Sunday  \n",
       "3      1    Sunday  \n",
       "4      2    Friday  "
      ]
     },
     "execution_count": 36,
     "metadata": {},
     "output_type": "execute_result"
    }
   ],
   "source": [
    "supermarket_ram.head()"
   ]
  },
  {
   "cell_type": "markdown",
   "id": "comparative-candidate",
   "metadata": {
    "papermill": {
     "duration": 0.088505,
     "end_time": "2021-06-22T14:36:27.822258",
     "exception": false,
     "start_time": "2021-06-22T14:36:27.733753",
     "status": "completed"
    },
    "tags": []
   },
   "source": [
    "#### **A. Forming Product Wise Dataframes**"
   ]
  },
  {
   "cell_type": "code",
   "execution_count": 37,
   "id": "rubber-bridges",
   "metadata": {
    "papermill": {
     "duration": 0.158805,
     "end_time": "2021-06-22T14:36:28.070826",
     "exception": false,
     "start_time": "2021-06-22T14:36:27.912021",
     "status": "completed"
    },
    "tags": []
   },
   "outputs": [
    {
     "name": "stdout",
     "output_type": "stream",
     "text": [
      "total_female_electronic_sales: 27102.022499999995\n",
      "total_male_electronic_sales: 27235.509000000005\n",
      "total_member_electronic_sales: 24498.494999999995\n",
      "total_nonmember_electronic_sales: 29839.0365\n",
      "\n",
      "total_female_fashion_sales: 30437.399999999998\n",
      "total_male_fashion_sales: 23868.494999999995\n",
      "total_member_fashion_sales: 26323.962\n",
      "total_nonmember_fashion_sales: 27981.933\n",
      "\n",
      "total_female_food_sales: 33170.9175\n",
      "total_male_food_sales: 22973.9265\n",
      "total_member_food_sales: 31357.620000000003\n",
      "total_nonmember_food_sales: 24787.224000000002\n",
      "\n",
      "total_female_health_sales: 18560.986500000003\n",
      "total_male_health_sales: 30632.7525\n",
      "total_member_health_sales: 25831.0395\n",
      "total_nonmember_health_sales: 23362.6995\n",
      "\n",
      "total_female_home_sales: 30036.877500000006\n",
      "total_male_home_sales: 23825.0355\n",
      "total_member_home_sales: 27978.027\n",
      "total_nonmember_home_sales: 25883.886000000006\n",
      "\n",
      "total_female_sports_sales: 28574.720999999998\n",
      "total_male_sports_sales: 26548.1055\n",
      "total_member_sports_sales: 28234.3005\n",
      "total_nonmember_sports_sales: 26888.526\n"
     ]
    }
   ],
   "source": [
    "# 1. Electronics Accessories\n",
    "electronic_filter = (supermarket_ram['Product line'] == 'Electronic accessories')\n",
    "product_electronic_df = supermarket_ram[electronic_filter]\n",
    "\n",
    "female_filter = (product_electronic_df['Gender'] == 'Female')\n",
    "product_electronic_female_df = product_electronic_df[female_filter]\n",
    "total_female_electronic_sales = product_electronic_female_df['Total'].sum()\n",
    "print('total_female_electronic_sales: {}'.format(total_female_electronic_sales))\n",
    "\n",
    "male_filter = (product_electronic_df['Gender'] == 'Male')\n",
    "product_electronic_male_df = product_electronic_df[male_filter]\n",
    "total_male_electronic_sales = product_electronic_male_df['Total'].sum()\n",
    "print('total_male_electronic_sales: {}'.format(total_male_electronic_sales))\n",
    "\n",
    "\n",
    "member_filter = (product_electronic_df['Customer type'] == 'Member')\n",
    "product_electronic_member_df = product_electronic_df[member_filter]\n",
    "total_member_electronic_sales = product_electronic_member_df['Total'].sum()\n",
    "print('total_member_electronic_sales: {}'.format(total_member_electronic_sales))\n",
    "\n",
    "nonmember_filter = (product_electronic_df['Customer type'] == 'Normal')\n",
    "product_electronic_nonmember_df = product_electronic_df[nonmember_filter]\n",
    "total_nonmember_electronic_sales = product_electronic_nonmember_df['Total'].sum()\n",
    "print('total_nonmember_electronic_sales: {}'.format(total_nonmember_electronic_sales))\n",
    "\n",
    "\n",
    "# 2. Fashion Accessories\n",
    "fashion_filter = (supermarket_ram['Product line'] == 'Fashion accessories')\n",
    "product_fashion_df = supermarket_ram[fashion_filter]\n",
    "\n",
    "female_filter = (product_fashion_df['Gender'] == 'Female')\n",
    "product_fashion_female_df = product_fashion_df[female_filter]\n",
    "total_female_fashion_sales = product_fashion_female_df['Total'].sum()\n",
    "print('\\ntotal_female_fashion_sales: {}'.format(total_female_fashion_sales))\n",
    "\n",
    "male_filter = (product_fashion_df['Gender'] == 'Male')\n",
    "product_fashion_male_df = product_fashion_df[male_filter]\n",
    "total_male_fashion_sales = product_fashion_male_df['Total'].sum()\n",
    "print('total_male_fashion_sales: {}'.format(total_male_fashion_sales))\n",
    "\n",
    "member_filter = (product_fashion_df['Customer type'] == 'Member')\n",
    "product_fashion_member_df = product_fashion_df[member_filter]\n",
    "total_member_fashion_sales = product_fashion_member_df['Total'].sum()\n",
    "print('total_member_fashion_sales: {}'.format(total_member_fashion_sales))\n",
    "\n",
    "nonmember_filter = (product_fashion_df['Customer type'] == 'Normal')\n",
    "product_fashion_nonmember_df = product_fashion_df[nonmember_filter]\n",
    "total_nonmember_fashion_sales = product_fashion_nonmember_df['Total'].sum()\n",
    "print('total_nonmember_fashion_sales: {}'.format(total_nonmember_fashion_sales))\n",
    "\n",
    "\n",
    "# 3. Food and beverages\n",
    "food_filter = (supermarket_ram['Product line'] == 'Food and beverages')\n",
    "product_food_df = supermarket_ram[food_filter]\n",
    "\n",
    "female_filter = (product_food_df['Gender'] == 'Female')\n",
    "product_food_female_df = product_food_df[female_filter]\n",
    "total_female_food_sales = product_food_female_df['Total'].sum()\n",
    "print('\\ntotal_female_food_sales: {}'.format(total_female_food_sales))\n",
    "\n",
    "male_filter = (product_food_df['Gender'] == 'Male')\n",
    "product_food_male_df = product_food_df[male_filter]\n",
    "total_male_food_sales = product_food_male_df['Total'].sum()\n",
    "print('total_male_food_sales: {}'.format(total_male_food_sales))\n",
    "\n",
    "member_filter = (product_food_df['Customer type'] == 'Member')\n",
    "product_food_member_df = product_food_df[member_filter]\n",
    "total_member_food_sales = product_food_member_df['Total'].sum()\n",
    "print('total_member_food_sales: {}'.format(total_member_food_sales))\n",
    "\n",
    "nonmember_filter = (product_food_df['Customer type'] == 'Normal')\n",
    "product_food_nonmember_df = product_food_df[nonmember_filter]\n",
    "total_nonmember_food_sales = product_food_nonmember_df['Total'].sum()\n",
    "print('total_nonmember_food_sales: {}'.format(total_nonmember_food_sales))\n",
    "\n",
    "# 4. Health and beauty\n",
    "health_filter = (supermarket_ram['Product line'] == 'Health and beauty')\n",
    "product_health_df = supermarket_ram[health_filter]\n",
    "\n",
    "female_filter = (product_health_df['Gender'] == 'Female')\n",
    "product_health_female_df = product_health_df[female_filter]\n",
    "total_female_health_sales = product_health_female_df['Total'].sum()\n",
    "print('\\ntotal_female_health_sales: {}'.format(total_female_health_sales))\n",
    "\n",
    "male_filter = (product_health_df['Gender'] == 'Male')\n",
    "product_health_male_df = product_health_df[male_filter]\n",
    "total_male_health_sales = product_health_male_df['Total'].sum()\n",
    "print('total_male_health_sales: {}'.format(total_male_health_sales))\n",
    "\n",
    "member_filter = (product_health_df['Customer type'] == 'Member')\n",
    "product_health_member_df = product_health_df[member_filter]\n",
    "total_member_health_sales = product_health_member_df['Total'].sum()\n",
    "print('total_member_health_sales: {}'.format(total_member_health_sales))\n",
    "\n",
    "nonmember_filter = (product_health_df['Customer type'] == 'Normal')\n",
    "product_health_nonmember_df = product_health_df[nonmember_filter]\n",
    "total_nonmember_health_sales = product_health_nonmember_df['Total'].sum()\n",
    "print('total_nonmember_health_sales: {}'.format(total_nonmember_health_sales))\n",
    "\n",
    "\n",
    "# 5. Home and lifestyle\n",
    "home_filter = (supermarket_ram['Product line'] == 'Home and lifestyle')\n",
    "product_home_df = supermarket_ram[home_filter]\n",
    "\n",
    "female_filter = (product_home_df['Gender'] == 'Female')\n",
    "product_home_female_df = product_home_df[female_filter]\n",
    "total_female_home_sales = product_home_female_df['Total'].sum()\n",
    "print('\\ntotal_female_home_sales: {}'.format(total_female_home_sales))\n",
    "\n",
    "male_filter = (product_home_df['Gender'] == 'Male')\n",
    "product_home_male_df = product_home_df[male_filter]\n",
    "total_male_home_sales = product_home_male_df['Total'].sum()\n",
    "print('total_male_home_sales: {}'.format(total_male_home_sales))\n",
    "\n",
    "member_filter = (product_home_df['Customer type'] == 'Member')\n",
    "product_home_member_df = product_home_df[member_filter]\n",
    "total_member_home_sales = product_home_member_df['Total'].sum()\n",
    "print('total_member_home_sales: {}'.format(total_member_home_sales))\n",
    "\n",
    "nonmember_filter = (product_home_df['Customer type'] == 'Normal')\n",
    "product_home_nonmember_df = product_home_df[nonmember_filter]\n",
    "total_nonmember_home_sales = product_home_nonmember_df['Total'].sum()\n",
    "print('total_nonmember_home_sales: {}'.format(total_nonmember_home_sales))\n",
    "\n",
    "# 6. Sports and travel\n",
    "sports_filter = (supermarket_ram['Product line'] == 'Sports and travel')\n",
    "product_sports_df = supermarket_ram[sports_filter]\n",
    "\n",
    "female_filter = (product_sports_df['Gender'] == 'Female')\n",
    "product_sports_female_df = product_sports_df[female_filter]\n",
    "total_female_sports_sales = product_sports_female_df['Total'].sum()\n",
    "print('\\ntotal_female_sports_sales: {}'.format(total_female_sports_sales))\n",
    "\n",
    "male_filter = (product_sports_df['Gender'] == 'Male')\n",
    "product_sports_male_df = product_sports_df[male_filter]\n",
    "total_male_sports_sales = product_sports_male_df['Total'].sum()\n",
    "print('total_male_sports_sales: {}'.format(total_male_sports_sales))\n",
    "\n",
    "member_filter = (product_sports_df['Customer type'] == 'Member')\n",
    "product_sports_member_df = product_sports_df[member_filter]\n",
    "total_member_sports_sales = product_sports_member_df['Total'].sum()\n",
    "print('total_member_sports_sales: {}'.format(total_member_sports_sales))\n",
    "\n",
    "nonmember_filter = (product_sports_df['Customer type'] == 'Normal')\n",
    "product_sports_nonmember_df = product_sports_df[nonmember_filter]\n",
    "total_nonmember_sports_sales = product_sports_nonmember_df['Total'].sum()\n",
    "print('total_nonmember_sports_sales: {}'.format(total_nonmember_sports_sales))"
   ]
  },
  {
   "cell_type": "code",
   "execution_count": 38,
   "id": "gorgeous-treasurer",
   "metadata": {
    "papermill": {
     "duration": 0.701393,
     "end_time": "2021-06-22T14:36:28.861703",
     "exception": false,
     "start_time": "2021-06-22T14:36:28.160310",
     "status": "completed"
    },
    "tags": []
   },
   "outputs": [
    {
     "data": {
      "image/png": "[encoded data removed]",
      "text/plain": [
       "<Figure size 1188x468 with 2 Axes>"
      ]
     },
     "metadata": {},
     "output_type": "display_data"
    },
    {
     "data": {
      "text/plain": [
       "<Figure size 432x288 with 0 Axes>"
      ]
     },
     "metadata": {},
     "output_type": "display_data"
    }
   ],
   "source": [
    "# Declaring plotting variables \n",
    "x = np.arange(6)\n",
    "female_product_sales = [total_female_electronic_sales, total_female_fashion_sales, total_female_food_sales, total_female_health_sales, total_female_home_sales, total_female_sports_sales]\n",
    "male_product_sales = [total_male_electronic_sales, total_male_fashion_sales, total_male_food_sales, total_male_health_sales, total_male_home_sales, total_male_sports_sales]\n",
    "\n",
    "member_product_sales = [total_member_electronic_sales, total_member_fashion_sales, total_member_food_sales, total_member_health_sales, total_member_home_sales, total_member_sports_sales]\n",
    "nonmember_product_sales = [total_nonmember_electronic_sales, total_nonmember_fashion_sales, total_nonmember_food_sales, total_nonmember_health_sales, total_nonmember_home_sales, total_nonmember_sports_sales]\n",
    "\n",
    "products = ['Electronic \\n accessories', 'Fashion \\n accessories', 'Food and \\n beverages', 'Health and \\n beauty', 'Home and \\n lifestyle', 'Sports and \\n travel']\n",
    "\n",
    "fig, ax = plt.subplots(1, 2, figsize=(16.5, 6.5))\n",
    "\n",
    "# Subplotting (1,1)\n",
    "ax[0].bar(x-0.2, female_product_sales, width = 0.4, color = '#ffc947')\n",
    "ax[0].bar(x+0.2, male_product_sales, width = 0.4, color = '#2940d3')\n",
    "\n",
    "ax[0].set_xticks(x)\n",
    "ax[0].set_xticklabels(products, fontsize=13, rotation = '0')\n",
    "ax[0].set_title('Product Wise Sales of Females and Males', fontsize = 14)\n",
    "ax[0].set_ylabel('Total Sales', fontsize =14)\n",
    "ax[0].legend([\"Females\", \"Males\"], fontsize = 12)\n",
    "\n",
    "\n",
    "# Subplotting (1,2)\n",
    "ax[1].bar(x-0.2, member_product_sales, width = 0.4, color = '#ffc947')\n",
    "ax[1].bar(x+0.2, nonmember_product_sales, width = 0.4, color = '#2940d3')\n",
    "\n",
    "ax[1].set_xticks(x)\n",
    "ax[1].set_xticklabels(products, fontsize=13, rotation = '0')\n",
    "ax[1].set_title('Product Wise Sales of Members and Non-Members', fontsize = 14)\n",
    "ax[1].set_ylabel('Total Sales', fontsize =14)\n",
    "ax[1].legend([\"Members\", \"Non-Members\"], fontsize = 12)\n",
    "\n",
    "fig.tight_layout()\n",
    "\n",
    "plt.savefig(\"../visualizations/11-product-wise-categorical-sales.png\")\n",
    "plt.show()"
   ]
  },
  {
   "cell_type": "markdown",
   "id": "alternate-groove",
   "metadata": {
    "papermill": {
     "duration": 0.091445,
     "end_time": "2021-06-22T14:36:29.045133",
     "exception": false,
     "start_time": "2021-06-22T14:36:28.953688",
     "status": "completed"
    },
    "tags": []
   },
   "source": [
    "#### **# Result (Based on Gender):**\n",
    "* \"Electronic Accessories\" and \"Sports and Travel\" items are almost equally purchased by males and females.\n",
    "* Female customers contribute larger amount of sales from \"Fashion Accessories\", \"Food and Beverages\" and \"Home and Lifestyle\".\n",
    "* Male customers contribute larger amount of sales from \"Health adn Beauty\"."
   ]
  },
  {
   "cell_type": "markdown",
   "id": "experimental-march",
   "metadata": {
    "papermill": {
     "duration": 0.090852,
     "end_time": "2021-06-22T14:36:29.227154",
     "exception": false,
     "start_time": "2021-06-22T14:36:29.136302",
     "status": "completed"
    },
    "tags": []
   },
   "source": [
    "#### **# Result (Based on Membership):**\n",
    "* \"Fashion Accessories\" \"Health and Beauty\", \"Home and Lifestyle\" and \"Sports and Travel\" items are almost equally purchased by Members and Non-Members.\n",
    "* Non-Members contribute larger amount of sales from \"Electronic Accessories\".\n",
    "* Members contribute larger amount of sales from \"Food and Beverages\"."
   ]
  },
  {
   "cell_type": "markdown",
   "id": "fourth-bibliography",
   "metadata": {
    "papermill": {
     "duration": 0.090448,
     "end_time": "2021-06-22T14:36:29.408985",
     "exception": false,
     "start_time": "2021-06-22T14:36:29.318537",
     "status": "completed"
    },
    "tags": []
   },
   "source": [
    "# **Question #10: What is the preferred payment for different customers?**"
   ]
  },
  {
   "cell_type": "markdown",
   "id": "equipped-intent",
   "metadata": {
    "papermill": {
     "duration": 0.090481,
     "end_time": "2021-06-22T14:36:29.589581",
     "exception": false,
     "start_time": "2021-06-22T14:36:29.499100",
     "status": "completed"
    },
    "tags": []
   },
   "source": [
    "#### **A. Finding Different Types of Payments (Not Given in the Dataset)** "
   ]
  },
  {
   "cell_type": "code",
   "execution_count": 39,
   "id": "animal-shower",
   "metadata": {
    "papermill": {
     "duration": 0.100966,
     "end_time": "2021-06-22T14:36:29.783435",
     "exception": false,
     "start_time": "2021-06-22T14:36:29.682469",
     "status": "completed"
    },
    "tags": []
   },
   "outputs": [
    {
     "data": {
      "text/plain": [
       "['Cash', 'Credit card', 'Ewallet']"
      ]
     },
     "execution_count": 39,
     "metadata": {},
     "output_type": "execute_result"
    }
   ],
   "source": [
    "supermarket_payment = [Payment for Payment, df in supermarket_ram.groupby('Payment')]\n",
    "supermarket_payment"
   ]
  },
  {
   "cell_type": "markdown",
   "id": "covered-balloon",
   "metadata": {
    "papermill": {
     "duration": 0.092279,
     "end_time": "2021-06-22T14:36:29.966537",
     "exception": false,
     "start_time": "2021-06-22T14:36:29.874258",
     "status": "completed"
    },
    "tags": []
   },
   "source": [
    "#### **B. Forming Dataset for Members and Non-Members**"
   ]
  },
  {
   "cell_type": "code",
   "execution_count": 40,
   "id": "pursuant-norwegian",
   "metadata": {
    "papermill": {
     "duration": 0.106024,
     "end_time": "2021-06-22T14:36:30.164516",
     "exception": false,
     "start_time": "2021-06-22T14:36:30.058492",
     "status": "completed"
    },
    "tags": []
   },
   "outputs": [],
   "source": [
    "member_payment_df = member_df.groupby('Payment').sum()\n",
    "member_payment = member_payment_df['Total']\n",
    "\n",
    "nonmember_payment_df = nonmember_df.groupby('Payment').sum()\n",
    "nonmember_payment = nonmember_payment_df['Total']\n",
    "\n",
    "payment_legends = ['Cash', 'Credit card', 'Ewallet']"
   ]
  },
  {
   "cell_type": "markdown",
   "id": "built-hayes",
   "metadata": {
    "papermill": {
     "duration": 0.090962,
     "end_time": "2021-06-22T14:36:30.346274",
     "exception": false,
     "start_time": "2021-06-22T14:36:30.255312",
     "status": "completed"
    },
    "tags": []
   },
   "source": [
    "#### **C. Forming Dataset for Females and Males**"
   ]
  },
  {
   "cell_type": "code",
   "execution_count": 41,
   "id": "saving-moldova",
   "metadata": {
    "papermill": {
     "duration": 0.117966,
     "end_time": "2021-06-22T14:36:30.555028",
     "exception": false,
     "start_time": "2021-06-22T14:36:30.437062",
     "status": "completed"
    },
    "tags": []
   },
   "outputs": [
    {
     "data": {
      "text/html": [
       "<div>\n",
       "<style scoped>\n",
       "    .dataframe tbody tr th:only-of-type {\n",
       "        vertical-align: middle;\n",
       "    }\n",
       "\n",
       "    .dataframe tbody tr th {\n",
       "        vertical-align: top;\n",
       "    }\n",
       "\n",
       "    .dataframe thead th {\n",
       "        text-align: right;\n",
       "    }\n",
       "</style>\n",
       "<table border=\"1\" class=\"dataframe\">\n",
       "  <thead>\n",
       "    <tr style=\"text-align: right;\">\n",
       "      <th></th>\n",
       "      <th>Unit price</th>\n",
       "      <th>Quantity</th>\n",
       "      <th>Tax 5%</th>\n",
       "      <th>Total</th>\n",
       "      <th>cogs</th>\n",
       "      <th>gross margin percentage</th>\n",
       "      <th>gross income</th>\n",
       "      <th>Rating</th>\n",
       "      <th>Month</th>\n",
       "    </tr>\n",
       "    <tr>\n",
       "      <th>Payment</th>\n",
       "      <th></th>\n",
       "      <th></th>\n",
       "      <th></th>\n",
       "      <th></th>\n",
       "      <th></th>\n",
       "      <th></th>\n",
       "      <th></th>\n",
       "      <th></th>\n",
       "      <th></th>\n",
       "    </tr>\n",
       "  </thead>\n",
       "  <tbody>\n",
       "    <tr>\n",
       "      <th>Cash</th>\n",
       "      <td>10123.74</td>\n",
       "      <td>1004</td>\n",
       "      <td>2834.010</td>\n",
       "      <td>59514.210</td>\n",
       "      <td>56680.2</td>\n",
       "      <td>847.619048</td>\n",
       "      <td>2834.010</td>\n",
       "      <td>1278.2</td>\n",
       "      <td>334</td>\n",
       "    </tr>\n",
       "    <tr>\n",
       "      <th>Credit card</th>\n",
       "      <td>8552.67</td>\n",
       "      <td>928</td>\n",
       "      <td>2547.545</td>\n",
       "      <td>53498.445</td>\n",
       "      <td>50950.9</td>\n",
       "      <td>776.190476</td>\n",
       "      <td>2547.545</td>\n",
       "      <td>1123.1</td>\n",
       "      <td>325</td>\n",
       "    </tr>\n",
       "    <tr>\n",
       "      <th>Ewallet</th>\n",
       "      <td>9010.83</td>\n",
       "      <td>937</td>\n",
       "      <td>2612.870</td>\n",
       "      <td>54870.270</td>\n",
       "      <td>52257.4</td>\n",
       "      <td>761.904762</td>\n",
       "      <td>2612.870</td>\n",
       "      <td>1087.9</td>\n",
       "      <td>328</td>\n",
       "    </tr>\n",
       "  </tbody>\n",
       "</table>\n",
       "</div>"
      ],
      "text/plain": [
       "             Unit price  Quantity    Tax 5%      Total     cogs  \\\n",
       "Payment                                                           \n",
       "Cash           10123.74      1004  2834.010  59514.210  56680.2   \n",
       "Credit card     8552.67       928  2547.545  53498.445  50950.9   \n",
       "Ewallet         9010.83       937  2612.870  54870.270  52257.4   \n",
       "\n",
       "             gross margin percentage  gross income  Rating  Month  \n",
       "Payment                                                            \n",
       "Cash                      847.619048      2834.010  1278.2    334  \n",
       "Credit card               776.190476      2547.545  1123.1    325  \n",
       "Ewallet                   761.904762      2612.870  1087.9    328  "
      ]
     },
     "execution_count": 41,
     "metadata": {},
     "output_type": "execute_result"
    }
   ],
   "source": [
    "female_payment_df = female_df.groupby('Payment').sum()\n",
    "female_payment = female_payment_df['Total']\n",
    "\n",
    "male_payment_df = male_df.groupby('Payment').sum()\n",
    "male_payment = male_payment_df['Total']\n",
    "\n",
    "female_payment_df"
   ]
  },
  {
   "cell_type": "markdown",
   "id": "worst-validation",
   "metadata": {
    "papermill": {
     "duration": 0.090284,
     "end_time": "2021-06-22T14:36:30.738087",
     "exception": false,
     "start_time": "2021-06-22T14:36:30.647803",
     "status": "completed"
    },
    "tags": []
   },
   "source": [
    "#### **D. Plotting Payment Preferences for Different Customer Segments**"
   ]
  },
  {
   "cell_type": "code",
   "execution_count": 42,
   "id": "figured-polish",
   "metadata": {
    "papermill": {
     "duration": 0.527339,
     "end_time": "2021-06-22T14:36:31.356100",
     "exception": false,
     "start_time": "2021-06-22T14:36:30.828761",
     "status": "completed"
    },
    "tags": []
   },
   "outputs": [
    {
     "data": {
      "image/png": "[encoded data removed]",
      "text/plain": [
       "<Figure size 1044x396 with 2 Axes>"
      ]
     },
     "metadata": {},
     "output_type": "display_data"
    },
    {
     "data": {
      "text/plain": [
       "<Figure size 432x288 with 0 Axes>"
      ]
     },
     "metadata": {},
     "output_type": "display_data"
    }
   ],
   "source": [
    "x = np.arange(3)\n",
    "fig, ax = plt.subplots(1, 2, figsize=(14.5, 5.5))\n",
    "ax[0].bar(x-0.2, member_payment, width = 0.4, color = '#ffc947')\n",
    "ax[0].bar(x+0.2, nonmember_payment, width = 0.4, color = '#2940d3')\n",
    "ax[0].set_xticks(x)\n",
    "ax[0].set_xticklabels(supermarket_payment, fontsize=12)\n",
    "ax[0].set_title('Comparison of Payment of Members and Non-Members', fontsize = 14)\n",
    "ax[0].set_ylabel('Total Sales', fontsize =14)\n",
    "ax[0].legend([\"Members\", 'Non-Members'], fontsize = 12, loc = \"upper right\", bbox_to_anchor=(1.24,1))\n",
    "\n",
    "ax[1].bar(x-0.2, female_payment, width = 0.4, color = '#ffc947')\n",
    "ax[1].bar(x+0.2, male_payment, width = 0.4, color = '#2940d3')\n",
    "ax[1].set_xticks(x)\n",
    "ax[1].set_xticklabels(supermarket_payment, fontsize=12)\n",
    "ax[1].set_title('Comparison of Payment of Males and Females', fontsize = 14)\n",
    "ax[1].set_ylabel('Total Sales', fontsize =14)\n",
    "ax[1].legend([\"Females\", 'Males'], fontsize = 12, loc=\"upper right\",bbox_to_anchor=(1.15,1))\n",
    "fig.tight_layout()\n",
    "\n",
    "plt.show()\n",
    "plt.savefig(\"../visualizations/12-payment-method-preferences.png\")"
   ]
  },
  {
   "cell_type": "markdown",
   "id": "technological-justice",
   "metadata": {
    "papermill": {
     "duration": 0.092626,
     "end_time": "2021-06-22T14:36:31.541557",
     "exception": false,
     "start_time": "2021-06-22T14:36:31.448931",
     "status": "completed"
    },
    "tags": []
   },
   "source": [
    "#### **# Result (Based on Memberships):** \n",
    "* All payment methods are significantly used.\n",
    "* Cash payments methods are almost equally used among members and non-members. \n",
    "* Members use more credit card payments.\n",
    "* Non-members use slightly larger e-wallet payments. "
   ]
  },
  {
   "cell_type": "markdown",
   "id": "apart-lying",
   "metadata": {
    "papermill": {
     "duration": 0.09378,
     "end_time": "2021-06-22T14:36:31.728683",
     "exception": false,
     "start_time": "2021-06-22T14:36:31.634903",
     "status": "completed"
    },
    "tags": []
   },
   "source": [
    "#### **# Result (Based on Gender):** \n",
    "* All payment methods are significantly used.\n",
    "* Cash and credit card payments methods are more used by females. \n",
    "* Ewallet payment is almost equally used by both the genders  "
   ]
  }
 ],
 "metadata": {
  "kernelspec": {
   "display_name": "Python 3 (ipykernel)",
   "language": "python",
   "name": "python3"
  },
  "language_info": {
   "codemirror_mode": {
    "name": "ipython",
    "version": 3
   },
   "file_extension": ".py",
   "mimetype": "text/x-python",
   "name": "python",
   "nbconvert_exporter": "python",
   "pygments_lexer": "ipython3",
   "version": "3.9.7"
  },
  "papermill": {
   "default_parameters": {},
   "duration": 32.931832,
   "end_time": "2021-06-22T14:36:33.633172",
   "environment_variables": {},
   "exception": null,
   "input_path": "__notebook__.ipynb",
   "output_path": "__notebook__.ipynb",
   "parameters": {},
   "start_time": "2021-06-22T14:36:00.701340",
   "version": "2.3.3"
  }
 },
 "nbformat": 4,
 "nbformat_minor": 5
}
